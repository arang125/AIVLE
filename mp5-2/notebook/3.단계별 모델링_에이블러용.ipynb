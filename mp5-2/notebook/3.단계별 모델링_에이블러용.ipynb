{
  "cells": [
    {
      "cell_type": "markdown",
      "metadata": {
        "id": "view-in-github",
        "colab_type": "text"
      },
      "source": [
        "<a href=\"https://colab.research.google.com/github/NarciSource/Aivle--MiniProject-5-2/blob/main/3.%EB%8B%A8%EA%B3%84%EB%B3%84%20%EB%AA%A8%EB%8D%B8%EB%A7%81_%EC%97%90%EC%9D%B4%EB%B8%94%EB%9F%AC%EC%9A%A9.ipynb\" target=\"_parent\"><img src=\"https://colab.research.google.com/assets/colab-badge.svg\" alt=\"Open In Colab\"/></a>"
      ]
    },
    {
      "cell_type": "markdown",
      "metadata": {
        "id": "NbI_RoQ9AP5r"
      },
      "source": [
        "#**스마트폰 센서 데이터 기반 모션 분류**\n",
        "# 단계3 : 단계별 모델링\n"
      ]
    },
    {
      "cell_type": "markdown",
      "metadata": {
        "id": "D67PlTu4JGAY"
      },
      "source": [
        "## 0.미션"
      ]
    },
    {
      "cell_type": "markdown",
      "metadata": {
        "id": "wc1FlP4E09oQ"
      },
      "source": [
        "단계별로 나눠서 모델링을 수행하고자 합니다.  \n",
        "\n",
        "* 단계1 : 정적(0), 동적(1) 행동 분류 모델 생성\n",
        "* 단계2 : 세부 동작에 대한 분류모델 생성\n",
        "    * 단계1 모델에서 0으로 예측 -> 정적 행동 3가지 분류 모델링\n",
        "    * 단계1 모델에서 1으로 예측 -> 동적 행동 3가지 분류 모델링\n",
        "* 모델 통합\n",
        "    * 두 단계 모델을 통합하고, 새로운 데이터에 대해서 최종 예측결과와 성능평가가 나오도록 함수로 만들기\n",
        "* 성능 비교\n",
        "    * 기본 모델링의 성능과 비교\n",
        "    * 모든 모델링은 [다양한 알고리즘 + 성능 튜닝]을 수행해야 합니다.\n"
      ]
    },
    {
      "cell_type": "markdown",
      "metadata": {
        "id": "ZSRC8sG-X5DG"
      },
      "source": [
        "## 1.환경설정"
      ]
    },
    {
      "cell_type": "markdown",
      "metadata": {
        "id": "gIE0bM9rX5DH"
      },
      "source": [
        "### (1) 라이브러리 불러오기"
      ]
    },
    {
      "cell_type": "markdown",
      "metadata": {
        "id": "I_rCs78QJZmI"
      },
      "source": [
        "* 세부 요구사항\n",
        "    - 기본적으로 필요한 라이브러리를 import 하도록 코드가 작성되어 있습니다.\n",
        "    - 필요하다고 판단되는 라이브러리를 추가하세요."
      ]
    },
    {
      "cell_type": "code",
      "source": [
        "import warnings\n",
        "warnings.filterwarnings(action='ignore')\n",
        "\n",
        "from google.colab import drive\n",
        "drive.mount('/content/drive')"
      ],
      "metadata": {
        "colab": {
          "base_uri": "https://localhost:8080/"
        },
        "id": "CVAUKwEXgcTa",
        "outputId": "23f17cad-b02e-4aa3-829e-ca214f9f2352"
      },
      "execution_count": null,
      "outputs": [
        {
          "output_type": "stream",
          "name": "stdout",
          "text": [
            "Drive already mounted at /content/drive; to attempt to forcibly remount, call drive.mount(\"/content/drive\", force_remount=True).\n"
          ]
        }
      ]
    },
    {
      "cell_type": "code",
      "execution_count": null,
      "metadata": {
        "id": "nTVo8GkVX5DI"
      },
      "outputs": [],
      "source": [
        "import pandas as pd\n",
        "import numpy as np\n",
        "import matplotlib.pyplot as plt\n",
        "import seaborn as sns\n",
        "\n",
        "# 필요하다고 판단되는 라이브러리를 추가하세요."
      ]
    },
    {
      "cell_type": "code",
      "source": [
        "# 변수의 특성 중요도 계산하기\n",
        "def plot_feature_importance(importance, names, result_only = False, topn = 'all'):\n",
        "    feature_importance = np.array(importance)\n",
        "    feature_name = np.array(names)\n",
        "\n",
        "    data={'feature_name':feature_name,'feature_importance':feature_importance}\n",
        "    fi_temp = pd.DataFrame(data)\n",
        "\n",
        "    #변수의 특성 중요도 순으로 정렬하기\n",
        "    fi_temp.sort_values(by=['feature_importance'], ascending=False,inplace=True)\n",
        "    fi_temp.reset_index(drop=True, inplace = True)\n",
        "\n",
        "    if topn == 'all' :\n",
        "        fi_df = fi_temp.copy()\n",
        "    else :\n",
        "        fi_df = fi_temp.iloc[:topn]\n",
        "\n",
        "    #변수의 특성 중요도 그래프로 그리기\n",
        "    if result_only == False :\n",
        "        plt.figure(figsize=(10,20))\n",
        "        sns.barplot(x='feature_importance', y='feature_name', data = fi_df)\n",
        "\n",
        "        plt.xlabel('importance')\n",
        "        plt.ylabel('feature name')\n",
        "        plt.grid()\n",
        "\n",
        "    return fi_df"
      ],
      "metadata": {
        "id": "GUfJ4EEciap_"
      },
      "execution_count": null,
      "outputs": []
    },
    {
      "cell_type": "markdown",
      "metadata": {
        "id": "CJgfVor0X5DJ"
      },
      "source": [
        "### (2) 데이터 불러오기"
      ]
    },
    {
      "cell_type": "markdown",
      "metadata": {
        "id": "9OkifR5rnr2D"
      },
      "source": [
        "* 주어진 데이터셋\n",
        "    * data01_train.csv : 학습 및 검증용\n",
        "\n",
        " <br/>  \n",
        "\n",
        "* 세부 요구사항\n",
        "    - data01_train.csv 를 불러와 'data' 이름으로 저장합니다.\n",
        "        - data에서 변수 subject는 삭제합니다.\n",
        "    - data01_test.csv 를 불러와 'new_data' 이름으로 저장합니다.\n"
      ]
    },
    {
      "cell_type": "code",
      "source": [
        "data = pd.read_csv('/content/drive/MyDrive/aivle/mp5/data01_train.csv').drop('subject',axis=1)\n",
        "new_data = pd.read_csv('/content/drive/MyDrive/aivle/mp5/data01_test.csv').drop('subject',axis=1)"
      ],
      "metadata": {
        "id": "axfpI4l6gZtr"
      },
      "execution_count": null,
      "outputs": []
    },
    {
      "cell_type": "markdown",
      "metadata": {
        "id": "O38e5xai7SIW"
      },
      "source": [
        "## 2.데이터 전처리"
      ]
    },
    {
      "cell_type": "markdown",
      "metadata": {
        "id": "uZwtSLSqcL7G"
      },
      "source": [
        "* 세부 요구사항\n",
        "    - Label 추가 : data 에 Activity_dynamic 를 추가합니다. Activity_dynamic은 과제1에서 is_dynamic과 동일한 값입니다.\n",
        "    - x와 y1, y2로 분할하시오.\n",
        "        * y1 : Activity\n",
        "        * y2 : Activity_dynamic\n",
        "    - train : val = 8 : 2 혹은 7 : 3\n",
        "    - random_state 옵션을 사용하여 다른 모델과 비교를 위해 성능이 재현되도록 합니다."
      ]
    },
    {
      "cell_type": "code",
      "source": [
        "target = 'Activity'"
      ],
      "metadata": {
        "id": "pzYNNvZog4U9"
      },
      "execution_count": null,
      "outputs": []
    },
    {
      "cell_type": "code",
      "execution_count": null,
      "metadata": {
        "id": "Bs_FHwUuiWWv"
      },
      "outputs": [],
      "source": [
        "data['Activity_dynamic'] = data[target].map({'STANDING':0, 'SITTING':0, 'LAYING':0,\n",
        "                                            'WALKING':1, 'WALKING_UPSTAIRS':1, 'WALKING_DOWNSTAIRS':1})"
      ]
    },
    {
      "cell_type": "code",
      "execution_count": null,
      "metadata": {
        "id": "O0nbejEWiWT1",
        "colab": {
          "base_uri": "https://localhost:8080/"
        },
        "outputId": "cd2a4512-5082-4e01-e5b1-2163e7a7ef58"
      },
      "outputs": [
        {
          "output_type": "execute_result",
          "data": {
            "text/plain": [
              "((5881, 561), (5881,), (5881,))"
            ]
          },
          "metadata": {},
          "execution_count": 267
        }
      ],
      "source": [
        "x = data.drop(columns=[target, 'Activity_dynamic'], axis=1)\n",
        "y1 = data[target]\n",
        "y2 = data['Activity_dynamic']\n",
        "x.shape, y1.shape, y2.shape"
      ]
    },
    {
      "cell_type": "code",
      "execution_count": null,
      "metadata": {
        "id": "dBpCxcvyiWRC"
      },
      "outputs": [],
      "source": [
        "from sklearn.model_selection import train_test_split\n",
        "train_x, valid_x, train_y1, valid_y1, train_y2, valid_y2 = train_test_split(x, y1, y2, train_size=.8, random_state=2023, stratify=y1)\n"
      ]
    },
    {
      "cell_type": "markdown",
      "metadata": {
        "id": "bue7ZTLABQzi"
      },
      "source": [
        "## **3.단계별 모델링**"
      ]
    },
    {
      "cell_type": "markdown",
      "metadata": {
        "id": "cuQX1S5q39Ih"
      },
      "source": [
        "![](https://github.com/DA4BAM/image/blob/main/step%20by%20step.png?raw=true)"
      ]
    },
    {
      "cell_type": "markdown",
      "metadata": {
        "id": "dpEHt7u4CXlb"
      },
      "source": [
        "### (1) 단계1 : 정적/동적 행동 분류 모델"
      ]
    },
    {
      "cell_type": "markdown",
      "metadata": {
        "id": "8onfbGBbh1jr"
      },
      "source": [
        "* 세부 요구사항\n",
        "    * 정적 행동(Laying, Sitting, Standing)과 동적 행동(동적 : Walking, Walking-Up, Walking-Down)을 구분하는 모델 생성.\n",
        "    * 몇가지 모델을 만들고 가장 성능이 좋은 모델을 선정하시오."
      ]
    },
    {
      "cell_type": "markdown",
      "metadata": {
        "id": "zUrmn6T9ic5o"
      },
      "source": [
        "#### 1) 알고리즘1 :"
      ]
    },
    {
      "cell_type": "code",
      "execution_count": null,
      "metadata": {
        "id": "Dl2e52CSiZEa",
        "colab": {
          "base_uri": "https://localhost:8080/"
        },
        "outputId": "0a0bd637-aa62-4c1f-ed37-7941c068ccc9"
      },
      "outputs": [
        {
          "output_type": "execute_result",
          "data": {
            "text/plain": [
              "0.9991503823279524"
            ]
          },
          "metadata": {},
          "execution_count": 269
        }
      ],
      "source": [
        "from sklearn.tree import DecisionTreeClassifier\n",
        "from sklearn.metrics import *\n",
        "\n",
        "model_dt = DecisionTreeClassifier()\n",
        "model_dt.fit(train_x, train_y2)\n",
        "model_dt.score(valid_x, valid_y2)"
      ]
    },
    {
      "cell_type": "code",
      "execution_count": null,
      "metadata": {
        "id": "aPFlJFZiihf3",
        "colab": {
          "base_uri": "https://localhost:8080/"
        },
        "outputId": "7da9c91c-dd1a-4abb-ba46-41ad4086a12b"
      },
      "outputs": [
        {
          "output_type": "execute_result",
          "data": {
            "text/plain": [
              "0.9991503823279524"
            ]
          },
          "metadata": {},
          "execution_count": 270
        }
      ],
      "source": [
        "from sklearn.ensemble import RandomForestClassifier\n",
        "\n",
        "model_rf = RandomForestClassifier()\n",
        "model_rf.fit(train_x, train_y2)\n",
        "model_rf.score(valid_x, valid_y2)"
      ]
    },
    {
      "cell_type": "markdown",
      "metadata": {
        "id": "yOmrlWjMihf3"
      },
      "source": [
        "#### 2) 알고리즘2 :"
      ]
    },
    {
      "cell_type": "code",
      "execution_count": null,
      "metadata": {
        "id": "Bsgtsww9ihf4",
        "colab": {
          "base_uri": "https://localhost:8080/"
        },
        "outputId": "cb59a9bf-8524-4206-fdd7-0fdb70253376"
      },
      "outputs": [
        {
          "output_type": "execute_result",
          "data": {
            "text/plain": [
              "0.9991503823279524"
            ]
          },
          "metadata": {},
          "execution_count": 271
        }
      ],
      "source": [
        "from sklearn.neural_network import MLPClassifier\n",
        "\n",
        "model_mlp = MLPClassifier()\n",
        "model_mlp.fit(train_x, train_y2)\n",
        "model_mlp.score(valid_x, valid_y2)"
      ]
    },
    {
      "cell_type": "code",
      "execution_count": null,
      "metadata": {
        "id": "M9BEaghdiY-2"
      },
      "outputs": [],
      "source": [
        "model_1 = model_rf"
      ]
    },
    {
      "cell_type": "markdown",
      "metadata": {
        "id": "9sTQeLpjCfV9"
      },
      "source": [
        "### (2) 단계2-1 : 정적 동작 세부 분류"
      ]
    },
    {
      "cell_type": "markdown",
      "metadata": {
        "id": "tr0QtSuTihs0"
      },
      "source": [
        "* 세부 요구사항\n",
        "    * 정적 행동(Laying, Sitting, Standing)인 데이터 추출\n",
        "    * Laying, Sitting, Standing 를 분류하는 모델을 생성\n",
        "    * 몇가지 모델을 만들고 가장 성능이 좋은 모델을 선정하시오."
      ]
    },
    {
      "cell_type": "code",
      "source": [
        "static_data = data.loc[data['Activity_dynamic']==0]"
      ],
      "metadata": {
        "id": "bf6y7DxrlbdF"
      },
      "execution_count": null,
      "outputs": []
    },
    {
      "cell_type": "code",
      "execution_count": null,
      "metadata": {
        "id": "ABa7cIeQik4l"
      },
      "outputs": [],
      "source": [
        "static_x = static_data.drop(columns=[target, 'Activity_dynamic'], axis=1)\n",
        "static_y1 = static_data[target]\n",
        "\n",
        "train_static_x, valid_static_x, train_static_y1, valid_static_y1 = train_test_split(static_x, static_y1, train_size=.8, random_state=2023, stratify=static_y1)\n"
      ]
    },
    {
      "cell_type": "code",
      "execution_count": null,
      "metadata": {
        "id": "kr_P3LtlikzA",
        "colab": {
          "base_uri": "https://localhost:8080/"
        },
        "outputId": "ef0b05f9-aeb2-42e0-b569-62f460101e77"
      },
      "outputs": [
        {
          "output_type": "execute_result",
          "data": {
            "text/plain": [
              "0.9891808346213292"
            ]
          },
          "metadata": {},
          "execution_count": 275
        }
      ],
      "source": [
        "from sklearn.ensemble import RandomForestClassifier\n",
        "\n",
        "model_rf = RandomForestClassifier()\n",
        "model_rf.fit(train_static_x, train_static_y1)\n",
        "model_rf.score(valid_static_x, valid_static_y1)"
      ]
    },
    {
      "cell_type": "code",
      "source": [
        "model_2_1 = model_rf"
      ],
      "metadata": {
        "id": "FV32D8zqnxd0"
      },
      "execution_count": null,
      "outputs": []
    },
    {
      "cell_type": "markdown",
      "metadata": {
        "id": "jjNRQJpRC045"
      },
      "source": [
        "### (3) 단계2-2 : 동적 동작 세부 분류"
      ]
    },
    {
      "cell_type": "markdown",
      "metadata": {
        "id": "Rsy1RELi2qfF"
      },
      "source": [
        "* 세부 요구사항\n",
        "    * 동동적 행동(Walking, Walking Upstairs, Walking Downstairs)인 데이터 추출\n",
        "    * Walking, Walking Upstairs, Walking Downstairs 를 분류하는 모델을 생성\n",
        "    * 몇가지 모델을 만들고 가장 성능이 좋은 모델을 선정하시오."
      ]
    },
    {
      "cell_type": "code",
      "execution_count": null,
      "metadata": {
        "id": "UUZKNQ1Mima2"
      },
      "outputs": [],
      "source": [
        "dynamic_data = data.loc[data['Activity_dynamic']==1]"
      ]
    },
    {
      "cell_type": "code",
      "execution_count": null,
      "metadata": {
        "id": "eOMJHLs1imYS"
      },
      "outputs": [],
      "source": [
        "dynamic_x = dynamic_data.drop(columns=[target, 'Activity_dynamic'], axis=1)\n",
        "dynamic_y1 = dynamic_data[target]\n",
        "\n",
        "train_dynamic_x, valid_dynamic_x, train_dynamic_y1, valid_dynamic_y1 = train_test_split(dynamic_x, dynamic_y1, train_size=.8, random_state=2023, stratify=dynamic_y1)\n"
      ]
    },
    {
      "cell_type": "code",
      "execution_count": null,
      "metadata": {
        "id": "JWzMEa_vimVg",
        "colab": {
          "base_uri": "https://localhost:8080/"
        },
        "outputId": "67c37603-a77a-439e-fab8-ca0205d5f356"
      },
      "outputs": [
        {
          "output_type": "execute_result",
          "data": {
            "text/plain": [
              "0.9754716981132076"
            ]
          },
          "metadata": {},
          "execution_count": 279
        }
      ],
      "source": [
        "from sklearn.ensemble import RandomForestClassifier\n",
        "\n",
        "model_rf = RandomForestClassifier()\n",
        "model_rf.fit(train_dynamic_x, train_dynamic_y1)\n",
        "model_rf.score(valid_dynamic_x, valid_dynamic_y1)"
      ]
    },
    {
      "cell_type": "code",
      "execution_count": null,
      "metadata": {
        "id": "lXhP4kVNimSN"
      },
      "outputs": [],
      "source": [
        "model_2_2 = model_rf"
      ]
    },
    {
      "cell_type": "markdown",
      "metadata": {
        "id": "ShM5xWkwC3YE"
      },
      "source": [
        "### (4) 분류 모델 합치기\n"
      ]
    },
    {
      "cell_type": "markdown",
      "metadata": {
        "id": "K3i2vaxQ3Gmw"
      },
      "source": [
        "* 세부 요구사항\n",
        "    * 두 단계 모델을 통합하고, 새로운 데이터(test)에 대해서 최종 예측결과와 성능평가가 나오도록 함수로 만들기\n",
        "    * 데이터 파이프라인 구축 : test데이터가 로딩되어 전처리 과정을 거치고, 예측 및 성능 평가 수행"
      ]
    },
    {
      "cell_type": "markdown",
      "metadata": {
        "id": "88hluBpL33eB"
      },
      "source": [
        "![](https://github.com/DA4BAM/image/blob/main/pipeline%20function.png?raw=true)"
      ]
    },
    {
      "cell_type": "markdown",
      "metadata": {
        "id": "NDn0mJuGiquO"
      },
      "source": [
        "#### 1) 함수 만들기"
      ]
    },
    {
      "cell_type": "code",
      "execution_count": null,
      "metadata": {
        "id": "U9fP9x76A-gh"
      },
      "outputs": [],
      "source": [
        "def pipeline_predict(test, model_isDynamic, model_static, model_dynamic, output=False, cutted_feature=False):\n",
        "    test['Activity_dynamic'] = test[target].map({'STANDING':0, 'SITTING':0, 'LAYING':0,\n",
        "                                                 'WALKING':1, 'WALKING_UPSTAIRS':1, 'WALKING_DOWNSTAIRS':1})\n",
        "\n",
        "    df_index = pd.Series(range(len(new_data)))\n",
        "    x = test.drop(columns=[target, 'Activity_dynamic'], axis=1)\n",
        "    y1 = test[target]\n",
        "    y2 = test['Activity_dynamic']\n",
        "\n",
        "    ################ 모델1 예측평가\n",
        "    pred_y2 = model_isDynamic.predict(x)\n",
        "    if output:\n",
        "        print('모델1 예측평가')\n",
        "        print(classification_report(pred_y2, y2))\n",
        "        print(accuracy_score(pred_y2, y2))\n",
        "\n",
        "\n",
        "    ################ 모델2-1 예측\n",
        "\n",
        "    splited_0_index = list(map(lambda y: y==1, pred_y2))\n",
        "    dynamic_x = x.loc[splited_0_index]\n",
        "    dynamic_x = dynamic_x.loc[:, cutted_feature] if len(cutted_feature) else dynamic_x\n",
        "    dynamic_y1 = y1.loc[splited_0_index]\n",
        "    dynamic_index = df_index.loc[splited_0_index]\n",
        "\n",
        "    pre_dynamic_y = model_dynamic.predict(dynamic_x)\n",
        "    if output:\n",
        "        print('모델2-1 예측평가')\n",
        "        print(classification_report(pre_dynamic_y, dynamic_y1))\n",
        "        print(accuracy_score(pre_dynamic_y, dynamic_y1))\n",
        "\n",
        "    ################ 모델2-2 예측\n",
        "\n",
        "    splited_1_index = list(map(lambda y: y==0, pred_y2))\n",
        "    static_x = x.loc[splited_1_index]\n",
        "    static_x = static_x.loc[:, cutted_feature] if len(cutted_feature) else static_x\n",
        "    static_y1 = y1.loc[splited_1_index]\n",
        "    static_index = df_index.loc[splited_1_index]\n",
        "\n",
        "    pre_static_y = model_static.predict(static_x)\n",
        "    if output:\n",
        "        print('모델2-2 예측평가')\n",
        "        print(classification_report(pre_static_y, static_y1))\n",
        "        print(accuracy_score(pre_static_y, static_y1))\n",
        "\n",
        "\n",
        "    ################ 통합 예측\n",
        "\n",
        "    sr_dynamic = pd.Series(pre_dynamic_y, index = dynamic_index)\n",
        "    sr_static = pd.Series(pre_static_y, index = static_index)\n",
        "    sr_merged = pd.concat([sr_dynamic, sr_static], axis=0).sort_index()\n",
        "    if output:\n",
        "        print('통합 예측평가')\n",
        "        print(classification_report(sr_merged, y1))\n",
        "        print(accuracy_score(sr_merged, y1))\n",
        "\n",
        "    return accuracy_score(sr_merged, y1)"
      ]
    },
    {
      "cell_type": "code",
      "execution_count": null,
      "metadata": {
        "id": "DUvISuM6iyqU",
        "colab": {
          "base_uri": "https://localhost:8080/"
        },
        "outputId": "73e754e2-f5ef-49bc-8892-a1f3a5684391"
      },
      "outputs": [
        {
          "output_type": "stream",
          "name": "stdout",
          "text": [
            "모델1 예측평가\n",
            "              precision    recall  f1-score   support\n",
            "\n",
            "           0       1.00      1.00      1.00       833\n",
            "           1       1.00      1.00      1.00       638\n",
            "\n",
            "    accuracy                           1.00      1471\n",
            "   macro avg       1.00      1.00      1.00      1471\n",
            "weighted avg       1.00      1.00      1.00      1471\n",
            "\n",
            "1.0\n",
            "모델2-1 예측평가\n",
            "                    precision    recall  f1-score   support\n",
            "\n",
            "           WALKING       0.99      0.99      0.99       227\n",
            "WALKING_DOWNSTAIRS       0.98      0.99      0.99       193\n",
            "  WALKING_UPSTAIRS       0.99      0.98      0.98       218\n",
            "\n",
            "          accuracy                           0.99       638\n",
            "         macro avg       0.99      0.99      0.99       638\n",
            "      weighted avg       0.99      0.99      0.99       638\n",
            "\n",
            "0.987460815047022\n",
            "모델2-2 예측평가\n",
            "              precision    recall  f1-score   support\n",
            "\n",
            "      LAYING       0.99      1.00      1.00       290\n",
            "     SITTING       0.95      0.93      0.94       258\n",
            "    STANDING       0.95      0.95      0.95       285\n",
            "\n",
            "    accuracy                           0.96       833\n",
            "   macro avg       0.96      0.96      0.96       833\n",
            "weighted avg       0.96      0.96      0.96       833\n",
            "\n",
            "0.963985594237695\n",
            "통합 예측평가\n",
            "                    precision    recall  f1-score   support\n",
            "\n",
            "            LAYING       0.99      1.00      1.00       290\n",
            "           SITTING       0.95      0.93      0.94       258\n",
            "          STANDING       0.95      0.95      0.95       285\n",
            "           WALKING       0.99      0.99      0.99       227\n",
            "WALKING_DOWNSTAIRS       0.98      0.99      0.99       193\n",
            "  WALKING_UPSTAIRS       0.99      0.98      0.98       218\n",
            "\n",
            "          accuracy                           0.97      1471\n",
            "         macro avg       0.98      0.98      0.98      1471\n",
            "      weighted avg       0.97      0.97      0.97      1471\n",
            "\n",
            "0.9741672331747111\n"
          ]
        },
        {
          "output_type": "execute_result",
          "data": {
            "text/plain": [
              "0.9741672331747111"
            ]
          },
          "metadata": {},
          "execution_count": 285
        }
      ],
      "source": [
        "pipeline_predict(new_data, model_1, model_2_1, model_2_2, output=True)"
      ]
    },
    {
      "cell_type": "code",
      "source": [
        "feature_importances = plot_feature_importance(model_1.feature_importances_, train_x.columns, result_only = True)\n",
        "\n",
        "def cut_feature_n_fit(feature_name, train_x, train_y1, model):\n",
        "    cutted_train_x = train_x.loc[:, feature_name]\n",
        "\n",
        "    model.fit(cutted_train_x, train_y1)\n",
        "    return model\n",
        "\n",
        "\n",
        "scores = []\n",
        "for i in range(500, 0, -50):\n",
        "\n",
        "    cutted_feature = feature_importances[:i]['feature_name']\n",
        "\n",
        "    model_2_1 = cut_feature_n_fit(cutted_feature, train_static_x, train_static_y1, RandomForestClassifier())\n",
        "    model_2_2 = cut_feature_n_fit(cutted_feature, train_dynamic_x, train_dynamic_y1, RandomForestClassifier())\n",
        "\n",
        "    scores.append(pipeline_predict(new_data, model_1, model_2_1, model_2_2, output=False, cutted_feature=cutted_feature))\n",
        "\n",
        "sns.lineplot(x=range(500, 0, -50),y=scores)\n",
        "plt.show()"
      ],
      "metadata": {
        "colab": {
          "base_uri": "https://localhost:8080/",
          "height": 430
        },
        "id": "3KJjJMvlpRfx",
        "outputId": "012f59d8-1146-4ca3-ea89-e05db64ac0c3"
      },
      "execution_count": null,
      "outputs": [
        {
          "output_type": "display_data",
          "data": {
            "text/plain": [
              "<Figure size 640x480 with 1 Axes>"
            ],
            "image/png": "[encoded data removed]"
          },
          "metadata": {}
        }
      ]
    },
    {
      "cell_type": "code",
      "source": [],
      "metadata": {
        "id": "ZUoHTwmx02Ne"
      },
      "execution_count": null,
      "outputs": []
    }
  ],
  "metadata": {
    "colab": {
      "provenance": [],
      "toc_visible": true,
      "include_colab_link": true
    },
    "kernelspec": {
      "display_name": "Python 3",
      "name": "python3"
    },
    "language_info": {
      "name": "python"
    }
  },
  "nbformat": 4,
  "nbformat_minor": 0
}