{
 "cells": [
  {
   "cell_type": "markdown",
   "id": "boxed-jamaica",
   "metadata": {},
   "source": [
    "## AIVLE School [AI 미니프로젝트] '서울시 생활정보 기반 대중교통 수요 분석'<br>\n",
    "\n",
    "### 미니프로젝트 안내\n",
    "* 미션: 버스 노선 추가가 필요한 서울시 내 자치구 선정\n",
    "* 방법: 1부터 4까지의 ipynb 파일 순서대로 진행하며 데이터 불러오기 및 분석(EDA)을 수행하여 서울시 내 자치구별 정보를 도출하고<br> 이를 바탕으로 5. 데이터 분석에서 버스 노선 추가가 필요한 서울시 내 자치구를 선정해봅니다.<br><br>\n",
    "* 1. 구별 버스정류장 분석.ipynb<br>\n",
    "-- 1.1 bus_station_boarding.csv 파일을 활용하여 <span style=\"color:blue\">서울시 내 각 구별 정류장, 노선수, 승하차 고객수를 분석</span>합니다.<br>\n",
    "  그런데 bus_station_boarding.csv 파일에는 서울시와 경기도의 버스정류장이 모두 포함되어 있기 때문에<br>\n",
    "  1.2 bus_station_seoul.csv의 정보를 추가로 활용하여 서울시 정류장만 골라내어 분석 대상에 포함시킵니다.<br><br>\n",
    "* 2. 구별 이동인구 분석.ipynb<br>\n",
    "-- 2. seoul_moving.csv 파일을 활용하여 <span style=\"color:blue\">서울시 내 구별 이동 시간과 이동 인구를 분석</span>합니다.<br><br>\n",
    "* 3. 구별 등록인구 분석.ipynb<br>\n",
    "-- 3. seoul_people.csv 파일을 활용하여 <span style=\"color:blue\">서울시 내 구별 등록인구를 분석</span>합니다. <br><br>\n",
    "* 4. 구별 업종 분석.ipynb<br>\n",
    "-- 4. business_type.csv 파일을 활용하여 <span style=\"color:blue\">서울시 내 구별 등록업종을 분석</span>합니다.<br><br>\n",
    "* 5. 데이터 분석.ipynb<br>\n",
    "-- 위 1~4에서 도출한 데이터 프레임을 합쳐서 <span style=\"color:blue\">서울시 내 어느 구에 버스 노선을 추가해야 할 지</span> 가설 수립 및 검증 과정을 거쳐 분석합니다.<br> (y값은 정류장 수 또는 노선 수)"
   ]
  },
  {
   "cell_type": "markdown",
   "id": "ef575059",
   "metadata": {},
   "source": [
    "---"
   ]
  },
  {
   "cell_type": "markdown",
   "id": "f2bc4fa5",
   "metadata": {},
   "source": [
    "# 1. 버스정류장 분석\n",
    "### 버스정류장 데이터를 활용하여 서울시 내 각 구별 정류장 수, 노선 수, 승하차 고객수를 분석합니다.\n",
    "### 이때, 서울시가 아닌 정류장 정보가 포함되어 있다면 이 정류장들을 제거하고 분석해야 합니다."
   ]
  },
  {
   "cell_type": "code",
   "execution_count": 1,
   "id": "4c6ced42",
   "metadata": {
    "tags": []
   },
   "outputs": [
    {
     "name": "stdout",
     "output_type": "stream",
     "text": [
      "Requirement already satisfied: pandas in c:\\users\\jwch1\\downloads\\2023.08.21_미니프로젝트1차_실습파일\\.conda\\lib\\site-packages (2.1.4)\n",
      "Requirement already satisfied: seaborn in c:\\users\\jwch1\\downloads\\2023.08.21_미니프로젝트1차_실습파일\\.conda\\lib\\site-packages (0.13.1)\n",
      "Requirement already satisfied: numpy<2,>=1.22.4 in c:\\users\\jwch1\\downloads\\2023.08.21_미니프로젝트1차_실습파일\\.conda\\lib\\site-packages (from pandas) (1.26.3)\n",
      "Requirement already satisfied: python-dateutil>=2.8.2 in c:\\users\\jwch1\\downloads\\2023.08.21_미니프로젝트1차_실습파일\\.conda\\lib\\site-packages (from pandas) (2.8.2)\n",
      "Requirement already satisfied: pytz>=2020.1 in c:\\users\\jwch1\\downloads\\2023.08.21_미니프로젝트1차_실습파일\\.conda\\lib\\site-packages (from pandas) (2023.3.post1)\n",
      "Requirement already satisfied: tzdata>=2022.1 in c:\\users\\jwch1\\downloads\\2023.08.21_미니프로젝트1차_실습파일\\.conda\\lib\\site-packages (from pandas) (2023.4)\n",
      "Requirement already satisfied: matplotlib!=3.6.1,>=3.4 in c:\\users\\jwch1\\downloads\\2023.08.21_미니프로젝트1차_실습파일\\.conda\\lib\\site-packages (from seaborn) (3.8.2)\n",
      "Requirement already satisfied: contourpy>=1.0.1 in c:\\users\\jwch1\\downloads\\2023.08.21_미니프로젝트1차_실습파일\\.conda\\lib\\site-packages (from matplotlib!=3.6.1,>=3.4->seaborn) (1.2.0)\n",
      "Requirement already satisfied: cycler>=0.10 in c:\\users\\jwch1\\downloads\\2023.08.21_미니프로젝트1차_실습파일\\.conda\\lib\\site-packages (from matplotlib!=3.6.1,>=3.4->seaborn) (0.12.1)\n",
      "Requirement already satisfied: fonttools>=4.22.0 in c:\\users\\jwch1\\downloads\\2023.08.21_미니프로젝트1차_실습파일\\.conda\\lib\\site-packages (from matplotlib!=3.6.1,>=3.4->seaborn) (4.47.2)\n",
      "Requirement already satisfied: kiwisolver>=1.3.1 in c:\\users\\jwch1\\downloads\\2023.08.21_미니프로젝트1차_실습파일\\.conda\\lib\\site-packages (from matplotlib!=3.6.1,>=3.4->seaborn) (1.4.5)\n",
      "Requirement already satisfied: packaging>=20.0 in c:\\users\\jwch1\\downloads\\2023.08.21_미니프로젝트1차_실습파일\\.conda\\lib\\site-packages (from matplotlib!=3.6.1,>=3.4->seaborn) (23.2)\n",
      "Requirement already satisfied: pillow>=8 in c:\\users\\jwch1\\downloads\\2023.08.21_미니프로젝트1차_실습파일\\.conda\\lib\\site-packages (from matplotlib!=3.6.1,>=3.4->seaborn) (10.2.0)\n",
      "Requirement already satisfied: pyparsing>=2.3.1 in c:\\users\\jwch1\\downloads\\2023.08.21_미니프로젝트1차_실습파일\\.conda\\lib\\site-packages (from matplotlib!=3.6.1,>=3.4->seaborn) (3.1.1)\n",
      "Requirement already satisfied: six>=1.5 in c:\\users\\jwch1\\downloads\\2023.08.21_미니프로젝트1차_실습파일\\.conda\\lib\\site-packages (from python-dateutil>=2.8.2->pandas) (1.16.0)\n",
      "Note: you may need to restart the kernel to use updated packages.\n"
     ]
    }
   ],
   "source": [
    "# 필요 라이브러리를 설치합니다.\n",
    "%pip install pandas seaborn"
   ]
  },
  {
   "cell_type": "markdown",
   "id": "revolutionary-farmer",
   "metadata": {},
   "source": [
    "## 데이터 안내\n",
    "\n",
    "[기본 데이터]\n",
    "* 1.1 bus_station_boarding.csv \n",
    "* 서울시 버스노선별 정류장별 승하차 인원 정보\n",
    "* https://data.seoul.go.kr/dataList/OA-12912/S/1/datasetView.do\n",
    "\n",
    "\n",
    "[추가 데이터]\n",
    "* 1.1 bus_station_seoul.csv\n",
    "* 서울시 버스정류장 위치정보\n",
    "* https://data.seoul.go.kr/dataList/OA-15067/S/1/datasetView.do"
   ]
  },
  {
   "cell_type": "markdown",
   "id": "matched-broad",
   "metadata": {},
   "source": [
    "---"
   ]
  },
  {
   "cell_type": "markdown",
   "id": "warming-gentleman",
   "metadata": {
    "tags": []
   },
   "source": [
    "# 1.1. 데이터 불러오기"
   ]
  },
  {
   "cell_type": "markdown",
   "id": "vocational-animal",
   "metadata": {},
   "source": [
    "#### [1.1.1] 데이터 로딩\n",
    "* Pandas 라이브러리를 활용해서 '1.1 bus_station_boarding.csv'파일을 'bus_station' 변수에 저장하세요.\n",
    "    * 데이터 파일 로딩시 참고 사항 \n",
    "        * 구분자(sep)는 ',' 입니다\n",
    "        * cp949 인코더를 사용해 주세요\n",
    "    * 데이터를 불러올 때 오류가 발생한다면, 오류에 대해 직접 검색하여 해결해보세요."
   ]
  },
  {
   "cell_type": "code",
   "execution_count": 2,
   "id": "0bd83ddf",
   "metadata": {
    "tags": []
   },
   "outputs": [],
   "source": [
    "import sys\n",
    "import numpy as np\n",
    "import pandas as pd"
   ]
  },
  {
   "cell_type": "code",
   "execution_count": 3,
   "id": "saving-slope",
   "metadata": {
    "tags": []
   },
   "outputs": [
    {
     "data": {
      "text/html": [
       "<div>\n",
       "<style scoped>\n",
       "    .dataframe tbody tr th:only-of-type {\n",
       "        vertical-align: middle;\n",
       "    }\n",
       "\n",
       "    .dataframe tbody tr th {\n",
       "        vertical-align: top;\n",
       "    }\n",
       "\n",
       "    .dataframe thead th {\n",
       "        text-align: right;\n",
       "    }\n",
       "</style>\n",
       "<table border=\"1\" class=\"dataframe\">\n",
       "  <thead>\n",
       "    <tr style=\"text-align: right;\">\n",
       "      <th></th>\n",
       "      <th>사용일자</th>\n",
       "      <th>노선번호</th>\n",
       "      <th>노선명</th>\n",
       "      <th>버스정류장ARS번호</th>\n",
       "      <th>역명</th>\n",
       "      <th>승차총승객수</th>\n",
       "      <th>하차총승객수</th>\n",
       "      <th>등록일자</th>\n",
       "    </tr>\n",
       "  </thead>\n",
       "  <tbody>\n",
       "    <tr>\n",
       "      <th>0</th>\n",
       "      <td>20220401</td>\n",
       "      <td>2112</td>\n",
       "      <td>2112번(면목동~성북동)</td>\n",
       "      <td>06243</td>\n",
       "      <td>장안동삼성쉐르빌아파트</td>\n",
       "      <td>31</td>\n",
       "      <td>156</td>\n",
       "      <td>20220404</td>\n",
       "    </tr>\n",
       "    <tr>\n",
       "      <th>1</th>\n",
       "      <td>20220401</td>\n",
       "      <td>2112</td>\n",
       "      <td>2112번(면목동~성북동)</td>\n",
       "      <td>06242</td>\n",
       "      <td>새서울병원</td>\n",
       "      <td>46</td>\n",
       "      <td>153</td>\n",
       "      <td>20220404</td>\n",
       "    </tr>\n",
       "    <tr>\n",
       "      <th>2</th>\n",
       "      <td>20220401</td>\n",
       "      <td>2112</td>\n",
       "      <td>2112번(면목동~성북동)</td>\n",
       "      <td>06238</td>\n",
       "      <td>장안동근린공원</td>\n",
       "      <td>11</td>\n",
       "      <td>80</td>\n",
       "      <td>20220404</td>\n",
       "    </tr>\n",
       "    <tr>\n",
       "      <th>3</th>\n",
       "      <td>20220401</td>\n",
       "      <td>2112</td>\n",
       "      <td>2112번(면목동~성북동)</td>\n",
       "      <td>06309</td>\n",
       "      <td>휘경공고휘경주공아파트</td>\n",
       "      <td>56</td>\n",
       "      <td>65</td>\n",
       "      <td>20220404</td>\n",
       "    </tr>\n",
       "    <tr>\n",
       "      <th>4</th>\n",
       "      <td>20220401</td>\n",
       "      <td>100</td>\n",
       "      <td>100번(하계동~용산구청)</td>\n",
       "      <td>11428</td>\n",
       "      <td>한성여객종점</td>\n",
       "      <td>9</td>\n",
       "      <td>5</td>\n",
       "      <td>20220404</td>\n",
       "    </tr>\n",
       "  </tbody>\n",
       "</table>\n",
       "</div>"
      ],
      "text/plain": [
       "       사용일자  노선번호             노선명 버스정류장ARS번호           역명  승차총승객수  하차총승객수  \\\n",
       "0  20220401  2112  2112번(면목동~성북동)      06243  장안동삼성쉐르빌아파트      31     156   \n",
       "1  20220401  2112  2112번(면목동~성북동)      06242        새서울병원      46     153   \n",
       "2  20220401  2112  2112번(면목동~성북동)      06238      장안동근린공원      11      80   \n",
       "3  20220401  2112  2112번(면목동~성북동)      06309  휘경공고휘경주공아파트      56      65   \n",
       "4  20220401   100  100번(하계동~용산구청)      11428       한성여객종점       9       5   \n",
       "\n",
       "       등록일자  \n",
       "0  20220404  \n",
       "1  20220404  \n",
       "2  20220404  \n",
       "3  20220404  \n",
       "4  20220404  "
      ]
     },
     "execution_count": 3,
     "metadata": {},
     "output_type": "execute_result"
    }
   ],
   "source": [
    "# 아래에 코드를 작성하고 결과를 확인합니다.\n",
    "\n",
    "bus_station = pd.read_csv('./bus_station_boarding.csv', decimal=',', encoding='cp949')\n",
    "bus_station.head()"
   ]
  },
  {
   "cell_type": "code",
   "execution_count": 4,
   "id": "funny-subcommittee",
   "metadata": {
    "tags": []
   },
   "outputs": [
    {
     "data": {
      "text/plain": [
       "(1169878, 8)"
      ]
     },
     "execution_count": 4,
     "metadata": {},
     "output_type": "execute_result"
    }
   ],
   "source": [
    "# 데이터 프레임의 Shape을 확인합니다.\n",
    "bus_station.shape"
   ]
  },
  {
   "cell_type": "markdown",
   "id": "73396b42",
   "metadata": {},
   "source": [
    "---"
   ]
  },
  {
   "cell_type": "markdown",
   "id": "annoying-trout",
   "metadata": {},
   "source": [
    "# 1.2. 기본 정보 확인 및 클렌징\n",
    "\n",
    "+ 데이터 클렌징 : 결측치, 이상치 등을 제거하여 데이터 분석 결과가 왜곡 되는 문제를 방지하기 위한 정제 과정"
   ]
  },
  {
   "cell_type": "markdown",
   "id": "romantic-johnson",
   "metadata": {},
   "source": [
    "#### [1.2.1] 기본 정보 확인하기\n",
    "* 'bus_station' 데이터의 정보를 확인해보세요.\n",
    "* 'describe', 'info', 'head', 'tail' 등 전부 활용해 보세요.\n",
    "* 데이터 중에서 컬럼명으로 봤을 때 int 이어야 할 것 같은데 object인 컬럼들이 있습니다. 왜 그런지 이 컬럼들을 더 분석해보세요."
   ]
  },
  {
   "cell_type": "code",
   "execution_count": 5,
   "id": "7343fadf",
   "metadata": {
    "tags": []
   },
   "outputs": [
    {
     "data": {
      "text/html": [
       "<div>\n",
       "<style scoped>\n",
       "    .dataframe tbody tr th:only-of-type {\n",
       "        vertical-align: middle;\n",
       "    }\n",
       "\n",
       "    .dataframe tbody tr th {\n",
       "        vertical-align: top;\n",
       "    }\n",
       "\n",
       "    .dataframe thead th {\n",
       "        text-align: right;\n",
       "    }\n",
       "</style>\n",
       "<table border=\"1\" class=\"dataframe\">\n",
       "  <thead>\n",
       "    <tr style=\"text-align: right;\">\n",
       "      <th></th>\n",
       "      <th>사용일자</th>\n",
       "      <th>노선번호</th>\n",
       "      <th>노선명</th>\n",
       "      <th>버스정류장ARS번호</th>\n",
       "      <th>역명</th>\n",
       "      <th>승차총승객수</th>\n",
       "      <th>하차총승객수</th>\n",
       "      <th>등록일자</th>\n",
       "    </tr>\n",
       "  </thead>\n",
       "  <tbody>\n",
       "    <tr>\n",
       "      <th>0</th>\n",
       "      <td>20220401</td>\n",
       "      <td>2112</td>\n",
       "      <td>2112번(면목동~성북동)</td>\n",
       "      <td>06243</td>\n",
       "      <td>장안동삼성쉐르빌아파트</td>\n",
       "      <td>31</td>\n",
       "      <td>156</td>\n",
       "      <td>20220404</td>\n",
       "    </tr>\n",
       "    <tr>\n",
       "      <th>1</th>\n",
       "      <td>20220401</td>\n",
       "      <td>2112</td>\n",
       "      <td>2112번(면목동~성북동)</td>\n",
       "      <td>06242</td>\n",
       "      <td>새서울병원</td>\n",
       "      <td>46</td>\n",
       "      <td>153</td>\n",
       "      <td>20220404</td>\n",
       "    </tr>\n",
       "    <tr>\n",
       "      <th>2</th>\n",
       "      <td>20220401</td>\n",
       "      <td>2112</td>\n",
       "      <td>2112번(면목동~성북동)</td>\n",
       "      <td>06238</td>\n",
       "      <td>장안동근린공원</td>\n",
       "      <td>11</td>\n",
       "      <td>80</td>\n",
       "      <td>20220404</td>\n",
       "    </tr>\n",
       "    <tr>\n",
       "      <th>3</th>\n",
       "      <td>20220401</td>\n",
       "      <td>2112</td>\n",
       "      <td>2112번(면목동~성북동)</td>\n",
       "      <td>06309</td>\n",
       "      <td>휘경공고휘경주공아파트</td>\n",
       "      <td>56</td>\n",
       "      <td>65</td>\n",
       "      <td>20220404</td>\n",
       "    </tr>\n",
       "    <tr>\n",
       "      <th>4</th>\n",
       "      <td>20220401</td>\n",
       "      <td>100</td>\n",
       "      <td>100번(하계동~용산구청)</td>\n",
       "      <td>11428</td>\n",
       "      <td>한성여객종점</td>\n",
       "      <td>9</td>\n",
       "      <td>5</td>\n",
       "      <td>20220404</td>\n",
       "    </tr>\n",
       "    <tr>\n",
       "      <th>...</th>\n",
       "      <td>...</td>\n",
       "      <td>...</td>\n",
       "      <td>...</td>\n",
       "      <td>...</td>\n",
       "      <td>...</td>\n",
       "      <td>...</td>\n",
       "      <td>...</td>\n",
       "      <td>...</td>\n",
       "    </tr>\n",
       "    <tr>\n",
       "      <th>1169873</th>\n",
       "      <td>20220430</td>\n",
       "      <td>7738</td>\n",
       "      <td>7738번(은평공영차고지~홍제역)</td>\n",
       "      <td>12004</td>\n",
       "      <td>수색교</td>\n",
       "      <td>2</td>\n",
       "      <td>32</td>\n",
       "      <td>20220503</td>\n",
       "    </tr>\n",
       "    <tr>\n",
       "      <th>1169874</th>\n",
       "      <td>20220430</td>\n",
       "      <td>201</td>\n",
       "      <td>201번(구리~서울역)</td>\n",
       "      <td>06278</td>\n",
       "      <td>세종대왕기념관</td>\n",
       "      <td>153</td>\n",
       "      <td>43</td>\n",
       "      <td>20220503</td>\n",
       "    </tr>\n",
       "    <tr>\n",
       "      <th>1169875</th>\n",
       "      <td>20220430</td>\n",
       "      <td>강서01</td>\n",
       "      <td>강서01(약수터~등촌역)</td>\n",
       "      <td>16555</td>\n",
       "      <td>화곡본동시장</td>\n",
       "      <td>133</td>\n",
       "      <td>6</td>\n",
       "      <td>20220503</td>\n",
       "    </tr>\n",
       "    <tr>\n",
       "      <th>1169876</th>\n",
       "      <td>20220430</td>\n",
       "      <td>3321</td>\n",
       "      <td>3321번(강동차고지~강동구청)</td>\n",
       "      <td>25236</td>\n",
       "      <td>굽은다리사거리</td>\n",
       "      <td>36</td>\n",
       "      <td>41</td>\n",
       "      <td>20220503</td>\n",
       "    </tr>\n",
       "    <tr>\n",
       "      <th>1169877</th>\n",
       "      <td>20220430</td>\n",
       "      <td>201</td>\n",
       "      <td>201번(구리~서울역)</td>\n",
       "      <td>06280</td>\n",
       "      <td>영휘원사거리.(구)홍릉사거리</td>\n",
       "      <td>122</td>\n",
       "      <td>49</td>\n",
       "      <td>20220503</td>\n",
       "    </tr>\n",
       "  </tbody>\n",
       "</table>\n",
       "<p>1169878 rows × 8 columns</p>\n",
       "</div>"
      ],
      "text/plain": [
       "             사용일자  노선번호                 노선명 버스정류장ARS번호               역명  \\\n",
       "0        20220401  2112      2112번(면목동~성북동)      06243      장안동삼성쉐르빌아파트   \n",
       "1        20220401  2112      2112번(면목동~성북동)      06242            새서울병원   \n",
       "2        20220401  2112      2112번(면목동~성북동)      06238          장안동근린공원   \n",
       "3        20220401  2112      2112번(면목동~성북동)      06309      휘경공고휘경주공아파트   \n",
       "4        20220401   100      100번(하계동~용산구청)      11428           한성여객종점   \n",
       "...           ...   ...                 ...        ...              ...   \n",
       "1169873  20220430  7738  7738번(은평공영차고지~홍제역)      12004              수색교   \n",
       "1169874  20220430   201        201번(구리~서울역)      06278          세종대왕기념관   \n",
       "1169875  20220430  강서01       강서01(약수터~등촌역)      16555           화곡본동시장   \n",
       "1169876  20220430  3321   3321번(강동차고지~강동구청)      25236          굽은다리사거리   \n",
       "1169877  20220430   201        201번(구리~서울역)      06280  영휘원사거리.(구)홍릉사거리   \n",
       "\n",
       "         승차총승객수  하차총승객수      등록일자  \n",
       "0            31     156  20220404  \n",
       "1            46     153  20220404  \n",
       "2            11      80  20220404  \n",
       "3            56      65  20220404  \n",
       "4             9       5  20220404  \n",
       "...         ...     ...       ...  \n",
       "1169873       2      32  20220503  \n",
       "1169874     153      43  20220503  \n",
       "1169875     133       6  20220503  \n",
       "1169876      36      41  20220503  \n",
       "1169877     122      49  20220503  \n",
       "\n",
       "[1169878 rows x 8 columns]"
      ]
     },
     "execution_count": 5,
     "metadata": {},
     "output_type": "execute_result"
    }
   ],
   "source": [
    "# 아래에 코드를 작성하고 결과를 확인합니다.\n",
    "bus_station"
   ]
  },
  {
   "cell_type": "code",
   "execution_count": 6,
   "id": "9a9ea84f",
   "metadata": {},
   "outputs": [
    {
     "data": {
      "text/html": [
       "<div>\n",
       "<style scoped>\n",
       "    .dataframe tbody tr th:only-of-type {\n",
       "        vertical-align: middle;\n",
       "    }\n",
       "\n",
       "    .dataframe tbody tr th {\n",
       "        vertical-align: top;\n",
       "    }\n",
       "\n",
       "    .dataframe thead th {\n",
       "        text-align: right;\n",
       "    }\n",
       "</style>\n",
       "<table border=\"1\" class=\"dataframe\">\n",
       "  <thead>\n",
       "    <tr style=\"text-align: right;\">\n",
       "      <th></th>\n",
       "      <th>사용일자</th>\n",
       "      <th>노선번호</th>\n",
       "      <th>노선명</th>\n",
       "      <th>버스정류장ARS번호</th>\n",
       "      <th>역명</th>\n",
       "      <th>승차총승객수</th>\n",
       "      <th>하차총승객수</th>\n",
       "      <th>등록일자</th>\n",
       "    </tr>\n",
       "  </thead>\n",
       "  <tbody>\n",
       "    <tr>\n",
       "      <th>0</th>\n",
       "      <td>20220401</td>\n",
       "      <td>2112</td>\n",
       "      <td>2112번(면목동~성북동)</td>\n",
       "      <td>06243</td>\n",
       "      <td>장안동삼성쉐르빌아파트</td>\n",
       "      <td>31</td>\n",
       "      <td>156</td>\n",
       "      <td>20220404</td>\n",
       "    </tr>\n",
       "    <tr>\n",
       "      <th>1</th>\n",
       "      <td>20220401</td>\n",
       "      <td>2112</td>\n",
       "      <td>2112번(면목동~성북동)</td>\n",
       "      <td>06242</td>\n",
       "      <td>새서울병원</td>\n",
       "      <td>46</td>\n",
       "      <td>153</td>\n",
       "      <td>20220404</td>\n",
       "    </tr>\n",
       "    <tr>\n",
       "      <th>2</th>\n",
       "      <td>20220401</td>\n",
       "      <td>2112</td>\n",
       "      <td>2112번(면목동~성북동)</td>\n",
       "      <td>06238</td>\n",
       "      <td>장안동근린공원</td>\n",
       "      <td>11</td>\n",
       "      <td>80</td>\n",
       "      <td>20220404</td>\n",
       "    </tr>\n",
       "    <tr>\n",
       "      <th>3</th>\n",
       "      <td>20220401</td>\n",
       "      <td>2112</td>\n",
       "      <td>2112번(면목동~성북동)</td>\n",
       "      <td>06309</td>\n",
       "      <td>휘경공고휘경주공아파트</td>\n",
       "      <td>56</td>\n",
       "      <td>65</td>\n",
       "      <td>20220404</td>\n",
       "    </tr>\n",
       "    <tr>\n",
       "      <th>4</th>\n",
       "      <td>20220401</td>\n",
       "      <td>100</td>\n",
       "      <td>100번(하계동~용산구청)</td>\n",
       "      <td>11428</td>\n",
       "      <td>한성여객종점</td>\n",
       "      <td>9</td>\n",
       "      <td>5</td>\n",
       "      <td>20220404</td>\n",
       "    </tr>\n",
       "  </tbody>\n",
       "</table>\n",
       "</div>"
      ],
      "text/plain": [
       "       사용일자  노선번호             노선명 버스정류장ARS번호           역명  승차총승객수  하차총승객수  \\\n",
       "0  20220401  2112  2112번(면목동~성북동)      06243  장안동삼성쉐르빌아파트      31     156   \n",
       "1  20220401  2112  2112번(면목동~성북동)      06242        새서울병원      46     153   \n",
       "2  20220401  2112  2112번(면목동~성북동)      06238      장안동근린공원      11      80   \n",
       "3  20220401  2112  2112번(면목동~성북동)      06309  휘경공고휘경주공아파트      56      65   \n",
       "4  20220401   100  100번(하계동~용산구청)      11428       한성여객종점       9       5   \n",
       "\n",
       "       등록일자  \n",
       "0  20220404  \n",
       "1  20220404  \n",
       "2  20220404  \n",
       "3  20220404  \n",
       "4  20220404  "
      ]
     },
     "execution_count": 6,
     "metadata": {},
     "output_type": "execute_result"
    }
   ],
   "source": [
    "# 아래에 코드를 작성하고 결과를 확인합니다.\n",
    "bus_station.head()"
   ]
  },
  {
   "cell_type": "code",
   "execution_count": 7,
   "id": "7f77b32f",
   "metadata": {
    "tags": []
   },
   "outputs": [
    {
     "data": {
      "text/html": [
       "<div>\n",
       "<style scoped>\n",
       "    .dataframe tbody tr th:only-of-type {\n",
       "        vertical-align: middle;\n",
       "    }\n",
       "\n",
       "    .dataframe tbody tr th {\n",
       "        vertical-align: top;\n",
       "    }\n",
       "\n",
       "    .dataframe thead th {\n",
       "        text-align: right;\n",
       "    }\n",
       "</style>\n",
       "<table border=\"1\" class=\"dataframe\">\n",
       "  <thead>\n",
       "    <tr style=\"text-align: right;\">\n",
       "      <th></th>\n",
       "      <th>사용일자</th>\n",
       "      <th>노선번호</th>\n",
       "      <th>노선명</th>\n",
       "      <th>버스정류장ARS번호</th>\n",
       "      <th>역명</th>\n",
       "      <th>승차총승객수</th>\n",
       "      <th>하차총승객수</th>\n",
       "      <th>등록일자</th>\n",
       "    </tr>\n",
       "  </thead>\n",
       "  <tbody>\n",
       "    <tr>\n",
       "      <th>1169873</th>\n",
       "      <td>20220430</td>\n",
       "      <td>7738</td>\n",
       "      <td>7738번(은평공영차고지~홍제역)</td>\n",
       "      <td>12004</td>\n",
       "      <td>수색교</td>\n",
       "      <td>2</td>\n",
       "      <td>32</td>\n",
       "      <td>20220503</td>\n",
       "    </tr>\n",
       "    <tr>\n",
       "      <th>1169874</th>\n",
       "      <td>20220430</td>\n",
       "      <td>201</td>\n",
       "      <td>201번(구리~서울역)</td>\n",
       "      <td>06278</td>\n",
       "      <td>세종대왕기념관</td>\n",
       "      <td>153</td>\n",
       "      <td>43</td>\n",
       "      <td>20220503</td>\n",
       "    </tr>\n",
       "    <tr>\n",
       "      <th>1169875</th>\n",
       "      <td>20220430</td>\n",
       "      <td>강서01</td>\n",
       "      <td>강서01(약수터~등촌역)</td>\n",
       "      <td>16555</td>\n",
       "      <td>화곡본동시장</td>\n",
       "      <td>133</td>\n",
       "      <td>6</td>\n",
       "      <td>20220503</td>\n",
       "    </tr>\n",
       "    <tr>\n",
       "      <th>1169876</th>\n",
       "      <td>20220430</td>\n",
       "      <td>3321</td>\n",
       "      <td>3321번(강동차고지~강동구청)</td>\n",
       "      <td>25236</td>\n",
       "      <td>굽은다리사거리</td>\n",
       "      <td>36</td>\n",
       "      <td>41</td>\n",
       "      <td>20220503</td>\n",
       "    </tr>\n",
       "    <tr>\n",
       "      <th>1169877</th>\n",
       "      <td>20220430</td>\n",
       "      <td>201</td>\n",
       "      <td>201번(구리~서울역)</td>\n",
       "      <td>06280</td>\n",
       "      <td>영휘원사거리.(구)홍릉사거리</td>\n",
       "      <td>122</td>\n",
       "      <td>49</td>\n",
       "      <td>20220503</td>\n",
       "    </tr>\n",
       "  </tbody>\n",
       "</table>\n",
       "</div>"
      ],
      "text/plain": [
       "             사용일자  노선번호                 노선명 버스정류장ARS번호               역명  \\\n",
       "1169873  20220430  7738  7738번(은평공영차고지~홍제역)      12004              수색교   \n",
       "1169874  20220430   201        201번(구리~서울역)      06278          세종대왕기념관   \n",
       "1169875  20220430  강서01       강서01(약수터~등촌역)      16555           화곡본동시장   \n",
       "1169876  20220430  3321   3321번(강동차고지~강동구청)      25236          굽은다리사거리   \n",
       "1169877  20220430   201        201번(구리~서울역)      06280  영휘원사거리.(구)홍릉사거리   \n",
       "\n",
       "         승차총승객수  하차총승객수      등록일자  \n",
       "1169873       2      32  20220503  \n",
       "1169874     153      43  20220503  \n",
       "1169875     133       6  20220503  \n",
       "1169876      36      41  20220503  \n",
       "1169877     122      49  20220503  "
      ]
     },
     "execution_count": 7,
     "metadata": {},
     "output_type": "execute_result"
    }
   ],
   "source": [
    "# 아래에 코드를 작성하고 결과를 확인합니다.\n",
    "bus_station.tail()"
   ]
  },
  {
   "cell_type": "code",
   "execution_count": 8,
   "id": "demographic-battery",
   "metadata": {
    "tags": []
   },
   "outputs": [
    {
     "data": {
      "text/html": [
       "<div>\n",
       "<style scoped>\n",
       "    .dataframe tbody tr th:only-of-type {\n",
       "        vertical-align: middle;\n",
       "    }\n",
       "\n",
       "    .dataframe tbody tr th {\n",
       "        vertical-align: top;\n",
       "    }\n",
       "\n",
       "    .dataframe thead th {\n",
       "        text-align: right;\n",
       "    }\n",
       "</style>\n",
       "<table border=\"1\" class=\"dataframe\">\n",
       "  <thead>\n",
       "    <tr style=\"text-align: right;\">\n",
       "      <th></th>\n",
       "      <th>사용일자</th>\n",
       "      <th>승차총승객수</th>\n",
       "      <th>하차총승객수</th>\n",
       "      <th>등록일자</th>\n",
       "    </tr>\n",
       "  </thead>\n",
       "  <tbody>\n",
       "    <tr>\n",
       "      <th>count</th>\n",
       "      <td>1.169878e+06</td>\n",
       "      <td>1.169878e+06</td>\n",
       "      <td>1.169878e+06</td>\n",
       "      <td>1.169878e+06</td>\n",
       "    </tr>\n",
       "    <tr>\n",
       "      <th>mean</th>\n",
       "      <td>2.022042e+07</td>\n",
       "      <td>1.108042e+02</td>\n",
       "      <td>1.082804e+02</td>\n",
       "      <td>2.022043e+07</td>\n",
       "    </tr>\n",
       "    <tr>\n",
       "      <th>std</th>\n",
       "      <td>8.661492e+00</td>\n",
       "      <td>1.554787e+02</td>\n",
       "      <td>1.420829e+02</td>\n",
       "      <td>2.667754e+01</td>\n",
       "    </tr>\n",
       "    <tr>\n",
       "      <th>min</th>\n",
       "      <td>2.022040e+07</td>\n",
       "      <td>0.000000e+00</td>\n",
       "      <td>0.000000e+00</td>\n",
       "      <td>2.022040e+07</td>\n",
       "    </tr>\n",
       "    <tr>\n",
       "      <th>25%</th>\n",
       "      <td>2.022041e+07</td>\n",
       "      <td>1.800000e+01</td>\n",
       "      <td>2.100000e+01</td>\n",
       "      <td>2.022041e+07</td>\n",
       "    </tr>\n",
       "    <tr>\n",
       "      <th>50%</th>\n",
       "      <td>2.022042e+07</td>\n",
       "      <td>6.300000e+01</td>\n",
       "      <td>6.800000e+01</td>\n",
       "      <td>2.022042e+07</td>\n",
       "    </tr>\n",
       "    <tr>\n",
       "      <th>75%</th>\n",
       "      <td>2.022042e+07</td>\n",
       "      <td>1.460000e+02</td>\n",
       "      <td>1.450000e+02</td>\n",
       "      <td>2.022043e+07</td>\n",
       "    </tr>\n",
       "    <tr>\n",
       "      <th>max</th>\n",
       "      <td>2.022043e+07</td>\n",
       "      <td>3.990000e+03</td>\n",
       "      <td>3.615000e+03</td>\n",
       "      <td>2.022050e+07</td>\n",
       "    </tr>\n",
       "  </tbody>\n",
       "</table>\n",
       "</div>"
      ],
      "text/plain": [
       "               사용일자        승차총승객수        하차총승객수          등록일자\n",
       "count  1.169878e+06  1.169878e+06  1.169878e+06  1.169878e+06\n",
       "mean   2.022042e+07  1.108042e+02  1.082804e+02  2.022043e+07\n",
       "std    8.661492e+00  1.554787e+02  1.420829e+02  2.667754e+01\n",
       "min    2.022040e+07  0.000000e+00  0.000000e+00  2.022040e+07\n",
       "25%    2.022041e+07  1.800000e+01  2.100000e+01  2.022041e+07\n",
       "50%    2.022042e+07  6.300000e+01  6.800000e+01  2.022042e+07\n",
       "75%    2.022042e+07  1.460000e+02  1.450000e+02  2.022043e+07\n",
       "max    2.022043e+07  3.990000e+03  3.615000e+03  2.022050e+07"
      ]
     },
     "execution_count": 8,
     "metadata": {},
     "output_type": "execute_result"
    }
   ],
   "source": [
    "# 아래에 코드를 작성하고 결과를 확인합니다.\n",
    "bus_station.describe()"
   ]
  },
  {
   "cell_type": "code",
   "execution_count": 9,
   "id": "940a114a",
   "metadata": {
    "tags": []
   },
   "outputs": [
    {
     "name": "stdout",
     "output_type": "stream",
     "text": [
      "<class 'pandas.core.frame.DataFrame'>\n",
      "RangeIndex: 1169878 entries, 0 to 1169877\n",
      "Data columns (total 8 columns):\n",
      " #   Column      Non-Null Count    Dtype \n",
      "---  ------      --------------    ----- \n",
      " 0   사용일자        1169878 non-null  int64 \n",
      " 1   노선번호        1169878 non-null  object\n",
      " 2   노선명         1169878 non-null  object\n",
      " 3   버스정류장ARS번호  1169878 non-null  object\n",
      " 4   역명          1169878 non-null  object\n",
      " 5   승차총승객수      1169878 non-null  int64 \n",
      " 6   하차총승객수      1169878 non-null  int64 \n",
      " 7   등록일자        1169878 non-null  int64 \n",
      "dtypes: int64(4), object(4)\n",
      "memory usage: 71.4+ MB\n"
     ]
    }
   ],
   "source": [
    "# 아래에 코드를 작성하고 결과를 확인합니다.\n",
    "bus_station.info()"
   ]
  },
  {
   "cell_type": "markdown",
   "id": "7888898f",
   "metadata": {},
   "source": [
    "#### [1.2.2] 버스정류장 위치를 구 별로 구분 하기\n",
    "\n",
    "* tip! 버스정류장ARS번호의 앞 두자리가 구를 의미합니다.\n",
    "\n",
    "* '자치구' column을 추가하여 정류장이 위치한 구 이름을 등록해주세요.\n"
   ]
  },
  {
   "cell_type": "code",
   "execution_count": 10,
   "id": "98e2fc76",
   "metadata": {
    "tags": []
   },
   "outputs": [
    {
     "data": {
      "text/plain": [
       "0          06243\n",
       "1          06242\n",
       "2          06238\n",
       "3          06309\n",
       "4          11428\n",
       "           ...  \n",
       "1169873    12004\n",
       "1169874    06278\n",
       "1169875    16555\n",
       "1169876    25236\n",
       "1169877    06280\n",
       "Name: 버스정류장ARS번호, Length: 1169878, dtype: object"
      ]
     },
     "execution_count": 10,
     "metadata": {},
     "output_type": "execute_result"
    }
   ],
   "source": [
    "# 먼저, bus_station에서 버스정류장ARS번호의 정보를 확인해보세요.\n",
    "bus_station['버스정류장ARS번호']"
   ]
  },
  {
   "cell_type": "code",
   "execution_count": 11,
   "id": "056437b2",
   "metadata": {
    "tags": []
   },
   "outputs": [
    {
     "data": {
      "text/html": [
       "<div>\n",
       "<style scoped>\n",
       "    .dataframe tbody tr th:only-of-type {\n",
       "        vertical-align: middle;\n",
       "    }\n",
       "\n",
       "    .dataframe tbody tr th {\n",
       "        vertical-align: top;\n",
       "    }\n",
       "\n",
       "    .dataframe thead th {\n",
       "        text-align: right;\n",
       "    }\n",
       "</style>\n",
       "<table border=\"1\" class=\"dataframe\">\n",
       "  <thead>\n",
       "    <tr style=\"text-align: right;\">\n",
       "      <th></th>\n",
       "      <th>사용일자</th>\n",
       "      <th>노선번호</th>\n",
       "      <th>노선명</th>\n",
       "      <th>버스정류장ARS번호</th>\n",
       "      <th>역명</th>\n",
       "      <th>승차총승객수</th>\n",
       "      <th>하차총승객수</th>\n",
       "      <th>등록일자</th>\n",
       "      <th>자치구</th>\n",
       "    </tr>\n",
       "  </thead>\n",
       "  <tbody>\n",
       "    <tr>\n",
       "      <th>0</th>\n",
       "      <td>20220401</td>\n",
       "      <td>2112</td>\n",
       "      <td>2112번(면목동~성북동)</td>\n",
       "      <td>06243</td>\n",
       "      <td>장안동삼성쉐르빌아파트</td>\n",
       "      <td>31</td>\n",
       "      <td>156</td>\n",
       "      <td>20220404</td>\n",
       "      <td>06</td>\n",
       "    </tr>\n",
       "    <tr>\n",
       "      <th>1</th>\n",
       "      <td>20220401</td>\n",
       "      <td>2112</td>\n",
       "      <td>2112번(면목동~성북동)</td>\n",
       "      <td>06242</td>\n",
       "      <td>새서울병원</td>\n",
       "      <td>46</td>\n",
       "      <td>153</td>\n",
       "      <td>20220404</td>\n",
       "      <td>06</td>\n",
       "    </tr>\n",
       "    <tr>\n",
       "      <th>2</th>\n",
       "      <td>20220401</td>\n",
       "      <td>2112</td>\n",
       "      <td>2112번(면목동~성북동)</td>\n",
       "      <td>06238</td>\n",
       "      <td>장안동근린공원</td>\n",
       "      <td>11</td>\n",
       "      <td>80</td>\n",
       "      <td>20220404</td>\n",
       "      <td>06</td>\n",
       "    </tr>\n",
       "    <tr>\n",
       "      <th>3</th>\n",
       "      <td>20220401</td>\n",
       "      <td>2112</td>\n",
       "      <td>2112번(면목동~성북동)</td>\n",
       "      <td>06309</td>\n",
       "      <td>휘경공고휘경주공아파트</td>\n",
       "      <td>56</td>\n",
       "      <td>65</td>\n",
       "      <td>20220404</td>\n",
       "      <td>06</td>\n",
       "    </tr>\n",
       "    <tr>\n",
       "      <th>4</th>\n",
       "      <td>20220401</td>\n",
       "      <td>100</td>\n",
       "      <td>100번(하계동~용산구청)</td>\n",
       "      <td>11428</td>\n",
       "      <td>한성여객종점</td>\n",
       "      <td>9</td>\n",
       "      <td>5</td>\n",
       "      <td>20220404</td>\n",
       "      <td>11</td>\n",
       "    </tr>\n",
       "  </tbody>\n",
       "</table>\n",
       "</div>"
      ],
      "text/plain": [
       "       사용일자  노선번호             노선명 버스정류장ARS번호           역명  승차총승객수  하차총승객수  \\\n",
       "0  20220401  2112  2112번(면목동~성북동)      06243  장안동삼성쉐르빌아파트      31     156   \n",
       "1  20220401  2112  2112번(면목동~성북동)      06242        새서울병원      46     153   \n",
       "2  20220401  2112  2112번(면목동~성북동)      06238      장안동근린공원      11      80   \n",
       "3  20220401  2112  2112번(면목동~성북동)      06309  휘경공고휘경주공아파트      56      65   \n",
       "4  20220401   100  100번(하계동~용산구청)      11428       한성여객종점       9       5   \n",
       "\n",
       "       등록일자 자치구  \n",
       "0  20220404  06  \n",
       "1  20220404  06  \n",
       "2  20220404  06  \n",
       "3  20220404  06  \n",
       "4  20220404  11  "
      ]
     },
     "execution_count": 11,
     "metadata": {},
     "output_type": "execute_result"
    }
   ],
   "source": [
    "# 버스정류장 ARS 번호의 앞자리 2개를 잘라내어 새로 '자치구' 컬럼을 생성합니다\n",
    "bus_station['자치구'] = bus_station['버스정류장ARS번호'].str.slice(0,2)\n",
    "bus_station.head()"
   ]
  },
  {
   "cell_type": "code",
   "execution_count": 12,
   "id": "798680c4-fb65-4be3-9a70-8c578516200d",
   "metadata": {
    "tags": []
   },
   "outputs": [
    {
     "data": {
      "text/plain": [
       "array(['06', '11', '09', '01', '14', '13', '04', '22', '38', '20', '21',\n",
       "       '19', '18', '03', '02', '08', '17', '05', '10', '35', '12', '07',\n",
       "       '68', '16', '~', '42', '49', '39', '15', '23', '44', '25', '24',\n",
       "       '48', '36', '40', '57', '56', '28', '61', '63', '46', '45', '31',\n",
       "       '30', '37', '60', '27', '47', '59'], dtype=object)"
      ]
     },
     "execution_count": 12,
     "metadata": {},
     "output_type": "execute_result"
    }
   ],
   "source": [
    "# 자치구의 값들이 어떻게 구성되어 있는 지 확인해봅니다. (ex: unique 활용)\n",
    "bus_station['자치구'].unique()"
   ]
  },
  {
   "cell_type": "markdown",
   "id": "466371f8-b241-4a8d-b19c-19303392578c",
   "metadata": {},
   "source": [
    "#### [1.2.3] 서울시 자치구에 해당하는 버스정류장만 추출하기\n",
    "\n",
    "* 위에서 살펴본 자치구의 값은 숫자 2자리로 구성되어 있습니다. \n",
    "* 그런데 서울시 구별 코드정보는 01부터 25까지라고 합니다(도메인지식)\n",
    "* 그렇다면 01부터 25의 범위를 넘어서는 데이터는 서울시 구별 정보가 아닐 것입니다. 이번 미니프로젝트에서는 서울시에 관한 정보만 분석하고자 하므로 이 데이터를 어떻게 처리하면 좋을지 생각하여 적용해보세요.\n",
    "* 분석 시의 편의를 위해 숫자 2자리 구별 코드는 구 이름으로 변환해주세요.\n",
    "* 서울시 구별 코드정보<br>\n",
    "    '01': '종로구',\n",
    "    '02': '중구',\n",
    "    '03': '용산구',\n",
    "    '04': '성동구',\n",
    "    '05': '광진구',\n",
    "    '06': '동대문구',\n",
    "    '07': '중랑구',\n",
    "    '08': '성북구',\n",
    "    '09': '강북구',\n",
    "    '10': '도봉구',\n",
    "    '11': '노원구',\n",
    "    '12': '은평구',\n",
    "    '13': '서대문구',\n",
    "    '14': '마포구',\n",
    "    '15': '양천구',\n",
    "    '16': '강서구',\n",
    "    '17': '구로구',\n",
    "    '18': '금천구',\n",
    "    '19': '영등포구',\n",
    "    '20': '동작구',\n",
    "    '21': '관악구',\n",
    "    '22': '서초구',\n",
    "    '23': '강남구',\n",
    "    '24': '송파구',\n",
    "    '25': '강동구'"
   ]
  },
  {
   "cell_type": "code",
   "execution_count": 13,
   "id": "aaf64abe-96a7-4a53-a7c4-b284d2d72c47",
   "metadata": {
    "tags": []
   },
   "outputs": [],
   "source": [
    "코드정보 = {'01': '종로구', '02': '중구', '03': '용산구', '04': '성동구', '05': '광진구', '06': '동대문구', '07': '중랑구', '08': '성북구', '09': '강북구', '10': '도봉구', '11': '노원구', '12': '은평구', '13': '서대문구', '14': '마포구', '15': '양천구', '16': '강서구', '17': '구로구', '18': '금천구', '19': '영등포구', '20': '동작구', '21': '관악구', '22': '서초구', '23': '강남구', '24': '송파구', '25': '강동구'}"
   ]
  },
  {
   "cell_type": "code",
   "execution_count": 14,
   "id": "e43cdae0",
   "metadata": {
    "tags": []
   },
   "outputs": [],
   "source": [
    "# 숫자 2자리 구 코드를 구 이름으로 변환합니다\n",
    "bus_station['자치구'] = bus_station['자치구'].map(코드정보)"
   ]
  },
  {
   "cell_type": "code",
   "execution_count": 15,
   "id": "b118545e",
   "metadata": {
    "tags": []
   },
   "outputs": [
    {
     "data": {
      "text/html": [
       "<div>\n",
       "<style scoped>\n",
       "    .dataframe tbody tr th:only-of-type {\n",
       "        vertical-align: middle;\n",
       "    }\n",
       "\n",
       "    .dataframe tbody tr th {\n",
       "        vertical-align: top;\n",
       "    }\n",
       "\n",
       "    .dataframe thead th {\n",
       "        text-align: right;\n",
       "    }\n",
       "</style>\n",
       "<table border=\"1\" class=\"dataframe\">\n",
       "  <thead>\n",
       "    <tr style=\"text-align: right;\">\n",
       "      <th></th>\n",
       "      <th>사용일자</th>\n",
       "      <th>노선번호</th>\n",
       "      <th>노선명</th>\n",
       "      <th>버스정류장ARS번호</th>\n",
       "      <th>역명</th>\n",
       "      <th>승차총승객수</th>\n",
       "      <th>하차총승객수</th>\n",
       "      <th>등록일자</th>\n",
       "      <th>자치구</th>\n",
       "    </tr>\n",
       "  </thead>\n",
       "  <tbody>\n",
       "    <tr>\n",
       "      <th>0</th>\n",
       "      <td>20220401</td>\n",
       "      <td>2112</td>\n",
       "      <td>2112번(면목동~성북동)</td>\n",
       "      <td>06243</td>\n",
       "      <td>장안동삼성쉐르빌아파트</td>\n",
       "      <td>31</td>\n",
       "      <td>156</td>\n",
       "      <td>20220404</td>\n",
       "      <td>동대문구</td>\n",
       "    </tr>\n",
       "    <tr>\n",
       "      <th>1</th>\n",
       "      <td>20220401</td>\n",
       "      <td>2112</td>\n",
       "      <td>2112번(면목동~성북동)</td>\n",
       "      <td>06242</td>\n",
       "      <td>새서울병원</td>\n",
       "      <td>46</td>\n",
       "      <td>153</td>\n",
       "      <td>20220404</td>\n",
       "      <td>동대문구</td>\n",
       "    </tr>\n",
       "    <tr>\n",
       "      <th>2</th>\n",
       "      <td>20220401</td>\n",
       "      <td>2112</td>\n",
       "      <td>2112번(면목동~성북동)</td>\n",
       "      <td>06238</td>\n",
       "      <td>장안동근린공원</td>\n",
       "      <td>11</td>\n",
       "      <td>80</td>\n",
       "      <td>20220404</td>\n",
       "      <td>동대문구</td>\n",
       "    </tr>\n",
       "    <tr>\n",
       "      <th>3</th>\n",
       "      <td>20220401</td>\n",
       "      <td>2112</td>\n",
       "      <td>2112번(면목동~성북동)</td>\n",
       "      <td>06309</td>\n",
       "      <td>휘경공고휘경주공아파트</td>\n",
       "      <td>56</td>\n",
       "      <td>65</td>\n",
       "      <td>20220404</td>\n",
       "      <td>동대문구</td>\n",
       "    </tr>\n",
       "    <tr>\n",
       "      <th>4</th>\n",
       "      <td>20220401</td>\n",
       "      <td>100</td>\n",
       "      <td>100번(하계동~용산구청)</td>\n",
       "      <td>11428</td>\n",
       "      <td>한성여객종점</td>\n",
       "      <td>9</td>\n",
       "      <td>5</td>\n",
       "      <td>20220404</td>\n",
       "      <td>노원구</td>\n",
       "    </tr>\n",
       "  </tbody>\n",
       "</table>\n",
       "</div>"
      ],
      "text/plain": [
       "       사용일자  노선번호             노선명 버스정류장ARS번호           역명  승차총승객수  하차총승객수  \\\n",
       "0  20220401  2112  2112번(면목동~성북동)      06243  장안동삼성쉐르빌아파트      31     156   \n",
       "1  20220401  2112  2112번(면목동~성북동)      06242        새서울병원      46     153   \n",
       "2  20220401  2112  2112번(면목동~성북동)      06238      장안동근린공원      11      80   \n",
       "3  20220401  2112  2112번(면목동~성북동)      06309  휘경공고휘경주공아파트      56      65   \n",
       "4  20220401   100  100번(하계동~용산구청)      11428       한성여객종점       9       5   \n",
       "\n",
       "       등록일자   자치구  \n",
       "0  20220404  동대문구  \n",
       "1  20220404  동대문구  \n",
       "2  20220404  동대문구  \n",
       "3  20220404  동대문구  \n",
       "4  20220404   노원구  "
      ]
     },
     "execution_count": 15,
     "metadata": {},
     "output_type": "execute_result"
    }
   ],
   "source": [
    "# 숫자 2자리 구 코드를 구 이름으로 변환한 결과를 확인해봅니다.\n",
    "\n",
    "bus_station.head()"
   ]
  },
  {
   "cell_type": "code",
   "execution_count": 16,
   "id": "20cc6390-dedb-4b87-a4fb-f401a2696d2b",
   "metadata": {
    "tags": []
   },
   "outputs": [
    {
     "data": {
      "text/plain": [
       "자치구\n",
       "광진구     23440\n",
       "성동구     29158\n",
       "강동구     29233\n",
       "용산구     30386\n",
       "금천구     30680\n",
       "도봉구     31042\n",
       "중구      31207\n",
       "강북구     36274\n",
       "동대문구    39749\n",
       "양천구     41174\n",
       "구로구     41449\n",
       "종로구     41473\n",
       "동작구     42905\n",
       "중랑구     44689\n",
       "영등포구    47788\n",
       "은평구     48890\n",
       "노원구     49263\n",
       "송파구     49394\n",
       "마포구     49660\n",
       "관악구     49771\n",
       "성북구     50749\n",
       "강서구     53122\n",
       "서대문구    53526\n",
       "서초구     57001\n",
       "강남구     62571\n",
       "Name: count, dtype: int64"
      ]
     },
     "execution_count": 16,
     "metadata": {},
     "output_type": "execute_result"
    }
   ],
   "source": [
    "# 자치구 컬럼의 값들을 확인해봅니다.\n",
    "bus_station['자치구'].value_counts(ascending=True)"
   ]
  },
  {
   "cell_type": "code",
   "execution_count": 17,
   "id": "94d1bcfb-cf6d-4442-bfc5-7b188a2c70c9",
   "metadata": {
    "tags": []
   },
   "outputs": [
    {
     "data": {
      "text/plain": [
       "array(['동대문구', '노원구', '강북구', '종로구', '마포구', '서대문구', '성동구', '서초구', nan,\n",
       "       '동작구', '관악구', '영등포구', '금천구', '용산구', '중구', '성북구', '구로구', '광진구',\n",
       "       '도봉구', '은평구', '중랑구', '강서구', '양천구', '강남구', '강동구', '송파구'],\n",
       "      dtype=object)"
      ]
     },
     "execution_count": 17,
     "metadata": {},
     "output_type": "execute_result"
    }
   ],
   "source": [
    "bus_station['자치구'].unique()"
   ]
  },
  {
   "cell_type": "code",
   "execution_count": 18,
   "id": "4e5c861d-5df0-4db8-8bf6-e166be2535c3",
   "metadata": {
    "tags": []
   },
   "outputs": [
    {
     "data": {
      "text/html": [
       "<div>\n",
       "<style scoped>\n",
       "    .dataframe tbody tr th:only-of-type {\n",
       "        vertical-align: middle;\n",
       "    }\n",
       "\n",
       "    .dataframe tbody tr th {\n",
       "        vertical-align: top;\n",
       "    }\n",
       "\n",
       "    .dataframe thead th {\n",
       "        text-align: right;\n",
       "    }\n",
       "</style>\n",
       "<table border=\"1\" class=\"dataframe\">\n",
       "  <thead>\n",
       "    <tr style=\"text-align: right;\">\n",
       "      <th></th>\n",
       "      <th>사용일자</th>\n",
       "      <th>노선번호</th>\n",
       "      <th>노선명</th>\n",
       "      <th>버스정류장ARS번호</th>\n",
       "      <th>역명</th>\n",
       "      <th>승차총승객수</th>\n",
       "      <th>하차총승객수</th>\n",
       "      <th>등록일자</th>\n",
       "      <th>자치구</th>\n",
       "    </tr>\n",
       "  </thead>\n",
       "  <tbody>\n",
       "    <tr>\n",
       "      <th>0</th>\n",
       "      <td>20220401</td>\n",
       "      <td>2112</td>\n",
       "      <td>2112번(면목동~성북동)</td>\n",
       "      <td>06243</td>\n",
       "      <td>장안동삼성쉐르빌아파트</td>\n",
       "      <td>31</td>\n",
       "      <td>156</td>\n",
       "      <td>20220404</td>\n",
       "      <td>동대문구</td>\n",
       "    </tr>\n",
       "    <tr>\n",
       "      <th>1</th>\n",
       "      <td>20220401</td>\n",
       "      <td>2112</td>\n",
       "      <td>2112번(면목동~성북동)</td>\n",
       "      <td>06242</td>\n",
       "      <td>새서울병원</td>\n",
       "      <td>46</td>\n",
       "      <td>153</td>\n",
       "      <td>20220404</td>\n",
       "      <td>동대문구</td>\n",
       "    </tr>\n",
       "    <tr>\n",
       "      <th>2</th>\n",
       "      <td>20220401</td>\n",
       "      <td>2112</td>\n",
       "      <td>2112번(면목동~성북동)</td>\n",
       "      <td>06238</td>\n",
       "      <td>장안동근린공원</td>\n",
       "      <td>11</td>\n",
       "      <td>80</td>\n",
       "      <td>20220404</td>\n",
       "      <td>동대문구</td>\n",
       "    </tr>\n",
       "    <tr>\n",
       "      <th>3</th>\n",
       "      <td>20220401</td>\n",
       "      <td>2112</td>\n",
       "      <td>2112번(면목동~성북동)</td>\n",
       "      <td>06309</td>\n",
       "      <td>휘경공고휘경주공아파트</td>\n",
       "      <td>56</td>\n",
       "      <td>65</td>\n",
       "      <td>20220404</td>\n",
       "      <td>동대문구</td>\n",
       "    </tr>\n",
       "    <tr>\n",
       "      <th>4</th>\n",
       "      <td>20220401</td>\n",
       "      <td>100</td>\n",
       "      <td>100번(하계동~용산구청)</td>\n",
       "      <td>11428</td>\n",
       "      <td>한성여객종점</td>\n",
       "      <td>9</td>\n",
       "      <td>5</td>\n",
       "      <td>20220404</td>\n",
       "      <td>노원구</td>\n",
       "    </tr>\n",
       "    <tr>\n",
       "      <th>...</th>\n",
       "      <td>...</td>\n",
       "      <td>...</td>\n",
       "      <td>...</td>\n",
       "      <td>...</td>\n",
       "      <td>...</td>\n",
       "      <td>...</td>\n",
       "      <td>...</td>\n",
       "      <td>...</td>\n",
       "      <td>...</td>\n",
       "    </tr>\n",
       "    <tr>\n",
       "      <th>1169873</th>\n",
       "      <td>20220430</td>\n",
       "      <td>7738</td>\n",
       "      <td>7738번(은평공영차고지~홍제역)</td>\n",
       "      <td>12004</td>\n",
       "      <td>수색교</td>\n",
       "      <td>2</td>\n",
       "      <td>32</td>\n",
       "      <td>20220503</td>\n",
       "      <td>은평구</td>\n",
       "    </tr>\n",
       "    <tr>\n",
       "      <th>1169874</th>\n",
       "      <td>20220430</td>\n",
       "      <td>201</td>\n",
       "      <td>201번(구리~서울역)</td>\n",
       "      <td>06278</td>\n",
       "      <td>세종대왕기념관</td>\n",
       "      <td>153</td>\n",
       "      <td>43</td>\n",
       "      <td>20220503</td>\n",
       "      <td>동대문구</td>\n",
       "    </tr>\n",
       "    <tr>\n",
       "      <th>1169875</th>\n",
       "      <td>20220430</td>\n",
       "      <td>강서01</td>\n",
       "      <td>강서01(약수터~등촌역)</td>\n",
       "      <td>16555</td>\n",
       "      <td>화곡본동시장</td>\n",
       "      <td>133</td>\n",
       "      <td>6</td>\n",
       "      <td>20220503</td>\n",
       "      <td>강서구</td>\n",
       "    </tr>\n",
       "    <tr>\n",
       "      <th>1169876</th>\n",
       "      <td>20220430</td>\n",
       "      <td>3321</td>\n",
       "      <td>3321번(강동차고지~강동구청)</td>\n",
       "      <td>25236</td>\n",
       "      <td>굽은다리사거리</td>\n",
       "      <td>36</td>\n",
       "      <td>41</td>\n",
       "      <td>20220503</td>\n",
       "      <td>강동구</td>\n",
       "    </tr>\n",
       "    <tr>\n",
       "      <th>1169877</th>\n",
       "      <td>20220430</td>\n",
       "      <td>201</td>\n",
       "      <td>201번(구리~서울역)</td>\n",
       "      <td>06280</td>\n",
       "      <td>영휘원사거리.(구)홍릉사거리</td>\n",
       "      <td>122</td>\n",
       "      <td>49</td>\n",
       "      <td>20220503</td>\n",
       "      <td>동대문구</td>\n",
       "    </tr>\n",
       "  </tbody>\n",
       "</table>\n",
       "<p>1169878 rows × 9 columns</p>\n",
       "</div>"
      ],
      "text/plain": [
       "             사용일자  노선번호                 노선명 버스정류장ARS번호               역명  \\\n",
       "0        20220401  2112      2112번(면목동~성북동)      06243      장안동삼성쉐르빌아파트   \n",
       "1        20220401  2112      2112번(면목동~성북동)      06242            새서울병원   \n",
       "2        20220401  2112      2112번(면목동~성북동)      06238          장안동근린공원   \n",
       "3        20220401  2112      2112번(면목동~성북동)      06309      휘경공고휘경주공아파트   \n",
       "4        20220401   100      100번(하계동~용산구청)      11428           한성여객종점   \n",
       "...           ...   ...                 ...        ...              ...   \n",
       "1169873  20220430  7738  7738번(은평공영차고지~홍제역)      12004              수색교   \n",
       "1169874  20220430   201        201번(구리~서울역)      06278          세종대왕기념관   \n",
       "1169875  20220430  강서01       강서01(약수터~등촌역)      16555           화곡본동시장   \n",
       "1169876  20220430  3321   3321번(강동차고지~강동구청)      25236          굽은다리사거리   \n",
       "1169877  20220430   201        201번(구리~서울역)      06280  영휘원사거리.(구)홍릉사거리   \n",
       "\n",
       "         승차총승객수  하차총승객수      등록일자   자치구  \n",
       "0            31     156  20220404  동대문구  \n",
       "1            46     153  20220404  동대문구  \n",
       "2            11      80  20220404  동대문구  \n",
       "3            56      65  20220404  동대문구  \n",
       "4             9       5  20220404   노원구  \n",
       "...         ...     ...       ...   ...  \n",
       "1169873       2      32  20220503   은평구  \n",
       "1169874     153      43  20220503  동대문구  \n",
       "1169875     133       6  20220503   강서구  \n",
       "1169876      36      41  20220503   강동구  \n",
       "1169877     122      49  20220503  동대문구  \n",
       "\n",
       "[1169878 rows x 9 columns]"
      ]
     },
     "execution_count": 18,
     "metadata": {},
     "output_type": "execute_result"
    }
   ],
   "source": [
    "bus_station"
   ]
  },
  {
   "cell_type": "markdown",
   "id": "0606db26",
   "metadata": {},
   "source": [
    "#### [1.2.4] 결측치 처리"
   ]
  },
  {
   "cell_type": "code",
   "execution_count": 19,
   "id": "f516f562",
   "metadata": {
    "tags": []
   },
   "outputs": [],
   "source": [
    "# NaN 값을 제거 합니다.\n",
    "# 또는 위에서 처리한 방식에 따라 NaN 값이 없는 경우는 자치구 명으로 변환되지 않은 행(서울시 자치구에 해당하지 않는 정보)을 제거합니다\n",
    "bus_station = bus_station.dropna(axis=0)"
   ]
  },
  {
   "cell_type": "code",
   "execution_count": 20,
   "id": "3e9342f9",
   "metadata": {
    "tags": []
   },
   "outputs": [
    {
     "data": {
      "text/plain": [
       "array(['동대문구', '노원구', '강북구', '종로구', '마포구', '서대문구', '성동구', '서초구', '동작구',\n",
       "       '관악구', '영등포구', '금천구', '용산구', '중구', '성북구', '구로구', '광진구', '도봉구',\n",
       "       '은평구', '중랑구', '강서구', '양천구', '강남구', '강동구', '송파구'], dtype=object)"
      ]
     },
     "execution_count": 20,
     "metadata": {},
     "output_type": "execute_result"
    }
   ],
   "source": [
    "# NaN 값을 제거한 결과를 확인해봅니다. 결측치가 제가된 만큼 컬럼 갯수가 줄어들었는 지 확인해봅니다.\n",
    "bus_station['자치구'].unique()"
   ]
  },
  {
   "cell_type": "code",
   "execution_count": 21,
   "id": "65929429-8810-4ea1-a35a-385bbb17a4f2",
   "metadata": {
    "tags": []
   },
   "outputs": [
    {
     "data": {
      "text/html": [
       "<div>\n",
       "<style scoped>\n",
       "    .dataframe tbody tr th:only-of-type {\n",
       "        vertical-align: middle;\n",
       "    }\n",
       "\n",
       "    .dataframe tbody tr th {\n",
       "        vertical-align: top;\n",
       "    }\n",
       "\n",
       "    .dataframe thead th {\n",
       "        text-align: right;\n",
       "    }\n",
       "</style>\n",
       "<table border=\"1\" class=\"dataframe\">\n",
       "  <thead>\n",
       "    <tr style=\"text-align: right;\">\n",
       "      <th></th>\n",
       "      <th>사용일자</th>\n",
       "      <th>승차총승객수</th>\n",
       "      <th>하차총승객수</th>\n",
       "      <th>등록일자</th>\n",
       "    </tr>\n",
       "  </thead>\n",
       "  <tbody>\n",
       "    <tr>\n",
       "      <th>count</th>\n",
       "      <td>1.064594e+06</td>\n",
       "      <td>1.064594e+06</td>\n",
       "      <td>1.064594e+06</td>\n",
       "      <td>1.064594e+06</td>\n",
       "    </tr>\n",
       "    <tr>\n",
       "      <th>mean</th>\n",
       "      <td>2.022042e+07</td>\n",
       "      <td>1.154652e+02</td>\n",
       "      <td>1.128579e+02</td>\n",
       "      <td>2.022043e+07</td>\n",
       "    </tr>\n",
       "    <tr>\n",
       "      <th>std</th>\n",
       "      <td>8.662137e+00</td>\n",
       "      <td>1.589672e+02</td>\n",
       "      <td>1.455026e+02</td>\n",
       "      <td>2.668863e+01</td>\n",
       "    </tr>\n",
       "    <tr>\n",
       "      <th>min</th>\n",
       "      <td>2.022040e+07</td>\n",
       "      <td>0.000000e+00</td>\n",
       "      <td>0.000000e+00</td>\n",
       "      <td>2.022040e+07</td>\n",
       "    </tr>\n",
       "    <tr>\n",
       "      <th>25%</th>\n",
       "      <td>2.022041e+07</td>\n",
       "      <td>2.000000e+01</td>\n",
       "      <td>2.400000e+01</td>\n",
       "      <td>2.022041e+07</td>\n",
       "    </tr>\n",
       "    <tr>\n",
       "      <th>50%</th>\n",
       "      <td>2.022042e+07</td>\n",
       "      <td>6.800000e+01</td>\n",
       "      <td>7.200000e+01</td>\n",
       "      <td>2.022042e+07</td>\n",
       "    </tr>\n",
       "    <tr>\n",
       "      <th>75%</th>\n",
       "      <td>2.022042e+07</td>\n",
       "      <td>1.520000e+02</td>\n",
       "      <td>1.510000e+02</td>\n",
       "      <td>2.022043e+07</td>\n",
       "    </tr>\n",
       "    <tr>\n",
       "      <th>max</th>\n",
       "      <td>2.022043e+07</td>\n",
       "      <td>3.990000e+03</td>\n",
       "      <td>3.615000e+03</td>\n",
       "      <td>2.022050e+07</td>\n",
       "    </tr>\n",
       "  </tbody>\n",
       "</table>\n",
       "</div>"
      ],
      "text/plain": [
       "               사용일자        승차총승객수        하차총승객수          등록일자\n",
       "count  1.064594e+06  1.064594e+06  1.064594e+06  1.064594e+06\n",
       "mean   2.022042e+07  1.154652e+02  1.128579e+02  2.022043e+07\n",
       "std    8.662137e+00  1.589672e+02  1.455026e+02  2.668863e+01\n",
       "min    2.022040e+07  0.000000e+00  0.000000e+00  2.022040e+07\n",
       "25%    2.022041e+07  2.000000e+01  2.400000e+01  2.022041e+07\n",
       "50%    2.022042e+07  6.800000e+01  7.200000e+01  2.022042e+07\n",
       "75%    2.022042e+07  1.520000e+02  1.510000e+02  2.022043e+07\n",
       "max    2.022043e+07  3.990000e+03  3.615000e+03  2.022050e+07"
      ]
     },
     "execution_count": 21,
     "metadata": {},
     "output_type": "execute_result"
    }
   ],
   "source": [
    "bus_station.describe()"
   ]
  },
  {
   "cell_type": "markdown",
   "id": "003322b3",
   "metadata": {
    "tags": []
   },
   "source": [
    "#### [1.2.5] 데이터 추가 분석 (버스정류장의 위치가 서울시인지 재확인)\n",
    "\n",
    "* 위에서 버스정류장ARS번호의 앞 2자리로 서울시 자치구에 속한 버스정류장만 추출했습니다. \n",
    "* 그런데 이렇게 추출한 버스정류장도 서울시에 속하지 않는 경우가 있어, 추가 데이터를 활용하여 한번 더 서울시 정류장만 추출하려고 합니다."
   ]
  },
  {
   "cell_type": "code",
   "execution_count": 22,
   "id": "10161f2f-21aa-4fdc-90de-997ccd0db02d",
   "metadata": {
    "tags": []
   },
   "outputs": [
    {
     "data": {
      "text/html": [
       "<div>\n",
       "<style scoped>\n",
       "    .dataframe tbody tr th:only-of-type {\n",
       "        vertical-align: middle;\n",
       "    }\n",
       "\n",
       "    .dataframe tbody tr th {\n",
       "        vertical-align: top;\n",
       "    }\n",
       "\n",
       "    .dataframe thead th {\n",
       "        text-align: right;\n",
       "    }\n",
       "</style>\n",
       "<table border=\"1\" class=\"dataframe\">\n",
       "  <thead>\n",
       "    <tr style=\"text-align: right;\">\n",
       "      <th></th>\n",
       "      <th>사용일자</th>\n",
       "      <th>노선번호</th>\n",
       "      <th>노선명</th>\n",
       "      <th>버스정류장ARS번호</th>\n",
       "      <th>역명</th>\n",
       "      <th>승차총승객수</th>\n",
       "      <th>하차총승객수</th>\n",
       "      <th>등록일자</th>\n",
       "      <th>자치구</th>\n",
       "    </tr>\n",
       "  </thead>\n",
       "  <tbody>\n",
       "    <tr>\n",
       "      <th>0</th>\n",
       "      <td>20220401</td>\n",
       "      <td>2112</td>\n",
       "      <td>2112번(면목동~성북동)</td>\n",
       "      <td>06243</td>\n",
       "      <td>장안동삼성쉐르빌아파트</td>\n",
       "      <td>31</td>\n",
       "      <td>156</td>\n",
       "      <td>20220404</td>\n",
       "      <td>동대문구</td>\n",
       "    </tr>\n",
       "    <tr>\n",
       "      <th>1</th>\n",
       "      <td>20220401</td>\n",
       "      <td>2112</td>\n",
       "      <td>2112번(면목동~성북동)</td>\n",
       "      <td>06242</td>\n",
       "      <td>새서울병원</td>\n",
       "      <td>46</td>\n",
       "      <td>153</td>\n",
       "      <td>20220404</td>\n",
       "      <td>동대문구</td>\n",
       "    </tr>\n",
       "    <tr>\n",
       "      <th>2</th>\n",
       "      <td>20220401</td>\n",
       "      <td>2112</td>\n",
       "      <td>2112번(면목동~성북동)</td>\n",
       "      <td>06238</td>\n",
       "      <td>장안동근린공원</td>\n",
       "      <td>11</td>\n",
       "      <td>80</td>\n",
       "      <td>20220404</td>\n",
       "      <td>동대문구</td>\n",
       "    </tr>\n",
       "    <tr>\n",
       "      <th>3</th>\n",
       "      <td>20220401</td>\n",
       "      <td>2112</td>\n",
       "      <td>2112번(면목동~성북동)</td>\n",
       "      <td>06309</td>\n",
       "      <td>휘경공고휘경주공아파트</td>\n",
       "      <td>56</td>\n",
       "      <td>65</td>\n",
       "      <td>20220404</td>\n",
       "      <td>동대문구</td>\n",
       "    </tr>\n",
       "    <tr>\n",
       "      <th>4</th>\n",
       "      <td>20220401</td>\n",
       "      <td>100</td>\n",
       "      <td>100번(하계동~용산구청)</td>\n",
       "      <td>11428</td>\n",
       "      <td>한성여객종점</td>\n",
       "      <td>9</td>\n",
       "      <td>5</td>\n",
       "      <td>20220404</td>\n",
       "      <td>노원구</td>\n",
       "    </tr>\n",
       "  </tbody>\n",
       "</table>\n",
       "</div>"
      ],
      "text/plain": [
       "       사용일자  노선번호             노선명 버스정류장ARS번호           역명  승차총승객수  하차총승객수  \\\n",
       "0  20220401  2112  2112번(면목동~성북동)      06243  장안동삼성쉐르빌아파트      31     156   \n",
       "1  20220401  2112  2112번(면목동~성북동)      06242        새서울병원      46     153   \n",
       "2  20220401  2112  2112번(면목동~성북동)      06238      장안동근린공원      11      80   \n",
       "3  20220401  2112  2112번(면목동~성북동)      06309  휘경공고휘경주공아파트      56      65   \n",
       "4  20220401   100  100번(하계동~용산구청)      11428       한성여객종점       9       5   \n",
       "\n",
       "       등록일자   자치구  \n",
       "0  20220404  동대문구  \n",
       "1  20220404  동대문구  \n",
       "2  20220404  동대문구  \n",
       "3  20220404  동대문구  \n",
       "4  20220404   노원구  "
      ]
     },
     "execution_count": 22,
     "metadata": {},
     "output_type": "execute_result"
    }
   ],
   "source": [
    "bus_station.head()"
   ]
  },
  {
   "cell_type": "code",
   "execution_count": 23,
   "id": "7b63abb7",
   "metadata": {
    "tags": []
   },
   "outputs": [
    {
     "data": {
      "text/plain": [
       "자치구\n",
       "강남구     506\n",
       "강동구     373\n",
       "강북구     413\n",
       "강서구     566\n",
       "관악구     468\n",
       "광진구     272\n",
       "구로구     486\n",
       "금천구     345\n",
       "노원구     515\n",
       "도봉구     361\n",
       "동대문구    306\n",
       "동작구     442\n",
       "마포구     568\n",
       "서대문구    460\n",
       "서초구     600\n",
       "성동구     436\n",
       "성북구     606\n",
       "송파구     416\n",
       "양천구     323\n",
       "영등포구    467\n",
       "용산구     323\n",
       "은평구     501\n",
       "종로구     350\n",
       "중구      178\n",
       "중랑구     423\n",
       "Name: 버스정류장ARS번호, dtype: int64"
      ]
     },
     "execution_count": 23,
     "metadata": {},
     "output_type": "execute_result"
    }
   ],
   "source": [
    "# 자치구 별로 정류장의 개수를 확인해봅니다. (nunique로 고유값의 갯수만 확인)\n",
    "bus_station.groupby('자치구')['버스정류장ARS번호'].agg('nunique')"
   ]
  },
  {
   "cell_type": "code",
   "execution_count": 24,
   "id": "3c63d951",
   "metadata": {
    "tags": []
   },
   "outputs": [
    {
     "data": {
      "text/plain": [
       "13189      23355\n",
       "899606     23309\n",
       "1132588    23149\n",
       "283121     23227\n",
       "141198     23239\n",
       "Name: 버스정류장ARS번호, dtype: object"
      ]
     },
     "execution_count": 24,
     "metadata": {},
     "output_type": "execute_result"
    }
   ],
   "source": [
    "# 강남구와 서초구에 500개가 넘는 버스정류장이 있습니다. \n",
    "# 이 중에 랜덤으로 몇 개를 골라 해당 자치구의 정류장이 맞는 지 확인해 보고자 합니다.\n",
    "# 강남구의 버스정류장ARS번호 전체값을 출력해, 강남구의 버스정류장ARS번호 하나를 조사(네이버 지도에서 버스정류장 검색)해봅니다.\n",
    "bus_station.loc[bus_station['자치구']=='강남구', '버스정류장ARS번호'].sample(n=5)"
   ]
  },
  {
   "cell_type": "markdown",
   "id": "ca150b7c-bf25-45bd-b504-8675cf38f97c",
   "metadata": {},
   "source": [
    "#### 여기서 잠깐!\n",
    "\n",
    "* 예를 들어 강남구 정류장 중 하나인 23081 정류장을 네이버지도에서 버스정류장 검색을 해보면 강남구가 아니라 남양주에 위치해 있습니다. \n",
    "* 이것은 2015년경 버스 노선을 정리 하면서 서울에서 경기도까지 이어지는 노선들의 버스정류장 ARS번호에 서울시 코드를 부여하여 생긴 현상입니다.(도메인지식) \n",
    "* 하지만 우리는 서울시 내의 데이터가 필요하므로 적절한 조치가 필요합니다."
   ]
  },
  {
   "cell_type": "markdown",
   "id": "1d79425e-6a7f-451b-8db4-669c87c356b6",
   "metadata": {
    "tags": []
   },
   "source": [
    "#### [1.2.6] 추가 csv 파일로 서울시 버스정류장만 추출하기\n",
    "* 위에서 작업한 bus_station 데이터와 서울의 버스 정류장 데이터를 merge하는 방법을 활용해 봅니다.\n",
    "* 서울의 버스 정류장만 포함하고 있는 csv 파일은 아래와 같이 제공됩니다.\n",
    "* 파일명: 1.2 bus_station_seoul.csv\n",
    "* 출처: https://data.seoul.go.kr/dataList/OA-15067/S/1/datasetView.do (서울 열린데이터 광장)"
   ]
  },
  {
   "cell_type": "code",
   "execution_count": 25,
   "id": "0753a1e1",
   "metadata": {
    "tags": []
   },
   "outputs": [],
   "source": [
    "# 데이터 로딩 (1.2 bus_station_seoul.csv 의 데이터를 불러와서 only_seoul 변수에 저장합니다)\n",
    "# 데이터 로딩 시 오류가 발생하는 경우 검색 등을 통해 encoding 값을 적용해보세요.\n",
    "only_seoul = pd.read_csv('./bus_station_seoul.csv')"
   ]
  },
  {
   "cell_type": "code",
   "execution_count": 26,
   "id": "3d26be88",
   "metadata": {
    "tags": []
   },
   "outputs": [
    {
     "data": {
      "text/html": [
       "<div>\n",
       "<style scoped>\n",
       "    .dataframe tbody tr th:only-of-type {\n",
       "        vertical-align: middle;\n",
       "    }\n",
       "\n",
       "    .dataframe tbody tr th {\n",
       "        vertical-align: top;\n",
       "    }\n",
       "\n",
       "    .dataframe thead th {\n",
       "        text-align: right;\n",
       "    }\n",
       "</style>\n",
       "<table border=\"1\" class=\"dataframe\">\n",
       "  <thead>\n",
       "    <tr style=\"text-align: right;\">\n",
       "      <th></th>\n",
       "      <th>ARS-ID</th>\n",
       "      <th>정류소명</th>\n",
       "    </tr>\n",
       "  </thead>\n",
       "  <tbody>\n",
       "    <tr>\n",
       "      <th>0</th>\n",
       "      <td>1001</td>\n",
       "      <td>종로2가사거리</td>\n",
       "    </tr>\n",
       "    <tr>\n",
       "      <th>1</th>\n",
       "      <td>1002</td>\n",
       "      <td>창경궁.서울대학교병원</td>\n",
       "    </tr>\n",
       "    <tr>\n",
       "      <th>2</th>\n",
       "      <td>1003</td>\n",
       "      <td>명륜3가.성대입구</td>\n",
       "    </tr>\n",
       "    <tr>\n",
       "      <th>3</th>\n",
       "      <td>1004</td>\n",
       "      <td>종로2가.삼일교</td>\n",
       "    </tr>\n",
       "    <tr>\n",
       "      <th>4</th>\n",
       "      <td>1005</td>\n",
       "      <td>혜화동로터리.여운형활동터</td>\n",
       "    </tr>\n",
       "  </tbody>\n",
       "</table>\n",
       "</div>"
      ],
      "text/plain": [
       "   ARS-ID           정류소명\n",
       "0    1001        종로2가사거리\n",
       "1    1002    창경궁.서울대학교병원\n",
       "2    1003      명륜3가.성대입구\n",
       "3    1004       종로2가.삼일교\n",
       "4    1005  혜화동로터리.여운형활동터"
      ]
     },
     "execution_count": 26,
     "metadata": {},
     "output_type": "execute_result"
    }
   ],
   "source": [
    "# 서울의 버스정류장 데이터의 정보 확인\n",
    "only_seoul.head()"
   ]
  },
  {
   "cell_type": "code",
   "execution_count": 27,
   "id": "e2291dc7",
   "metadata": {
    "tags": []
   },
   "outputs": [
    {
     "name": "stdout",
     "output_type": "stream",
     "text": [
      "<class 'pandas.core.frame.DataFrame'>\n",
      "RangeIndex: 10935 entries, 0 to 10934\n",
      "Data columns (total 2 columns):\n",
      " #   Column  Non-Null Count  Dtype \n",
      "---  ------  --------------  ----- \n",
      " 0   ARS-ID  10935 non-null  int64 \n",
      " 1   정류소명    10935 non-null  object\n",
      "dtypes: int64(1), object(1)\n",
      "memory usage: 171.0+ KB\n"
     ]
    }
   ],
   "source": [
    "# 데이터 살펴보기\n",
    "only_seoul.info()"
   ]
  },
  {
   "cell_type": "code",
   "execution_count": 28,
   "id": "e4f35a67",
   "metadata": {
    "tags": []
   },
   "outputs": [
    {
     "data": {
      "text/html": [
       "<div>\n",
       "<style scoped>\n",
       "    .dataframe tbody tr th:only-of-type {\n",
       "        vertical-align: middle;\n",
       "    }\n",
       "\n",
       "    .dataframe tbody tr th {\n",
       "        vertical-align: top;\n",
       "    }\n",
       "\n",
       "    .dataframe thead th {\n",
       "        text-align: right;\n",
       "    }\n",
       "</style>\n",
       "<table border=\"1\" class=\"dataframe\">\n",
       "  <thead>\n",
       "    <tr style=\"text-align: right;\">\n",
       "      <th></th>\n",
       "      <th>ARS-ID</th>\n",
       "      <th>정류소명</th>\n",
       "    </tr>\n",
       "  </thead>\n",
       "  <tbody>\n",
       "  </tbody>\n",
       "</table>\n",
       "</div>"
      ],
      "text/plain": [
       "Empty DataFrame\n",
       "Columns: [ARS-ID, 정류소명]\n",
       "Index: []"
      ]
     },
     "execution_count": 28,
     "metadata": {},
     "output_type": "execute_result"
    }
   ],
   "source": [
    "# 위에서 네이버 지도로 확인했던 강남구 정류장ARS번호 23081이 이 데이터프레임에 있는지 찾아봅니다.\n",
    "only_seoul.loc[only_seoul['ARS-ID'] == 23081]"
   ]
  },
  {
   "cell_type": "code",
   "execution_count": 29,
   "id": "ae560474",
   "metadata": {
    "tags": []
   },
   "outputs": [
    {
     "data": {
      "text/plain": [
       "dtype('int64')"
      ]
     },
     "execution_count": 29,
     "metadata": {},
     "output_type": "execute_result"
    }
   ],
   "source": [
    "# bus_station과 only_seoul 데이터를 합치기 전에 버스정류장ARS번호의 type을 변경합니다. \n",
    "# 어떤 type으로 변경해야 할 지 생각해보세요.\n",
    "only_seoul['ARS-ID'].dtype"
   ]
  },
  {
   "cell_type": "code",
   "execution_count": 30,
   "id": "8fd4f173-a667-407b-9534-289105abba91",
   "metadata": {
    "tags": []
   },
   "outputs": [
    {
     "data": {
      "text/plain": [
       "dtype('O')"
      ]
     },
     "execution_count": 30,
     "metadata": {},
     "output_type": "execute_result"
    }
   ],
   "source": [
    "bus_station['버스정류장ARS번호'].dtype"
   ]
  },
  {
   "cell_type": "code",
   "execution_count": 31,
   "id": "2e715250-9efe-496b-b691-4b660bdf8b8b",
   "metadata": {
    "tags": []
   },
   "outputs": [],
   "source": [
    "only_seoul['ARS-ID'] = only_seoul['ARS-ID'].astype('string').str.zfill(5).astype('object')"
   ]
  },
  {
   "cell_type": "code",
   "execution_count": 32,
   "id": "fab22899-955e-4a61-974f-23b54d408b17",
   "metadata": {
    "tags": []
   },
   "outputs": [
    {
     "data": {
      "text/plain": [
       "ARS-ID    object\n",
       "정류소명      object\n",
       "dtype: object"
      ]
     },
     "execution_count": 32,
     "metadata": {},
     "output_type": "execute_result"
    }
   ],
   "source": [
    "only_seoul.dtypes"
   ]
  },
  {
   "cell_type": "code",
   "execution_count": 33,
   "id": "d607bf62",
   "metadata": {
    "tags": []
   },
   "outputs": [],
   "source": [
    "# 두 데이터를 합치기 전에 데이터의 컬럼명을 변경합니다. (버스정류장ARS번호로 맞춥니다.)\n",
    "only_seoul.rename(columns={'ARS-ID': '버스정류장ARS번호'}, inplace=True)"
   ]
  },
  {
   "cell_type": "code",
   "execution_count": 34,
   "id": "7c54f101-bdb5-4b0f-bec3-f48f62d8c0eb",
   "metadata": {
    "tags": []
   },
   "outputs": [
    {
     "name": "stdout",
     "output_type": "stream",
     "text": [
      "<class 'pandas.core.frame.DataFrame'>\n",
      "RangeIndex: 10935 entries, 0 to 10934\n",
      "Data columns (total 2 columns):\n",
      " #   Column      Non-Null Count  Dtype \n",
      "---  ------      --------------  ----- \n",
      " 0   버스정류장ARS번호  10935 non-null  object\n",
      " 1   정류소명        10935 non-null  object\n",
      "dtypes: object(2)\n",
      "memory usage: 171.0+ KB\n"
     ]
    }
   ],
   "source": [
    "only_seoul.info()"
   ]
  },
  {
   "cell_type": "code",
   "execution_count": 35,
   "id": "2e8214ec",
   "metadata": {
    "tags": []
   },
   "outputs": [
    {
     "name": "stderr",
     "output_type": "stream",
     "text": [
      "C:\\Users\\jwch1\\AppData\\Local\\Temp\\ipykernel_40700\\2631966772.py:2: FutureWarning: The behavior of pd.concat with len(keys) != len(objs) is deprecated. In a future version this will raise instead of truncating to the smaller of the two sequences\n",
      "  pd.concat([bus_station, only_seoul], axis=1, join='inner', keys=['버스정류장ARS번호'])\n"
     ]
    },
    {
     "data": {
      "text/html": [
       "<div>\n",
       "<style scoped>\n",
       "    .dataframe tbody tr th:only-of-type {\n",
       "        vertical-align: middle;\n",
       "    }\n",
       "\n",
       "    .dataframe tbody tr th {\n",
       "        vertical-align: top;\n",
       "    }\n",
       "\n",
       "    .dataframe thead tr th {\n",
       "        text-align: left;\n",
       "    }\n",
       "</style>\n",
       "<table border=\"1\" class=\"dataframe\">\n",
       "  <thead>\n",
       "    <tr>\n",
       "      <th></th>\n",
       "      <th colspan=\"9\" halign=\"left\">버스정류장ARS번호</th>\n",
       "    </tr>\n",
       "    <tr>\n",
       "      <th></th>\n",
       "      <th>사용일자</th>\n",
       "      <th>노선번호</th>\n",
       "      <th>노선명</th>\n",
       "      <th>버스정류장ARS번호</th>\n",
       "      <th>역명</th>\n",
       "      <th>승차총승객수</th>\n",
       "      <th>하차총승객수</th>\n",
       "      <th>등록일자</th>\n",
       "      <th>자치구</th>\n",
       "    </tr>\n",
       "  </thead>\n",
       "  <tbody>\n",
       "    <tr>\n",
       "      <th>0</th>\n",
       "      <td>20220401</td>\n",
       "      <td>2112</td>\n",
       "      <td>2112번(면목동~성북동)</td>\n",
       "      <td>06243</td>\n",
       "      <td>장안동삼성쉐르빌아파트</td>\n",
       "      <td>31</td>\n",
       "      <td>156</td>\n",
       "      <td>20220404</td>\n",
       "      <td>동대문구</td>\n",
       "    </tr>\n",
       "    <tr>\n",
       "      <th>1</th>\n",
       "      <td>20220401</td>\n",
       "      <td>2112</td>\n",
       "      <td>2112번(면목동~성북동)</td>\n",
       "      <td>06242</td>\n",
       "      <td>새서울병원</td>\n",
       "      <td>46</td>\n",
       "      <td>153</td>\n",
       "      <td>20220404</td>\n",
       "      <td>동대문구</td>\n",
       "    </tr>\n",
       "    <tr>\n",
       "      <th>2</th>\n",
       "      <td>20220401</td>\n",
       "      <td>2112</td>\n",
       "      <td>2112번(면목동~성북동)</td>\n",
       "      <td>06238</td>\n",
       "      <td>장안동근린공원</td>\n",
       "      <td>11</td>\n",
       "      <td>80</td>\n",
       "      <td>20220404</td>\n",
       "      <td>동대문구</td>\n",
       "    </tr>\n",
       "    <tr>\n",
       "      <th>3</th>\n",
       "      <td>20220401</td>\n",
       "      <td>2112</td>\n",
       "      <td>2112번(면목동~성북동)</td>\n",
       "      <td>06309</td>\n",
       "      <td>휘경공고휘경주공아파트</td>\n",
       "      <td>56</td>\n",
       "      <td>65</td>\n",
       "      <td>20220404</td>\n",
       "      <td>동대문구</td>\n",
       "    </tr>\n",
       "    <tr>\n",
       "      <th>4</th>\n",
       "      <td>20220401</td>\n",
       "      <td>100</td>\n",
       "      <td>100번(하계동~용산구청)</td>\n",
       "      <td>11428</td>\n",
       "      <td>한성여객종점</td>\n",
       "      <td>9</td>\n",
       "      <td>5</td>\n",
       "      <td>20220404</td>\n",
       "      <td>노원구</td>\n",
       "    </tr>\n",
       "    <tr>\n",
       "      <th>...</th>\n",
       "      <td>...</td>\n",
       "      <td>...</td>\n",
       "      <td>...</td>\n",
       "      <td>...</td>\n",
       "      <td>...</td>\n",
       "      <td>...</td>\n",
       "      <td>...</td>\n",
       "      <td>...</td>\n",
       "      <td>...</td>\n",
       "    </tr>\n",
       "    <tr>\n",
       "      <th>1169873</th>\n",
       "      <td>20220430</td>\n",
       "      <td>7738</td>\n",
       "      <td>7738번(은평공영차고지~홍제역)</td>\n",
       "      <td>12004</td>\n",
       "      <td>수색교</td>\n",
       "      <td>2</td>\n",
       "      <td>32</td>\n",
       "      <td>20220503</td>\n",
       "      <td>은평구</td>\n",
       "    </tr>\n",
       "    <tr>\n",
       "      <th>1169874</th>\n",
       "      <td>20220430</td>\n",
       "      <td>201</td>\n",
       "      <td>201번(구리~서울역)</td>\n",
       "      <td>06278</td>\n",
       "      <td>세종대왕기념관</td>\n",
       "      <td>153</td>\n",
       "      <td>43</td>\n",
       "      <td>20220503</td>\n",
       "      <td>동대문구</td>\n",
       "    </tr>\n",
       "    <tr>\n",
       "      <th>1169875</th>\n",
       "      <td>20220430</td>\n",
       "      <td>강서01</td>\n",
       "      <td>강서01(약수터~등촌역)</td>\n",
       "      <td>16555</td>\n",
       "      <td>화곡본동시장</td>\n",
       "      <td>133</td>\n",
       "      <td>6</td>\n",
       "      <td>20220503</td>\n",
       "      <td>강서구</td>\n",
       "    </tr>\n",
       "    <tr>\n",
       "      <th>1169876</th>\n",
       "      <td>20220430</td>\n",
       "      <td>3321</td>\n",
       "      <td>3321번(강동차고지~강동구청)</td>\n",
       "      <td>25236</td>\n",
       "      <td>굽은다리사거리</td>\n",
       "      <td>36</td>\n",
       "      <td>41</td>\n",
       "      <td>20220503</td>\n",
       "      <td>강동구</td>\n",
       "    </tr>\n",
       "    <tr>\n",
       "      <th>1169877</th>\n",
       "      <td>20220430</td>\n",
       "      <td>201</td>\n",
       "      <td>201번(구리~서울역)</td>\n",
       "      <td>06280</td>\n",
       "      <td>영휘원사거리.(구)홍릉사거리</td>\n",
       "      <td>122</td>\n",
       "      <td>49</td>\n",
       "      <td>20220503</td>\n",
       "      <td>동대문구</td>\n",
       "    </tr>\n",
       "  </tbody>\n",
       "</table>\n",
       "<p>1064594 rows × 9 columns</p>\n",
       "</div>"
      ],
      "text/plain": [
       "        버스정류장ARS번호                                                        \\\n",
       "              사용일자  노선번호                 노선명 버스정류장ARS번호               역명   \n",
       "0         20220401  2112      2112번(면목동~성북동)      06243      장안동삼성쉐르빌아파트   \n",
       "1         20220401  2112      2112번(면목동~성북동)      06242            새서울병원   \n",
       "2         20220401  2112      2112번(면목동~성북동)      06238          장안동근린공원   \n",
       "3         20220401  2112      2112번(면목동~성북동)      06309      휘경공고휘경주공아파트   \n",
       "4         20220401   100      100번(하계동~용산구청)      11428           한성여객종점   \n",
       "...            ...   ...                 ...        ...              ...   \n",
       "1169873   20220430  7738  7738번(은평공영차고지~홍제역)      12004              수색교   \n",
       "1169874   20220430   201        201번(구리~서울역)      06278          세종대왕기념관   \n",
       "1169875   20220430  강서01       강서01(약수터~등촌역)      16555           화곡본동시장   \n",
       "1169876   20220430  3321   3321번(강동차고지~강동구청)      25236          굽은다리사거리   \n",
       "1169877   20220430   201        201번(구리~서울역)      06280  영휘원사거리.(구)홍릉사거리   \n",
       "\n",
       "                                       \n",
       "        승차총승객수 하차총승객수      등록일자   자치구  \n",
       "0           31    156  20220404  동대문구  \n",
       "1           46    153  20220404  동대문구  \n",
       "2           11     80  20220404  동대문구  \n",
       "3           56     65  20220404  동대문구  \n",
       "4            9      5  20220404   노원구  \n",
       "...        ...    ...       ...   ...  \n",
       "1169873      2     32  20220503   은평구  \n",
       "1169874    153     43  20220503  동대문구  \n",
       "1169875    133      6  20220503   강서구  \n",
       "1169876     36     41  20220503   강동구  \n",
       "1169877    122     49  20220503  동대문구  \n",
       "\n",
       "[1064594 rows x 9 columns]"
      ]
     },
     "execution_count": 35,
     "metadata": {},
     "output_type": "execute_result"
    }
   ],
   "source": [
    "# bus_station과 only_seoul 데이터를 merge 해봅니다.\n",
    "pd.concat([bus_station, only_seoul], axis=1, join='inner', keys=['버스정류장ARS번호'])"
   ]
  },
  {
   "cell_type": "code",
   "execution_count": 36,
   "id": "9f906a69-59f7-460d-8447-d3a317319336",
   "metadata": {
    "tags": []
   },
   "outputs": [],
   "source": [
    "seoul_station = pd.merge(bus_station, only_seoul, on='버스정류장ARS번호', how='inner')"
   ]
  },
  {
   "cell_type": "code",
   "execution_count": 37,
   "id": "4bcb5acf",
   "metadata": {
    "tags": []
   },
   "outputs": [
    {
     "data": {
      "text/html": [
       "<div>\n",
       "<style scoped>\n",
       "    .dataframe tbody tr th:only-of-type {\n",
       "        vertical-align: middle;\n",
       "    }\n",
       "\n",
       "    .dataframe tbody tr th {\n",
       "        vertical-align: top;\n",
       "    }\n",
       "\n",
       "    .dataframe thead th {\n",
       "        text-align: right;\n",
       "    }\n",
       "</style>\n",
       "<table border=\"1\" class=\"dataframe\">\n",
       "  <thead>\n",
       "    <tr style=\"text-align: right;\">\n",
       "      <th></th>\n",
       "      <th>사용일자</th>\n",
       "      <th>노선번호</th>\n",
       "      <th>노선명</th>\n",
       "      <th>버스정류장ARS번호</th>\n",
       "      <th>역명</th>\n",
       "      <th>승차총승객수</th>\n",
       "      <th>하차총승객수</th>\n",
       "      <th>등록일자</th>\n",
       "      <th>자치구</th>\n",
       "      <th>정류소명</th>\n",
       "    </tr>\n",
       "  </thead>\n",
       "  <tbody>\n",
       "    <tr>\n",
       "      <th>0</th>\n",
       "      <td>20220401</td>\n",
       "      <td>2112</td>\n",
       "      <td>2112번(면목동~성북동)</td>\n",
       "      <td>06243</td>\n",
       "      <td>장안동삼성쉐르빌아파트</td>\n",
       "      <td>31</td>\n",
       "      <td>156</td>\n",
       "      <td>20220404</td>\n",
       "      <td>동대문구</td>\n",
       "      <td>장안동삼성쉐르빌아파트</td>\n",
       "    </tr>\n",
       "    <tr>\n",
       "      <th>1</th>\n",
       "      <td>20220401</td>\n",
       "      <td>2233</td>\n",
       "      <td>2233번(면목동~옥수동)</td>\n",
       "      <td>06243</td>\n",
       "      <td>장안동삼성쉐르빌아파트</td>\n",
       "      <td>75</td>\n",
       "      <td>197</td>\n",
       "      <td>20220404</td>\n",
       "      <td>동대문구</td>\n",
       "      <td>장안동삼성쉐르빌아파트</td>\n",
       "    </tr>\n",
       "    <tr>\n",
       "      <th>2</th>\n",
       "      <td>20220401</td>\n",
       "      <td>2233</td>\n",
       "      <td>2233번(면목동~옥수동)</td>\n",
       "      <td>06243</td>\n",
       "      <td>장안동삼성쉐르빌아파트</td>\n",
       "      <td>21</td>\n",
       "      <td>245</td>\n",
       "      <td>20220404</td>\n",
       "      <td>동대문구</td>\n",
       "      <td>장안동삼성쉐르빌아파트</td>\n",
       "    </tr>\n",
       "    <tr>\n",
       "      <th>3</th>\n",
       "      <td>20220401</td>\n",
       "      <td>2416</td>\n",
       "      <td>2416번(중랑공영차고지~삼성역)</td>\n",
       "      <td>06243</td>\n",
       "      <td>장안동삼성쉐르빌아파트</td>\n",
       "      <td>42</td>\n",
       "      <td>268</td>\n",
       "      <td>20220404</td>\n",
       "      <td>동대문구</td>\n",
       "      <td>장안동삼성쉐르빌아파트</td>\n",
       "    </tr>\n",
       "    <tr>\n",
       "      <th>4</th>\n",
       "      <td>20220402</td>\n",
       "      <td>2233</td>\n",
       "      <td>2233번(면목동~옥수동)</td>\n",
       "      <td>06243</td>\n",
       "      <td>장안동삼성쉐르빌아파트</td>\n",
       "      <td>12</td>\n",
       "      <td>127</td>\n",
       "      <td>20220405</td>\n",
       "      <td>동대문구</td>\n",
       "      <td>장안동삼성쉐르빌아파트</td>\n",
       "    </tr>\n",
       "  </tbody>\n",
       "</table>\n",
       "</div>"
      ],
      "text/plain": [
       "       사용일자  노선번호                 노선명 버스정류장ARS번호           역명  승차총승객수  하차총승객수  \\\n",
       "0  20220401  2112      2112번(면목동~성북동)      06243  장안동삼성쉐르빌아파트      31     156   \n",
       "1  20220401  2233      2233번(면목동~옥수동)      06243  장안동삼성쉐르빌아파트      75     197   \n",
       "2  20220401  2233      2233번(면목동~옥수동)      06243  장안동삼성쉐르빌아파트      21     245   \n",
       "3  20220401  2416  2416번(중랑공영차고지~삼성역)      06243  장안동삼성쉐르빌아파트      42     268   \n",
       "4  20220402  2233      2233번(면목동~옥수동)      06243  장안동삼성쉐르빌아파트      12     127   \n",
       "\n",
       "       등록일자   자치구         정류소명  \n",
       "0  20220404  동대문구  장안동삼성쉐르빌아파트  \n",
       "1  20220404  동대문구  장안동삼성쉐르빌아파트  \n",
       "2  20220404  동대문구  장안동삼성쉐르빌아파트  \n",
       "3  20220404  동대문구  장안동삼성쉐르빌아파트  \n",
       "4  20220405  동대문구  장안동삼성쉐르빌아파트  "
      ]
     },
     "execution_count": 37,
     "metadata": {},
     "output_type": "execute_result"
    }
   ],
   "source": [
    "# bus_station과 only_seoul 데이터를 merge한 결과를 확인해봅니다.\n",
    "seoul_station.head()"
   ]
  },
  {
   "cell_type": "code",
   "execution_count": 38,
   "id": "1fa4277b",
   "metadata": {
    "tags": []
   },
   "outputs": [
    {
     "data": {
      "text/plain": [
       "10615"
      ]
     },
     "execution_count": 38,
     "metadata": {},
     "output_type": "execute_result"
    }
   ],
   "source": [
    "# 버스정류장ARS번호 갯수를 확인해봅니다.\n",
    "seoul_station['버스정류장ARS번호'].nunique()"
   ]
  },
  {
   "cell_type": "markdown",
   "id": "57502c3b-9ad5-40b9-889b-4dc7c0e8649c",
   "metadata": {
    "tags": []
   },
   "source": [
    "#### [1.2.7] 구 별로 버스 정류장의 개수 확인"
   ]
  },
  {
   "cell_type": "code",
   "execution_count": 39,
   "id": "62dbb217",
   "metadata": {
    "tags": []
   },
   "outputs": [
    {
     "data": {
      "text/plain": [
       "자치구\n",
       "강남구    499\n",
       "강동구    369\n",
       "강북구    413\n",
       "강서구    566\n",
       "관악구    466\n",
       "Name: 버스정류장ARS번호, dtype: int64"
      ]
     },
     "execution_count": 39,
     "metadata": {},
     "output_type": "execute_result"
    }
   ],
   "source": [
    "# 구 별로 버스 정류장의 개수를 확인해 봅니다.\n",
    "# 구 별 버스정류장 개수로 구성된 데이터프레임을 seoul_bus_station_ARS에 저장합니다.(groupby 함수에서 as_index 옵션을 사용해보세요)\n",
    "seoul_bus_station_ARS = seoul_station.groupby('자치구')['버스정류장ARS번호'].agg('nunique')\n",
    "seoul_bus_station_ARS.head()"
   ]
  },
  {
   "cell_type": "markdown",
   "id": "e06df7d3-8e58-4052-a785-c11e82dd239f",
   "metadata": {
    "tags": []
   },
   "source": [
    "#### [1.2.8] 구 별로 버스 노선이 몇 개 지나가는 지 확인\n",
    "* 구 별로 버스 노선의 개수 확인"
   ]
  },
  {
   "cell_type": "code",
   "execution_count": 40,
   "id": "5588cb7f",
   "metadata": {
    "tags": []
   },
   "outputs": [
    {
     "data": {
      "text/plain": [
       "자치구\n",
       "강남구    91\n",
       "강동구    21\n",
       "강북구    67\n",
       "강서구    49\n",
       "관악구    86\n",
       "Name: 노선번호, dtype: int64"
      ]
     },
     "execution_count": 40,
     "metadata": {},
     "output_type": "execute_result"
    }
   ],
   "source": [
    "# 구 별로 버스 노선 개수를 확인해 봅니다.\n",
    "# 구 별 버스 노선 개수로 구성된 데이터프레임을 seoul_bus_station_line에 저장합니다.\n",
    "seoul_bus_station_line = seoul_station.groupby('자치구')['노선번호'].agg('nunique')\n",
    "seoul_bus_station_line.head()"
   ]
  },
  {
   "cell_type": "markdown",
   "id": "a186a20a-fc36-498d-be4c-eee60e44b306",
   "metadata": {
    "tags": []
   },
   "source": [
    "#### [1.2.9] 구 별로 승차 총 승객수, 하차 총 승객수 확인"
   ]
  },
  {
   "cell_type": "code",
   "execution_count": 41,
   "id": "1cdd246f",
   "metadata": {
    "tags": []
   },
   "outputs": [],
   "source": [
    "# 구 별 승차총승객수, 하차총승객수를 확인해봅니다.\n",
    "# 구 별 승차총승객수, 하차총승객수로 구성된 데이터프레임을 seoul_bus_station_sum에 저장합니다.\n",
    "seoul_bus_station_sum = seoul_station.groupby('자치구')[['승차총승객수','하차총승객수']].agg('sum')"
   ]
  },
  {
   "cell_type": "markdown",
   "id": "cb7798d0-1161-498f-93a2-cbb22e0dcae8",
   "metadata": {
    "tags": []
   },
   "source": [
    "#### [1.2.10] 구 별로 승차 평균 승객수, 하차 평균 승객수 확인"
   ]
  },
  {
   "cell_type": "code",
   "execution_count": 42,
   "id": "563b429c-7012-4c80-a881-a37ee993a38e",
   "metadata": {
    "tags": []
   },
   "outputs": [
    {
     "data": {
      "text/html": [
       "<div>\n",
       "<style scoped>\n",
       "    .dataframe tbody tr th:only-of-type {\n",
       "        vertical-align: middle;\n",
       "    }\n",
       "\n",
       "    .dataframe tbody tr th {\n",
       "        vertical-align: top;\n",
       "    }\n",
       "\n",
       "    .dataframe thead th {\n",
       "        text-align: right;\n",
       "    }\n",
       "</style>\n",
       "<table border=\"1\" class=\"dataframe\">\n",
       "  <thead>\n",
       "    <tr style=\"text-align: right;\">\n",
       "      <th></th>\n",
       "      <th>승차총승객수</th>\n",
       "      <th>하차총승객수</th>\n",
       "    </tr>\n",
       "    <tr>\n",
       "      <th>자치구</th>\n",
       "      <th></th>\n",
       "      <th></th>\n",
       "    </tr>\n",
       "  </thead>\n",
       "  <tbody>\n",
       "    <tr>\n",
       "      <th>강남구</th>\n",
       "      <td>8030483</td>\n",
       "      <td>7569213</td>\n",
       "    </tr>\n",
       "    <tr>\n",
       "      <th>강동구</th>\n",
       "      <td>2890053</td>\n",
       "      <td>2830506</td>\n",
       "    </tr>\n",
       "    <tr>\n",
       "      <th>강북구</th>\n",
       "      <td>4825181</td>\n",
       "      <td>4671783</td>\n",
       "    </tr>\n",
       "    <tr>\n",
       "      <th>강서구</th>\n",
       "      <td>4681083</td>\n",
       "      <td>4652828</td>\n",
       "    </tr>\n",
       "    <tr>\n",
       "      <th>관악구</th>\n",
       "      <td>7655819</td>\n",
       "      <td>7792476</td>\n",
       "    </tr>\n",
       "  </tbody>\n",
       "</table>\n",
       "</div>"
      ],
      "text/plain": [
       "      승차총승객수   하차총승객수\n",
       "자치구                  \n",
       "강남구  8030483  7569213\n",
       "강동구  2890053  2830506\n",
       "강북구  4825181  4671783\n",
       "강서구  4681083  4652828\n",
       "관악구  7655819  7792476"
      ]
     },
     "execution_count": 42,
     "metadata": {},
     "output_type": "execute_result"
    }
   ],
   "source": [
    "seoul_bus_station_sum.head()"
   ]
  },
  {
   "cell_type": "code",
   "execution_count": 43,
   "id": "cd2e001d",
   "metadata": {
    "tags": []
   },
   "outputs": [],
   "source": [
    "# 구 별 승차 승객수, 하차 승객수의 평균을 확인해봅니다.\n",
    "# 구 별 승차 승객수, 하차 승객수의 평균으로 구성된 데이터프레임을 seoul_bus_station_mean에 저장합니다.\n",
    "# 컬럼명은 승차평균승객수, 하차평균승객수로 바꾸세요"
   ]
  },
  {
   "cell_type": "code",
   "execution_count": 44,
   "id": "c8113b4d-7fb5-4c7d-a052-80663559bb0b",
   "metadata": {
    "tags": []
   },
   "outputs": [],
   "source": [
    "seoul_bus_station_mean = seoul_station.groupby('자치구')[['승차총승객수', '하차총승객수']].agg('mean')"
   ]
  },
  {
   "cell_type": "code",
   "execution_count": 45,
   "id": "987ac82d-d28b-4d86-95a8-765dd4e2acb2",
   "metadata": {
    "tags": []
   },
   "outputs": [],
   "source": [
    "seoul_bus_station_mean = seoul_bus_station_mean.rename(columns={'승차총승객수': '승차평균승객수', '하차총승객수': '하차평균승객수'})"
   ]
  },
  {
   "cell_type": "code",
   "execution_count": 46,
   "id": "1c417b29-2f0d-40f2-8594-5f62d40cd5bf",
   "metadata": {
    "tags": []
   },
   "outputs": [
    {
     "data": {
      "text/html": [
       "<div>\n",
       "<style scoped>\n",
       "    .dataframe tbody tr th:only-of-type {\n",
       "        vertical-align: middle;\n",
       "    }\n",
       "\n",
       "    .dataframe tbody tr th {\n",
       "        vertical-align: top;\n",
       "    }\n",
       "\n",
       "    .dataframe thead th {\n",
       "        text-align: right;\n",
       "    }\n",
       "</style>\n",
       "<table border=\"1\" class=\"dataframe\">\n",
       "  <thead>\n",
       "    <tr style=\"text-align: right;\">\n",
       "      <th></th>\n",
       "      <th>승차평균승객수</th>\n",
       "      <th>하차평균승객수</th>\n",
       "    </tr>\n",
       "    <tr>\n",
       "      <th>자치구</th>\n",
       "      <th></th>\n",
       "      <th></th>\n",
       "    </tr>\n",
       "  </thead>\n",
       "  <tbody>\n",
       "    <tr>\n",
       "      <th>강남구</th>\n",
       "      <td>128.767927</td>\n",
       "      <td>121.371512</td>\n",
       "    </tr>\n",
       "    <tr>\n",
       "      <th>강동구</th>\n",
       "      <td>99.161194</td>\n",
       "      <td>97.118065</td>\n",
       "    </tr>\n",
       "    <tr>\n",
       "      <th>강북구</th>\n",
       "      <td>133.020373</td>\n",
       "      <td>128.791504</td>\n",
       "    </tr>\n",
       "    <tr>\n",
       "      <th>강서구</th>\n",
       "      <td>88.119480</td>\n",
       "      <td>87.587591</td>\n",
       "    </tr>\n",
       "    <tr>\n",
       "      <th>관악구</th>\n",
       "      <td>154.753674</td>\n",
       "      <td>157.516040</td>\n",
       "    </tr>\n",
       "  </tbody>\n",
       "</table>\n",
       "</div>"
      ],
      "text/plain": [
       "        승차평균승객수     하차평균승객수\n",
       "자치구                        \n",
       "강남구  128.767927  121.371512\n",
       "강동구   99.161194   97.118065\n",
       "강북구  133.020373  128.791504\n",
       "강서구   88.119480   87.587591\n",
       "관악구  154.753674  157.516040"
      ]
     },
     "execution_count": 46,
     "metadata": {},
     "output_type": "execute_result"
    }
   ],
   "source": [
    "seoul_bus_station_mean.head()"
   ]
  },
  {
   "cell_type": "markdown",
   "id": "0528ad14-39a2-49f2-86e8-9c3494a07886",
   "metadata": {
    "tags": []
   },
   "source": [
    "#### [1.2.11] 데이터 프레임 합치기"
   ]
  },
  {
   "cell_type": "code",
   "execution_count": 47,
   "id": "dc284dfd",
   "metadata": {
    "tags": []
   },
   "outputs": [],
   "source": [
    "# 4개의 데이터 프레임을 합쳐서 seoul_bus_station에 저장해보세요.\n",
    "\n",
    "# seoul_bus_station_ARS\n",
    "# seoul_bus_station_line\n",
    "# seoul_bus_station_sum\n",
    "# seoul_bus_station_mean\n",
    "\n",
    "seoul_bus_station = pd.concat([seoul_bus_station_ARS, seoul_bus_station_line, seoul_bus_station_sum, seoul_bus_station_mean], axis=1, join='inner')"
   ]
  },
  {
   "cell_type": "code",
   "execution_count": 48,
   "id": "0f4a0eca",
   "metadata": {},
   "outputs": [],
   "source": [
    "# 필요에 따라 column명을 데이터 의미에 맞게 적절히 변경하세요.\n",
    "seoul_bus_station.rename(columns={'버스정류장ARS번호':'버스정류장수', '노선번호':'노선수'}, inplace=True)"
   ]
  },
  {
   "cell_type": "code",
   "execution_count": 49,
   "id": "470c3d5d",
   "metadata": {
    "tags": []
   },
   "outputs": [
    {
     "data": {
      "text/html": [
       "<div>\n",
       "<style scoped>\n",
       "    .dataframe tbody tr th:only-of-type {\n",
       "        vertical-align: middle;\n",
       "    }\n",
       "\n",
       "    .dataframe tbody tr th {\n",
       "        vertical-align: top;\n",
       "    }\n",
       "\n",
       "    .dataframe thead th {\n",
       "        text-align: right;\n",
       "    }\n",
       "</style>\n",
       "<table border=\"1\" class=\"dataframe\">\n",
       "  <thead>\n",
       "    <tr style=\"text-align: right;\">\n",
       "      <th></th>\n",
       "      <th>버스정류장수</th>\n",
       "      <th>노선수</th>\n",
       "      <th>승차총승객수</th>\n",
       "      <th>하차총승객수</th>\n",
       "      <th>승차평균승객수</th>\n",
       "      <th>하차평균승객수</th>\n",
       "    </tr>\n",
       "    <tr>\n",
       "      <th>자치구</th>\n",
       "      <th></th>\n",
       "      <th></th>\n",
       "      <th></th>\n",
       "      <th></th>\n",
       "      <th></th>\n",
       "      <th></th>\n",
       "    </tr>\n",
       "  </thead>\n",
       "  <tbody>\n",
       "    <tr>\n",
       "      <th>강남구</th>\n",
       "      <td>499</td>\n",
       "      <td>91</td>\n",
       "      <td>8030483</td>\n",
       "      <td>7569213</td>\n",
       "      <td>128.767927</td>\n",
       "      <td>121.371512</td>\n",
       "    </tr>\n",
       "    <tr>\n",
       "      <th>강동구</th>\n",
       "      <td>369</td>\n",
       "      <td>21</td>\n",
       "      <td>2890053</td>\n",
       "      <td>2830506</td>\n",
       "      <td>99.161194</td>\n",
       "      <td>97.118065</td>\n",
       "    </tr>\n",
       "    <tr>\n",
       "      <th>강북구</th>\n",
       "      <td>413</td>\n",
       "      <td>67</td>\n",
       "      <td>4825181</td>\n",
       "      <td>4671783</td>\n",
       "      <td>133.020373</td>\n",
       "      <td>128.791504</td>\n",
       "    </tr>\n",
       "    <tr>\n",
       "      <th>강서구</th>\n",
       "      <td>566</td>\n",
       "      <td>49</td>\n",
       "      <td>4681083</td>\n",
       "      <td>4652828</td>\n",
       "      <td>88.119480</td>\n",
       "      <td>87.587591</td>\n",
       "    </tr>\n",
       "    <tr>\n",
       "      <th>관악구</th>\n",
       "      <td>466</td>\n",
       "      <td>86</td>\n",
       "      <td>7655819</td>\n",
       "      <td>7792476</td>\n",
       "      <td>154.753674</td>\n",
       "      <td>157.516040</td>\n",
       "    </tr>\n",
       "    <tr>\n",
       "      <th>광진구</th>\n",
       "      <td>269</td>\n",
       "      <td>41</td>\n",
       "      <td>2749448</td>\n",
       "      <td>2753411</td>\n",
       "      <td>118.352546</td>\n",
       "      <td>118.523137</td>\n",
       "    </tr>\n",
       "    <tr>\n",
       "      <th>구로구</th>\n",
       "      <td>486</td>\n",
       "      <td>79</td>\n",
       "      <td>4942197</td>\n",
       "      <td>4730992</td>\n",
       "      <td>119.235615</td>\n",
       "      <td>114.140076</td>\n",
       "    </tr>\n",
       "    <tr>\n",
       "      <th>금천구</th>\n",
       "      <td>345</td>\n",
       "      <td>58</td>\n",
       "      <td>3776658</td>\n",
       "      <td>3581930</td>\n",
       "      <td>123.098370</td>\n",
       "      <td>116.751304</td>\n",
       "    </tr>\n",
       "    <tr>\n",
       "      <th>노원구</th>\n",
       "      <td>514</td>\n",
       "      <td>57</td>\n",
       "      <td>4353295</td>\n",
       "      <td>4292724</td>\n",
       "      <td>88.476211</td>\n",
       "      <td>87.245168</td>\n",
       "    </tr>\n",
       "    <tr>\n",
       "      <th>도봉구</th>\n",
       "      <td>359</td>\n",
       "      <td>46</td>\n",
       "      <td>3304305</td>\n",
       "      <td>3211421</td>\n",
       "      <td>106.859356</td>\n",
       "      <td>103.855540</td>\n",
       "    </tr>\n",
       "    <tr>\n",
       "      <th>동대문구</th>\n",
       "      <td>306</td>\n",
       "      <td>73</td>\n",
       "      <td>5240565</td>\n",
       "      <td>5115379</td>\n",
       "      <td>131.841430</td>\n",
       "      <td>128.692017</td>\n",
       "    </tr>\n",
       "    <tr>\n",
       "      <th>동작구</th>\n",
       "      <td>438</td>\n",
       "      <td>94</td>\n",
       "      <td>5314274</td>\n",
       "      <td>5112276</td>\n",
       "      <td>124.295965</td>\n",
       "      <td>119.571419</td>\n",
       "    </tr>\n",
       "    <tr>\n",
       "      <th>마포구</th>\n",
       "      <td>562</td>\n",
       "      <td>97</td>\n",
       "      <td>5088461</td>\n",
       "      <td>4957596</td>\n",
       "      <td>103.907639</td>\n",
       "      <td>101.235343</td>\n",
       "    </tr>\n",
       "    <tr>\n",
       "      <th>서대문구</th>\n",
       "      <td>456</td>\n",
       "      <td>107</td>\n",
       "      <td>5863499</td>\n",
       "      <td>5796960</td>\n",
       "      <td>109.914502</td>\n",
       "      <td>108.667192</td>\n",
       "    </tr>\n",
       "    <tr>\n",
       "      <th>서초구</th>\n",
       "      <td>600</td>\n",
       "      <td>93</td>\n",
       "      <td>7221330</td>\n",
       "      <td>6977950</td>\n",
       "      <td>126.687777</td>\n",
       "      <td>122.418028</td>\n",
       "    </tr>\n",
       "    <tr>\n",
       "      <th>성동구</th>\n",
       "      <td>435</td>\n",
       "      <td>58</td>\n",
       "      <td>2807280</td>\n",
       "      <td>2746738</td>\n",
       "      <td>96.377369</td>\n",
       "      <td>94.298888</td>\n",
       "    </tr>\n",
       "    <tr>\n",
       "      <th>성북구</th>\n",
       "      <td>602</td>\n",
       "      <td>99</td>\n",
       "      <td>6236424</td>\n",
       "      <td>6231238</td>\n",
       "      <td>123.251922</td>\n",
       "      <td>123.149430</td>\n",
       "    </tr>\n",
       "    <tr>\n",
       "      <th>송파구</th>\n",
       "      <td>415</td>\n",
       "      <td>55</td>\n",
       "      <td>5641742</td>\n",
       "      <td>5603488</td>\n",
       "      <td>114.270072</td>\n",
       "      <td>113.495260</td>\n",
       "    </tr>\n",
       "    <tr>\n",
       "      <th>양천구</th>\n",
       "      <td>319</td>\n",
       "      <td>56</td>\n",
       "      <td>4009172</td>\n",
       "      <td>3851173</td>\n",
       "      <td>97.627526</td>\n",
       "      <td>93.780086</td>\n",
       "    </tr>\n",
       "    <tr>\n",
       "      <th>영등포구</th>\n",
       "      <td>465</td>\n",
       "      <td>101</td>\n",
       "      <td>5739875</td>\n",
       "      <td>5783211</td>\n",
       "      <td>120.337855</td>\n",
       "      <td>121.246404</td>\n",
       "    </tr>\n",
       "    <tr>\n",
       "      <th>용산구</th>\n",
       "      <td>323</td>\n",
       "      <td>67</td>\n",
       "      <td>4189977</td>\n",
       "      <td>4086474</td>\n",
       "      <td>137.891694</td>\n",
       "      <td>134.485421</td>\n",
       "    </tr>\n",
       "    <tr>\n",
       "      <th>은평구</th>\n",
       "      <td>501</td>\n",
       "      <td>71</td>\n",
       "      <td>5201660</td>\n",
       "      <td>5122499</td>\n",
       "      <td>106.395173</td>\n",
       "      <td>104.776007</td>\n",
       "    </tr>\n",
       "    <tr>\n",
       "      <th>종로구</th>\n",
       "      <td>349</td>\n",
       "      <td>106</td>\n",
       "      <td>5468935</td>\n",
       "      <td>5205394</td>\n",
       "      <td>131.889620</td>\n",
       "      <td>125.534028</td>\n",
       "    </tr>\n",
       "    <tr>\n",
       "      <th>중구</th>\n",
       "      <td>178</td>\n",
       "      <td>103</td>\n",
       "      <td>3776675</td>\n",
       "      <td>3598932</td>\n",
       "      <td>121.020124</td>\n",
       "      <td>115.324511</td>\n",
       "    </tr>\n",
       "    <tr>\n",
       "      <th>중랑구</th>\n",
       "      <td>380</td>\n",
       "      <td>48</td>\n",
       "      <td>3792541</td>\n",
       "      <td>3740923</td>\n",
       "      <td>87.403863</td>\n",
       "      <td>86.214261</td>\n",
       "    </tr>\n",
       "  </tbody>\n",
       "</table>\n",
       "</div>"
      ],
      "text/plain": [
       "      버스정류장수  노선수   승차총승객수   하차총승객수     승차평균승객수     하차평균승객수\n",
       "자치구                                                        \n",
       "강남구      499   91  8030483  7569213  128.767927  121.371512\n",
       "강동구      369   21  2890053  2830506   99.161194   97.118065\n",
       "강북구      413   67  4825181  4671783  133.020373  128.791504\n",
       "강서구      566   49  4681083  4652828   88.119480   87.587591\n",
       "관악구      466   86  7655819  7792476  154.753674  157.516040\n",
       "광진구      269   41  2749448  2753411  118.352546  118.523137\n",
       "구로구      486   79  4942197  4730992  119.235615  114.140076\n",
       "금천구      345   58  3776658  3581930  123.098370  116.751304\n",
       "노원구      514   57  4353295  4292724   88.476211   87.245168\n",
       "도봉구      359   46  3304305  3211421  106.859356  103.855540\n",
       "동대문구     306   73  5240565  5115379  131.841430  128.692017\n",
       "동작구      438   94  5314274  5112276  124.295965  119.571419\n",
       "마포구      562   97  5088461  4957596  103.907639  101.235343\n",
       "서대문구     456  107  5863499  5796960  109.914502  108.667192\n",
       "서초구      600   93  7221330  6977950  126.687777  122.418028\n",
       "성동구      435   58  2807280  2746738   96.377369   94.298888\n",
       "성북구      602   99  6236424  6231238  123.251922  123.149430\n",
       "송파구      415   55  5641742  5603488  114.270072  113.495260\n",
       "양천구      319   56  4009172  3851173   97.627526   93.780086\n",
       "영등포구     465  101  5739875  5783211  120.337855  121.246404\n",
       "용산구      323   67  4189977  4086474  137.891694  134.485421\n",
       "은평구      501   71  5201660  5122499  106.395173  104.776007\n",
       "종로구      349  106  5468935  5205394  131.889620  125.534028\n",
       "중구       178  103  3776675  3598932  121.020124  115.324511\n",
       "중랑구      380   48  3792541  3740923   87.403863   86.214261"
      ]
     },
     "execution_count": 49,
     "metadata": {},
     "output_type": "execute_result"
    }
   ],
   "source": [
    "# 데이터 프레임을 합친 결과 확인\n",
    "seoul_bus_station"
   ]
  },
  {
   "cell_type": "code",
   "execution_count": 50,
   "id": "97d0cc3f",
   "metadata": {
    "tags": []
   },
   "outputs": [],
   "source": [
    "# 해당 데이터프레임을 'df_seoul_bus_station.csv' 파일로 저장하세요.\n",
    "seoul_bus_station.to_csv('df_seoul_bus_station.csv')"
   ]
  },
  {
   "cell_type": "markdown",
   "id": "602b8bae",
   "metadata": {},
   "source": [
    "---"
   ]
  },
  {
   "cell_type": "markdown",
   "id": "southeast-integration",
   "metadata": {},
   "source": [
    "# 1.3.데이터 분석하기\n",
    "+ 데이터의 형태를 살펴보고 다양한 분석기법을 통해 모델링에 적합하도록 정제요소를 선별하세요.\n",
    "  * 데이터들의 패턴 탐색\n",
    "  * 변수들간의 관계 파악"
   ]
  },
  {
   "cell_type": "code",
   "execution_count": 51,
   "id": "194ae01d",
   "metadata": {
    "tags": []
   },
   "outputs": [],
   "source": [
    "import seaborn as sns\n",
    "import matplotlib.pyplot as plt\n",
    "\n",
    "# 시각화 한글폰트 설정\n",
    "# 맑은 고딕\n",
    "\n",
    "plt.rc('font', family='Malgun Gothic')\n",
    "sns.set(font=\"Malgun Gothic\",#\"NanumGothicCoding\", \n",
    "        rc={\"axes.unicode_minus\":False}, # 마이너스 부호 깨짐 현상 해결\n",
    "        style='darkgrid')\n",
    "\n",
    "# scipy\n",
    "import scipy.stats as spst  "
   ]
  },
  {
   "cell_type": "markdown",
   "id": "material-complex",
   "metadata": {},
   "source": [
    "#### [1.3.1] 데이터 분포 알아보기\n",
    "* 다양한 변수를 기준으로 그래프를 그려보고 인사이트를 도출해보세요."
   ]
  },
  {
   "cell_type": "code",
   "execution_count": 52,
   "id": "2a610ade",
   "metadata": {},
   "outputs": [
    {
     "data": {
      "image/png": "[encoded data removed]",
      "text/plain": [
       "<Figure size 640x480 with 2 Axes>"
      ]
     },
     "metadata": {},
     "output_type": "display_data"
    }
   ],
   "source": [
    "# 아래에 코드를 작성하고 결과를 확인합니다.\n",
    "sns.heatmap(seoul_bus_station.corr(), annot=True)\n",
    "plt.show()"
   ]
  },
  {
   "cell_type": "code",
   "execution_count": 53,
   "id": "d731dbb0",
   "metadata": {},
   "outputs": [
    {
     "data": {
      "image/png": "[encoded data removed]",
      "text/plain": [
       "<Figure size 1500x800 with 4 Axes>"
      ]
     },
     "metadata": {},
     "output_type": "display_data"
    }
   ],
   "source": [
    "# 아래에 코드를 작성하고 결과를 확인합니다.\n",
    "plt.figure(figsize=(15,8))\n",
    "\n",
    "plt.subplot(2,2,1)\n",
    "sns.barplot(x=\"자치구\", y=\"버스정류장수\", data=seoul_bus_station)\n",
    "plt.xticks(rotation=45)\n",
    "\n",
    "plt.subplot(2,2,2)\n",
    "sns.barplot(x=\"자치구\", y=\"노선수\", data=seoul_bus_station)\n",
    "plt.xticks(rotation=45)\n",
    "\n",
    "plt.subplot(2,2,3)\n",
    "sns.barplot(x=\"자치구\", y=\"승차평균승객수\", data=seoul_bus_station)\n",
    "plt.xticks(rotation=45)\n",
    "\n",
    "plt.subplot(2,2,4)\n",
    "sns.barplot(x=\"자치구\", y=\"하차평균승객수\", data=seoul_bus_station)\n",
    "plt.xticks(rotation=45)\n",
    "\n",
    "plt.show()"
   ]
  },
  {
   "cell_type": "code",
   "execution_count": 54,
   "id": "86892a60",
   "metadata": {},
   "outputs": [],
   "source": [
    "# 위 차트를 통해 알게된 사실을 정리해봅시다.\n",
    "# 1. 노선수와 승객수는 상관이 있다.\n",
    "# 2. 버스정류장수와 승객수는 상관이 있다.\n",
    "# 3. 버스정류장수와 평균승객수의 상관이 적다."
   ]
  },
  {
   "cell_type": "markdown",
   "id": "ca567b34",
   "metadata": {},
   "source": [
    "---"
   ]
  }
 ],
 "metadata": {
  "kernelspec": {
   "display_name": "Python 3 (ipykernel)",
   "language": "python",
   "name": "python3"
  },
  "language_info": {
   "codemirror_mode": {
    "name": "ipython",
    "version": 3
   },
   "file_extension": ".py",
   "mimetype": "text/x-python",
   "name": "python",
   "nbconvert_exporter": "python",
   "pygments_lexer": "ipython3",
   "version": "3.10.13"
  },
  "vscode": {
   "interpreter": {
    "hash": "f08154012ddadd8e950e6e9e035c7a7b32c136e7647e9b7c77e02eb723a8bedb"
   }
  }
 },
 "nbformat": 4,
 "nbformat_minor": 5
}
