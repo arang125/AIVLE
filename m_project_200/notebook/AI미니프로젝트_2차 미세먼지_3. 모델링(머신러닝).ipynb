{
 "cells": [
  {
   "cell_type": "code",
   "execution_count": 1,
   "id": "efficient-minutes",
   "metadata": {
    "tags": []
   },
   "outputs": [],
   "source": [
    "# 필요한 라이브러리 설치 및 임포트\n",
    "\n",
    "import pandas as pd\n",
    "\n",
    "from sklearn.neighbors import KNeighborsRegressor\n",
    "from sklearn.linear_model import LinearRegression, Lasso, Ridge, ElasticNet\n",
    "from sklearn.tree import DecisionTreeRegressor as DTR\n",
    "from sklearn.ensemble import RandomForestRegressor as RFR\n",
    "from sklearn.ensemble import GradientBoostingRegressor as GBR\n",
    "from sklearn.metrics import mean_squared_error as mse\n",
    "from sklearn.metrics import r2_score\n",
    "from sklearn.metrics import f1_score\n",
    "from sklearn.metrics import accuracy_score as acc\n",
    "from sklearn.metrics import recall_score as recall\n",
    "import joblib"
   ]
  },
  {
   "cell_type": "code",
   "execution_count": 2,
   "id": "aba008dc-8892-4e30-aa6f-ed936ccea361",
   "metadata": {},
   "outputs": [],
   "source": [
    "import warnings\n",
    "warnings.filterwarnings(action='ignore') "
   ]
  },
  {
   "cell_type": "markdown",
   "id": "20aaca37-89d7-4045-affa-5a510c69495e",
   "metadata": {
    "tags": []
   },
   "source": [
    "# [Step 3] 머신러닝 모델링1"
   ]
  },
  {
   "cell_type": "markdown",
   "id": "1a3f4996-4681-4eae-b839-8ad6267387ae",
   "metadata": {
    "tags": []
   },
   "source": [
    "#### **<span style=\"color:blue\">[3-1] 학습 및 테스트 데이터 로딩</span>**"
   ]
  },
  {
   "cell_type": "code",
   "execution_count": 3,
   "id": "changed-arrangement",
   "metadata": {
    "scrolled": true,
    "tags": []
   },
   "outputs": [],
   "source": [
    "# train_x.csv / train_y.csv / test_x.csv / test_y.csv 4개의 데이터 로딩\n",
    "train_x = pd.read_csv('train_x.csv', index_col=0)\n",
    "train_y = pd.read_csv('train_y.csv', index_col=0)\n",
    "test_x = pd.read_csv('test_x.csv', index_col=0)\n",
    "test_y = pd.read_csv('test_y.csv', index_col=0)"
   ]
  },
  {
   "cell_type": "code",
   "execution_count": 4,
   "id": "1f49652f-900d-46e4-9b61-6b3e4f35e691",
   "metadata": {
    "tags": []
   },
   "outputs": [
    {
     "data": {
      "text/html": [
       "<div>\n",
       "<style scoped>\n",
       "    .dataframe tbody tr th:only-of-type {\n",
       "        vertical-align: middle;\n",
       "    }\n",
       "\n",
       "    .dataframe tbody tr th {\n",
       "        vertical-align: top;\n",
       "    }\n",
       "\n",
       "    .dataframe thead th {\n",
       "        text-align: right;\n",
       "    }\n",
       "</style>\n",
       "<table border=\"1\" class=\"dataframe\">\n",
       "  <thead>\n",
       "    <tr style=\"text-align: right;\">\n",
       "      <th></th>\n",
       "      <th>SO2</th>\n",
       "      <th>CO</th>\n",
       "      <th>O3</th>\n",
       "      <th>NO2</th>\n",
       "      <th>PM10</th>\n",
       "      <th>PM25</th>\n",
       "      <th>기온(°C)</th>\n",
       "      <th>강수량(mm)</th>\n",
       "      <th>풍속(m/s)</th>\n",
       "      <th>풍향(16방위)</th>\n",
       "      <th>습도(%)</th>\n",
       "      <th>증기압(hPa)</th>\n",
       "      <th>현지기압(hPa)</th>\n",
       "      <th>해면기압(hPa)</th>\n",
       "      <th>시정(10m)</th>\n",
       "      <th>지면온도(°C)</th>\n",
       "      <th>month</th>\n",
       "      <th>day</th>\n",
       "      <th>hour</th>\n",
       "      <th>PM10_lag1</th>\n",
       "    </tr>\n",
       "  </thead>\n",
       "  <tbody>\n",
       "    <tr>\n",
       "      <th>0</th>\n",
       "      <td>0.003</td>\n",
       "      <td>0.6</td>\n",
       "      <td>0.002</td>\n",
       "      <td>0.039</td>\n",
       "      <td>31.0</td>\n",
       "      <td>18.0</td>\n",
       "      <td>18.7</td>\n",
       "      <td>0.0</td>\n",
       "      <td>1.0</td>\n",
       "      <td>20.0</td>\n",
       "      <td>85.0</td>\n",
       "      <td>18.3</td>\n",
       "      <td>998.8</td>\n",
       "      <td>1008.7</td>\n",
       "      <td>2000.0</td>\n",
       "      <td>17.4</td>\n",
       "      <td>10</td>\n",
       "      <td>1</td>\n",
       "      <td>1</td>\n",
       "      <td>10.0</td>\n",
       "    </tr>\n",
       "    <tr>\n",
       "      <th>1</th>\n",
       "      <td>0.003</td>\n",
       "      <td>0.6</td>\n",
       "      <td>0.002</td>\n",
       "      <td>0.035</td>\n",
       "      <td>27.0</td>\n",
       "      <td>16.0</td>\n",
       "      <td>18.3</td>\n",
       "      <td>0.0</td>\n",
       "      <td>0.3</td>\n",
       "      <td>0.0</td>\n",
       "      <td>89.0</td>\n",
       "      <td>18.6</td>\n",
       "      <td>998.9</td>\n",
       "      <td>1008.8</td>\n",
       "      <td>2000.0</td>\n",
       "      <td>17.2</td>\n",
       "      <td>10</td>\n",
       "      <td>1</td>\n",
       "      <td>2</td>\n",
       "      <td>9.0</td>\n",
       "    </tr>\n",
       "    <tr>\n",
       "      <th>2</th>\n",
       "      <td>0.003</td>\n",
       "      <td>0.6</td>\n",
       "      <td>0.002</td>\n",
       "      <td>0.033</td>\n",
       "      <td>28.0</td>\n",
       "      <td>18.0</td>\n",
       "      <td>17.7</td>\n",
       "      <td>0.0</td>\n",
       "      <td>2.0</td>\n",
       "      <td>20.0</td>\n",
       "      <td>92.0</td>\n",
       "      <td>18.5</td>\n",
       "      <td>998.1</td>\n",
       "      <td>1008.1</td>\n",
       "      <td>2000.0</td>\n",
       "      <td>17.0</td>\n",
       "      <td>10</td>\n",
       "      <td>1</td>\n",
       "      <td>3</td>\n",
       "      <td>9.0</td>\n",
       "    </tr>\n",
       "    <tr>\n",
       "      <th>3</th>\n",
       "      <td>0.003</td>\n",
       "      <td>0.6</td>\n",
       "      <td>0.002</td>\n",
       "      <td>0.030</td>\n",
       "      <td>26.0</td>\n",
       "      <td>16.0</td>\n",
       "      <td>17.4</td>\n",
       "      <td>0.0</td>\n",
       "      <td>1.0</td>\n",
       "      <td>50.0</td>\n",
       "      <td>91.0</td>\n",
       "      <td>18.1</td>\n",
       "      <td>997.9</td>\n",
       "      <td>1007.9</td>\n",
       "      <td>2000.0</td>\n",
       "      <td>16.5</td>\n",
       "      <td>10</td>\n",
       "      <td>1</td>\n",
       "      <td>4</td>\n",
       "      <td>10.0</td>\n",
       "    </tr>\n",
       "    <tr>\n",
       "      <th>4</th>\n",
       "      <td>0.003</td>\n",
       "      <td>0.5</td>\n",
       "      <td>0.003</td>\n",
       "      <td>0.026</td>\n",
       "      <td>26.0</td>\n",
       "      <td>16.0</td>\n",
       "      <td>17.2</td>\n",
       "      <td>0.0</td>\n",
       "      <td>1.3</td>\n",
       "      <td>270.0</td>\n",
       "      <td>94.0</td>\n",
       "      <td>18.4</td>\n",
       "      <td>998.4</td>\n",
       "      <td>1008.4</td>\n",
       "      <td>1995.0</td>\n",
       "      <td>16.6</td>\n",
       "      <td>10</td>\n",
       "      <td>1</td>\n",
       "      <td>5</td>\n",
       "      <td>11.0</td>\n",
       "    </tr>\n",
       "  </tbody>\n",
       "</table>\n",
       "</div>"
      ],
      "text/plain": [
       "     SO2   CO     O3    NO2  PM10  PM25  기온(°C)  강수량(mm)  풍속(m/s)  풍향(16방위)  \\\n",
       "0  0.003  0.6  0.002  0.039  31.0  18.0    18.7      0.0      1.0      20.0   \n",
       "1  0.003  0.6  0.002  0.035  27.0  16.0    18.3      0.0      0.3       0.0   \n",
       "2  0.003  0.6  0.002  0.033  28.0  18.0    17.7      0.0      2.0      20.0   \n",
       "3  0.003  0.6  0.002  0.030  26.0  16.0    17.4      0.0      1.0      50.0   \n",
       "4  0.003  0.5  0.003  0.026  26.0  16.0    17.2      0.0      1.3     270.0   \n",
       "\n",
       "   습도(%)  증기압(hPa)  현지기압(hPa)  해면기압(hPa)  시정(10m)  지면온도(°C)  month  day  hour  \\\n",
       "0   85.0      18.3      998.8     1008.7   2000.0      17.4     10    1     1   \n",
       "1   89.0      18.6      998.9     1008.8   2000.0      17.2     10    1     2   \n",
       "2   92.0      18.5      998.1     1008.1   2000.0      17.0     10    1     3   \n",
       "3   91.0      18.1      997.9     1007.9   2000.0      16.5     10    1     4   \n",
       "4   94.0      18.4      998.4     1008.4   1995.0      16.6     10    1     5   \n",
       "\n",
       "   PM10_lag1  \n",
       "0       10.0  \n",
       "1        9.0  \n",
       "2        9.0  \n",
       "3       10.0  \n",
       "4       11.0  "
      ]
     },
     "execution_count": 4,
     "metadata": {},
     "output_type": "execute_result"
    }
   ],
   "source": [
    "train_x.head()"
   ]
  },
  {
   "cell_type": "code",
   "execution_count": 5,
   "id": "387c9788-f706-43ad-8cc1-3b5554173c08",
   "metadata": {
    "tags": []
   },
   "outputs": [
    {
     "data": {
      "text/html": [
       "<div>\n",
       "<style scoped>\n",
       "    .dataframe tbody tr th:only-of-type {\n",
       "        vertical-align: middle;\n",
       "    }\n",
       "\n",
       "    .dataframe tbody tr th {\n",
       "        vertical-align: top;\n",
       "    }\n",
       "\n",
       "    .dataframe thead th {\n",
       "        text-align: right;\n",
       "    }\n",
       "</style>\n",
       "<table border=\"1\" class=\"dataframe\">\n",
       "  <thead>\n",
       "    <tr style=\"text-align: right;\">\n",
       "      <th></th>\n",
       "      <th>PM10_1</th>\n",
       "    </tr>\n",
       "  </thead>\n",
       "  <tbody>\n",
       "    <tr>\n",
       "      <th>0</th>\n",
       "      <td>31.0</td>\n",
       "    </tr>\n",
       "    <tr>\n",
       "      <th>1</th>\n",
       "      <td>31.0</td>\n",
       "    </tr>\n",
       "    <tr>\n",
       "      <th>2</th>\n",
       "      <td>27.0</td>\n",
       "    </tr>\n",
       "    <tr>\n",
       "      <th>3</th>\n",
       "      <td>28.0</td>\n",
       "    </tr>\n",
       "    <tr>\n",
       "      <th>4</th>\n",
       "      <td>26.0</td>\n",
       "    </tr>\n",
       "  </tbody>\n",
       "</table>\n",
       "</div>"
      ],
      "text/plain": [
       "   PM10_1\n",
       "0    31.0\n",
       "1    31.0\n",
       "2    27.0\n",
       "3    28.0\n",
       "4    26.0"
      ]
     },
     "execution_count": 5,
     "metadata": {},
     "output_type": "execute_result"
    }
   ],
   "source": [
    "train_y.head()"
   ]
  },
  {
   "cell_type": "markdown",
   "id": "2084ca1a",
   "metadata": {},
   "source": [
    "---"
   ]
  },
  {
   "cell_type": "markdown",
   "id": "66dca0e8-a0d1-4562-8afe-3e8f85733393",
   "metadata": {
    "tags": []
   },
   "source": [
    "#### **<span style=\"color:blue\">[3-2] 모델링: LinearRegression</span>**"
   ]
  },
  {
   "cell_type": "markdown",
   "id": "joined-client",
   "metadata": {},
   "source": [
    "* Train과 Test로 나눈 데이터를 기준으로 LinearRegression 모델링을 진행하고 평가를 해주세요.\n",
    "* 그리고 모델 파일을 pkl로 저장해주세요.\n",
    "* 성능지표 : MSE, R-squared Score(소수점 5째자리까지)"
   ]
  },
  {
   "cell_type": "code",
   "execution_count": 6,
   "id": "willing-disclaimer",
   "metadata": {
    "tags": []
   },
   "outputs": [
    {
     "data": {
      "text/html": [
       "<style>#sk-container-id-1 {color: black;}#sk-container-id-1 pre{padding: 0;}#sk-container-id-1 div.sk-toggleable {background-color: white;}#sk-container-id-1 label.sk-toggleable__label {cursor: pointer;display: block;width: 100%;margin-bottom: 0;padding: 0.3em;box-sizing: border-box;text-align: center;}#sk-container-id-1 label.sk-toggleable__label-arrow:before {content: \"▸\";float: left;margin-right: 0.25em;color: #696969;}#sk-container-id-1 label.sk-toggleable__label-arrow:hover:before {color: black;}#sk-container-id-1 div.sk-estimator:hover label.sk-toggleable__label-arrow:before {color: black;}#sk-container-id-1 div.sk-toggleable__content {max-height: 0;max-width: 0;overflow: hidden;text-align: left;background-color: #f0f8ff;}#sk-container-id-1 div.sk-toggleable__content pre {margin: 0.2em;color: black;border-radius: 0.25em;background-color: #f0f8ff;}#sk-container-id-1 input.sk-toggleable__control:checked~div.sk-toggleable__content {max-height: 200px;max-width: 100%;overflow: auto;}#sk-container-id-1 input.sk-toggleable__control:checked~label.sk-toggleable__label-arrow:before {content: \"▾\";}#sk-container-id-1 div.sk-estimator input.sk-toggleable__control:checked~label.sk-toggleable__label {background-color: #d4ebff;}#sk-container-id-1 div.sk-label input.sk-toggleable__control:checked~label.sk-toggleable__label {background-color: #d4ebff;}#sk-container-id-1 input.sk-hidden--visually {border: 0;clip: rect(1px 1px 1px 1px);clip: rect(1px, 1px, 1px, 1px);height: 1px;margin: -1px;overflow: hidden;padding: 0;position: absolute;width: 1px;}#sk-container-id-1 div.sk-estimator {font-family: monospace;background-color: #f0f8ff;border: 1px dotted black;border-radius: 0.25em;box-sizing: border-box;margin-bottom: 0.5em;}#sk-container-id-1 div.sk-estimator:hover {background-color: #d4ebff;}#sk-container-id-1 div.sk-parallel-item::after {content: \"\";width: 100%;border-bottom: 1px solid gray;flex-grow: 1;}#sk-container-id-1 div.sk-label:hover label.sk-toggleable__label {background-color: #d4ebff;}#sk-container-id-1 div.sk-serial::before {content: \"\";position: absolute;border-left: 1px solid gray;box-sizing: border-box;top: 0;bottom: 0;left: 50%;z-index: 0;}#sk-container-id-1 div.sk-serial {display: flex;flex-direction: column;align-items: center;background-color: white;padding-right: 0.2em;padding-left: 0.2em;position: relative;}#sk-container-id-1 div.sk-item {position: relative;z-index: 1;}#sk-container-id-1 div.sk-parallel {display: flex;align-items: stretch;justify-content: center;background-color: white;position: relative;}#sk-container-id-1 div.sk-item::before, #sk-container-id-1 div.sk-parallel-item::before {content: \"\";position: absolute;border-left: 1px solid gray;box-sizing: border-box;top: 0;bottom: 0;left: 50%;z-index: -1;}#sk-container-id-1 div.sk-parallel-item {display: flex;flex-direction: column;z-index: 1;position: relative;background-color: white;}#sk-container-id-1 div.sk-parallel-item:first-child::after {align-self: flex-end;width: 50%;}#sk-container-id-1 div.sk-parallel-item:last-child::after {align-self: flex-start;width: 50%;}#sk-container-id-1 div.sk-parallel-item:only-child::after {width: 0;}#sk-container-id-1 div.sk-dashed-wrapped {border: 1px dashed gray;margin: 0 0.4em 0.5em 0.4em;box-sizing: border-box;padding-bottom: 0.4em;background-color: white;}#sk-container-id-1 div.sk-label label {font-family: monospace;font-weight: bold;display: inline-block;line-height: 1.2em;}#sk-container-id-1 div.sk-label-container {text-align: center;}#sk-container-id-1 div.sk-container {/* jupyter's `normalize.less` sets `[hidden] { display: none; }` but bootstrap.min.css set `[hidden] { display: none !important; }` so we also need the `!important` here to be able to override the default hidden behavior on the sphinx rendered scikit-learn.org. See: https://github.com/scikit-learn/scikit-learn/issues/21755 */display: inline-block !important;position: relative;}#sk-container-id-1 div.sk-text-repr-fallback {display: none;}</style><div id=\"sk-container-id-1\" class=\"sk-top-container\"><div class=\"sk-text-repr-fallback\"><pre>LinearRegression()</pre><b>In a Jupyter environment, please rerun this cell to show the HTML representation or trust the notebook. <br />On GitHub, the HTML representation is unable to render, please try loading this page with nbviewer.org.</b></div><div class=\"sk-container\" hidden><div class=\"sk-item\"><div class=\"sk-estimator sk-toggleable\"><input class=\"sk-toggleable__control sk-hidden--visually\" id=\"sk-estimator-id-1\" type=\"checkbox\" checked><label for=\"sk-estimator-id-1\" class=\"sk-toggleable__label sk-toggleable__label-arrow\">LinearRegression</label><div class=\"sk-toggleable__content\"><pre>LinearRegression()</pre></div></div></div></div></div>"
      ],
      "text/plain": [
       "LinearRegression()"
      ]
     },
     "execution_count": 6,
     "metadata": {},
     "output_type": "execute_result"
    }
   ],
   "source": [
    "# LinearRegression 코드를 작성하세요.\n",
    "model_lr = LinearRegression()\n",
    "\n",
    "model_lr.fit(train_x, train_y)"
   ]
  },
  {
   "cell_type": "code",
   "execution_count": 7,
   "id": "34e3d420-703f-4de5-bd81-4b1b167318e2",
   "metadata": {},
   "outputs": [],
   "source": [
    "# predict로 예측하여 y_pred_LR에 저장해보세요.\n",
    "y_pred_LR = model_lr.predict(test_x)"
   ]
  },
  {
   "cell_type": "code",
   "execution_count": 8,
   "id": "0a21d60f",
   "metadata": {},
   "outputs": [
    {
     "name": "stdout",
     "output_type": "stream",
     "text": [
      "43.54028\n",
      "0.91953\n"
     ]
    }
   ],
   "source": [
    "# test_y 데이터와 y_pred_LR 데이터로 성능을 평가하여 출력해보세요.\n",
    "# 성능지표는 mse와 r2를 이용하세요.\n",
    "print(f'{mse(test_y, y_pred_LR):.5f}')\n",
    "print(f'{r2_score(test_y, y_pred_LR):.5f}')"
   ]
  },
  {
   "cell_type": "code",
   "execution_count": 9,
   "id": "fe2096b7",
   "metadata": {},
   "outputs": [
    {
     "data": {
      "text/plain": [
       "['./model_lr.pkl']"
      ]
     },
     "execution_count": 9,
     "metadata": {},
     "output_type": "execute_result"
    }
   ],
   "source": [
    "# 학습한 모델을 pkl 파일로 저장해보세요.\n",
    "joblib.dump(model_lr, './model_lr.pkl')"
   ]
  },
  {
   "cell_type": "markdown",
   "id": "44e1265e-939a-41d6-87cd-98211da2b7d1",
   "metadata": {
    "tags": []
   },
   "source": [
    "# [Step 4] 머신러닝 모델링2"
   ]
  },
  {
   "cell_type": "markdown",
   "id": "093d7a22-50bd-401d-9655-30002e8b5985",
   "metadata": {
    "tags": []
   },
   "source": [
    "#### **<span style=\"color:blue\">(선택 수행)[4-1] 모델링: 랜덤포레스트</span>**"
   ]
  },
  {
   "cell_type": "markdown",
   "id": "crazy-escape",
   "metadata": {},
   "source": [
    "* 랜덤포레스트: 배깅의 일종으로 의사결정나무(Decision Tree) 여러 개를 모아서 숲을 랜덤으로 구성하고 이를 종합해서 최종 모델을 산출하는 기법\n",
    "* Train과 Test로 나눈 데이터를 기준으로 렌덤포레스트로 모델을 학습을 진행하고 평가를 해주세요.\n",
    "* 그리고 모델 파일을 pkl로 저장해주세요.\n",
    "* 성능지표 : MSE, R-squared Score(소수점 5째자리까지)"
   ]
  },
  {
   "cell_type": "code",
   "execution_count": 10,
   "id": "804f3d4d-49e0-4fb4-8246-b01d10aac8ce",
   "metadata": {
    "tags": []
   },
   "outputs": [
    {
     "data": {
      "text/html": [
       "<div>\n",
       "<style scoped>\n",
       "    .dataframe tbody tr th:only-of-type {\n",
       "        vertical-align: middle;\n",
       "    }\n",
       "\n",
       "    .dataframe tbody tr th {\n",
       "        vertical-align: top;\n",
       "    }\n",
       "\n",
       "    .dataframe thead th {\n",
       "        text-align: right;\n",
       "    }\n",
       "</style>\n",
       "<table border=\"1\" class=\"dataframe\">\n",
       "  <thead>\n",
       "    <tr style=\"text-align: right;\">\n",
       "      <th></th>\n",
       "      <th>SO2</th>\n",
       "      <th>CO</th>\n",
       "      <th>O3</th>\n",
       "      <th>NO2</th>\n",
       "      <th>PM10</th>\n",
       "      <th>PM25</th>\n",
       "      <th>기온(°C)</th>\n",
       "      <th>강수량(mm)</th>\n",
       "      <th>풍속(m/s)</th>\n",
       "      <th>풍향(16방위)</th>\n",
       "      <th>습도(%)</th>\n",
       "      <th>증기압(hPa)</th>\n",
       "      <th>현지기압(hPa)</th>\n",
       "      <th>해면기압(hPa)</th>\n",
       "      <th>시정(10m)</th>\n",
       "      <th>지면온도(°C)</th>\n",
       "      <th>month</th>\n",
       "      <th>day</th>\n",
       "      <th>hour</th>\n",
       "      <th>PM10_lag1</th>\n",
       "    </tr>\n",
       "  </thead>\n",
       "  <tbody>\n",
       "    <tr>\n",
       "      <th>0</th>\n",
       "      <td>0.003</td>\n",
       "      <td>0.6</td>\n",
       "      <td>0.002</td>\n",
       "      <td>0.039</td>\n",
       "      <td>31.0</td>\n",
       "      <td>18.0</td>\n",
       "      <td>18.7</td>\n",
       "      <td>0.0</td>\n",
       "      <td>1.0</td>\n",
       "      <td>20.0</td>\n",
       "      <td>85.0</td>\n",
       "      <td>18.3</td>\n",
       "      <td>998.8</td>\n",
       "      <td>1008.7</td>\n",
       "      <td>2000.0</td>\n",
       "      <td>17.4</td>\n",
       "      <td>10</td>\n",
       "      <td>1</td>\n",
       "      <td>1</td>\n",
       "      <td>10.0</td>\n",
       "    </tr>\n",
       "    <tr>\n",
       "      <th>1</th>\n",
       "      <td>0.003</td>\n",
       "      <td>0.6</td>\n",
       "      <td>0.002</td>\n",
       "      <td>0.035</td>\n",
       "      <td>27.0</td>\n",
       "      <td>16.0</td>\n",
       "      <td>18.3</td>\n",
       "      <td>0.0</td>\n",
       "      <td>0.3</td>\n",
       "      <td>0.0</td>\n",
       "      <td>89.0</td>\n",
       "      <td>18.6</td>\n",
       "      <td>998.9</td>\n",
       "      <td>1008.8</td>\n",
       "      <td>2000.0</td>\n",
       "      <td>17.2</td>\n",
       "      <td>10</td>\n",
       "      <td>1</td>\n",
       "      <td>2</td>\n",
       "      <td>9.0</td>\n",
       "    </tr>\n",
       "    <tr>\n",
       "      <th>2</th>\n",
       "      <td>0.003</td>\n",
       "      <td>0.6</td>\n",
       "      <td>0.002</td>\n",
       "      <td>0.033</td>\n",
       "      <td>28.0</td>\n",
       "      <td>18.0</td>\n",
       "      <td>17.7</td>\n",
       "      <td>0.0</td>\n",
       "      <td>2.0</td>\n",
       "      <td>20.0</td>\n",
       "      <td>92.0</td>\n",
       "      <td>18.5</td>\n",
       "      <td>998.1</td>\n",
       "      <td>1008.1</td>\n",
       "      <td>2000.0</td>\n",
       "      <td>17.0</td>\n",
       "      <td>10</td>\n",
       "      <td>1</td>\n",
       "      <td>3</td>\n",
       "      <td>9.0</td>\n",
       "    </tr>\n",
       "    <tr>\n",
       "      <th>3</th>\n",
       "      <td>0.003</td>\n",
       "      <td>0.6</td>\n",
       "      <td>0.002</td>\n",
       "      <td>0.030</td>\n",
       "      <td>26.0</td>\n",
       "      <td>16.0</td>\n",
       "      <td>17.4</td>\n",
       "      <td>0.0</td>\n",
       "      <td>1.0</td>\n",
       "      <td>50.0</td>\n",
       "      <td>91.0</td>\n",
       "      <td>18.1</td>\n",
       "      <td>997.9</td>\n",
       "      <td>1007.9</td>\n",
       "      <td>2000.0</td>\n",
       "      <td>16.5</td>\n",
       "      <td>10</td>\n",
       "      <td>1</td>\n",
       "      <td>4</td>\n",
       "      <td>10.0</td>\n",
       "    </tr>\n",
       "    <tr>\n",
       "      <th>4</th>\n",
       "      <td>0.003</td>\n",
       "      <td>0.5</td>\n",
       "      <td>0.003</td>\n",
       "      <td>0.026</td>\n",
       "      <td>26.0</td>\n",
       "      <td>16.0</td>\n",
       "      <td>17.2</td>\n",
       "      <td>0.0</td>\n",
       "      <td>1.3</td>\n",
       "      <td>270.0</td>\n",
       "      <td>94.0</td>\n",
       "      <td>18.4</td>\n",
       "      <td>998.4</td>\n",
       "      <td>1008.4</td>\n",
       "      <td>1995.0</td>\n",
       "      <td>16.6</td>\n",
       "      <td>10</td>\n",
       "      <td>1</td>\n",
       "      <td>5</td>\n",
       "      <td>11.0</td>\n",
       "    </tr>\n",
       "  </tbody>\n",
       "</table>\n",
       "</div>"
      ],
      "text/plain": [
       "     SO2   CO     O3    NO2  PM10  PM25  기온(°C)  강수량(mm)  풍속(m/s)  풍향(16방위)  \\\n",
       "0  0.003  0.6  0.002  0.039  31.0  18.0    18.7      0.0      1.0      20.0   \n",
       "1  0.003  0.6  0.002  0.035  27.0  16.0    18.3      0.0      0.3       0.0   \n",
       "2  0.003  0.6  0.002  0.033  28.0  18.0    17.7      0.0      2.0      20.0   \n",
       "3  0.003  0.6  0.002  0.030  26.0  16.0    17.4      0.0      1.0      50.0   \n",
       "4  0.003  0.5  0.003  0.026  26.0  16.0    17.2      0.0      1.3     270.0   \n",
       "\n",
       "   습도(%)  증기압(hPa)  현지기압(hPa)  해면기압(hPa)  시정(10m)  지면온도(°C)  month  day  hour  \\\n",
       "0   85.0      18.3      998.8     1008.7   2000.0      17.4     10    1     1   \n",
       "1   89.0      18.6      998.9     1008.8   2000.0      17.2     10    1     2   \n",
       "2   92.0      18.5      998.1     1008.1   2000.0      17.0     10    1     3   \n",
       "3   91.0      18.1      997.9     1007.9   2000.0      16.5     10    1     4   \n",
       "4   94.0      18.4      998.4     1008.4   1995.0      16.6     10    1     5   \n",
       "\n",
       "   PM10_lag1  \n",
       "0       10.0  \n",
       "1        9.0  \n",
       "2        9.0  \n",
       "3       10.0  \n",
       "4       11.0  "
      ]
     },
     "execution_count": 10,
     "metadata": {},
     "output_type": "execute_result"
    }
   ],
   "source": [
    "train_x.head()"
   ]
  },
  {
   "cell_type": "code",
   "execution_count": 11,
   "id": "guilty-score",
   "metadata": {
    "tags": []
   },
   "outputs": [
    {
     "data": {
      "text/html": [
       "<style>#sk-container-id-2 {color: black;}#sk-container-id-2 pre{padding: 0;}#sk-container-id-2 div.sk-toggleable {background-color: white;}#sk-container-id-2 label.sk-toggleable__label {cursor: pointer;display: block;width: 100%;margin-bottom: 0;padding: 0.3em;box-sizing: border-box;text-align: center;}#sk-container-id-2 label.sk-toggleable__label-arrow:before {content: \"▸\";float: left;margin-right: 0.25em;color: #696969;}#sk-container-id-2 label.sk-toggleable__label-arrow:hover:before {color: black;}#sk-container-id-2 div.sk-estimator:hover label.sk-toggleable__label-arrow:before {color: black;}#sk-container-id-2 div.sk-toggleable__content {max-height: 0;max-width: 0;overflow: hidden;text-align: left;background-color: #f0f8ff;}#sk-container-id-2 div.sk-toggleable__content pre {margin: 0.2em;color: black;border-radius: 0.25em;background-color: #f0f8ff;}#sk-container-id-2 input.sk-toggleable__control:checked~div.sk-toggleable__content {max-height: 200px;max-width: 100%;overflow: auto;}#sk-container-id-2 input.sk-toggleable__control:checked~label.sk-toggleable__label-arrow:before {content: \"▾\";}#sk-container-id-2 div.sk-estimator input.sk-toggleable__control:checked~label.sk-toggleable__label {background-color: #d4ebff;}#sk-container-id-2 div.sk-label input.sk-toggleable__control:checked~label.sk-toggleable__label {background-color: #d4ebff;}#sk-container-id-2 input.sk-hidden--visually {border: 0;clip: rect(1px 1px 1px 1px);clip: rect(1px, 1px, 1px, 1px);height: 1px;margin: -1px;overflow: hidden;padding: 0;position: absolute;width: 1px;}#sk-container-id-2 div.sk-estimator {font-family: monospace;background-color: #f0f8ff;border: 1px dotted black;border-radius: 0.25em;box-sizing: border-box;margin-bottom: 0.5em;}#sk-container-id-2 div.sk-estimator:hover {background-color: #d4ebff;}#sk-container-id-2 div.sk-parallel-item::after {content: \"\";width: 100%;border-bottom: 1px solid gray;flex-grow: 1;}#sk-container-id-2 div.sk-label:hover label.sk-toggleable__label {background-color: #d4ebff;}#sk-container-id-2 div.sk-serial::before {content: \"\";position: absolute;border-left: 1px solid gray;box-sizing: border-box;top: 0;bottom: 0;left: 50%;z-index: 0;}#sk-container-id-2 div.sk-serial {display: flex;flex-direction: column;align-items: center;background-color: white;padding-right: 0.2em;padding-left: 0.2em;position: relative;}#sk-container-id-2 div.sk-item {position: relative;z-index: 1;}#sk-container-id-2 div.sk-parallel {display: flex;align-items: stretch;justify-content: center;background-color: white;position: relative;}#sk-container-id-2 div.sk-item::before, #sk-container-id-2 div.sk-parallel-item::before {content: \"\";position: absolute;border-left: 1px solid gray;box-sizing: border-box;top: 0;bottom: 0;left: 50%;z-index: -1;}#sk-container-id-2 div.sk-parallel-item {display: flex;flex-direction: column;z-index: 1;position: relative;background-color: white;}#sk-container-id-2 div.sk-parallel-item:first-child::after {align-self: flex-end;width: 50%;}#sk-container-id-2 div.sk-parallel-item:last-child::after {align-self: flex-start;width: 50%;}#sk-container-id-2 div.sk-parallel-item:only-child::after {width: 0;}#sk-container-id-2 div.sk-dashed-wrapped {border: 1px dashed gray;margin: 0 0.4em 0.5em 0.4em;box-sizing: border-box;padding-bottom: 0.4em;background-color: white;}#sk-container-id-2 div.sk-label label {font-family: monospace;font-weight: bold;display: inline-block;line-height: 1.2em;}#sk-container-id-2 div.sk-label-container {text-align: center;}#sk-container-id-2 div.sk-container {/* jupyter's `normalize.less` sets `[hidden] { display: none; }` but bootstrap.min.css set `[hidden] { display: none !important; }` so we also need the `!important` here to be able to override the default hidden behavior on the sphinx rendered scikit-learn.org. See: https://github.com/scikit-learn/scikit-learn/issues/21755 */display: inline-block !important;position: relative;}#sk-container-id-2 div.sk-text-repr-fallback {display: none;}</style><div id=\"sk-container-id-2\" class=\"sk-top-container\"><div class=\"sk-text-repr-fallback\"><pre>RandomForestRegressor()</pre><b>In a Jupyter environment, please rerun this cell to show the HTML representation or trust the notebook. <br />On GitHub, the HTML representation is unable to render, please try loading this page with nbviewer.org.</b></div><div class=\"sk-container\" hidden><div class=\"sk-item\"><div class=\"sk-estimator sk-toggleable\"><input class=\"sk-toggleable__control sk-hidden--visually\" id=\"sk-estimator-id-2\" type=\"checkbox\" checked><label for=\"sk-estimator-id-2\" class=\"sk-toggleable__label sk-toggleable__label-arrow\">RandomForestRegressor</label><div class=\"sk-toggleable__content\"><pre>RandomForestRegressor()</pre></div></div></div></div></div>"
      ],
      "text/plain": [
       "RandomForestRegressor()"
      ]
     },
     "execution_count": 11,
     "metadata": {},
     "output_type": "execute_result"
    }
   ],
   "source": [
    "# 아래에 필요한 코드를 작성하고 결과를 확인합니다.\n",
    "model_rfr = RFR()\n",
    "model_rfr.fit(train_x, train_y)"
   ]
  },
  {
   "cell_type": "code",
   "execution_count": 12,
   "id": "10b33a11",
   "metadata": {},
   "outputs": [
    {
     "name": "stdout",
     "output_type": "stream",
     "text": [
      "47.26468\n",
      "0.91265\n"
     ]
    }
   ],
   "source": [
    "# Test 데이터로 성능을 평가해보세요.\n",
    "y_pred_RFR = model_rfr.predict(test_x)\n",
    "\n",
    "print(f'{mse(test_y, y_pred_RFR):.5f}')\n",
    "print(f'{r2_score(test_y, y_pred_RFR):.5f}')"
   ]
  },
  {
   "cell_type": "code",
   "execution_count": 13,
   "id": "ca4a6963-ad8b-4568-a3ec-5815a28252fb",
   "metadata": {
    "tags": []
   },
   "outputs": [],
   "source": [
    "#50.89374\n",
    "#0.90594"
   ]
  },
  {
   "cell_type": "code",
   "execution_count": 14,
   "id": "41971ff8",
   "metadata": {},
   "outputs": [
    {
     "data": {
      "text/plain": [
       "['./model_rfr.pkl']"
      ]
     },
     "execution_count": 14,
     "metadata": {},
     "output_type": "execute_result"
    }
   ],
   "source": [
    "# 학습한 모델을 파일로 저장해보세요.\n",
    "joblib.dump(model_lr, './model_rfr.pkl')"
   ]
  },
  {
   "cell_type": "code",
   "execution_count": null,
   "id": "e8ad32e8-729d-49b2-a386-6b128f2e8737",
   "metadata": {
    "tags": []
   },
   "outputs": [],
   "source": []
  },
  {
   "cell_type": "code",
   "execution_count": 15,
   "id": "e19f84b0",
   "metadata": {},
   "outputs": [
    {
     "data": {
      "text/plain": [
       "array([1.15574765e-03, 8.97099957e-04, 1.41547170e-03, 2.80052809e-03,\n",
       "       9.56467910e-01, 4.48944392e-03, 1.87681635e-03, 6.65727853e-04,\n",
       "       1.69949644e-03, 9.98616390e-04, 2.32596303e-03, 2.05638558e-03,\n",
       "       1.44935598e-03, 1.44184934e-03, 1.41655586e-03, 1.95872642e-03,\n",
       "       4.58694047e-04, 1.59142294e-03, 9.14370932e-03, 5.69047950e-03])"
      ]
     },
     "execution_count": 15,
     "metadata": {},
     "output_type": "execute_result"
    }
   ],
   "source": [
    "# (다음 진행은 선택입니다)\n",
    "# 렌덤포레스트로 학습한 모델의 feature_importances를 구해보세요.\n",
    "# 확인할 수 있는 내용으로 우리 모델에서의 인사이트를 정리해보세요.\n",
    "# Feature의 중요도 확인\n",
    "model_rfr.feature_importances_"
   ]
  },
  {
   "cell_type": "code",
   "execution_count": 16,
   "id": "ecd3a3a9-5fef-4c8b-a7fe-64e12f077f41",
   "metadata": {
    "tags": []
   },
   "outputs": [
    {
     "data": {
      "image/png": "[encoded data removed]",
      "text/plain": [
       "<Figure size 2000x500 with 1 Axes>"
      ]
     },
     "metadata": {},
     "output_type": "display_data"
    }
   ],
   "source": [
    "from matplotlib import pyplot as plt\n",
    "plt.rcParams['font.family'] = 'Malgun Gothic'\n",
    "plt.figure(figsize=[20,5])\n",
    "plt.barh(y=list(train_x), width=model_rfr.feature_importances_)\n",
    "plt.xlim([0,0.1])\n",
    "plt.show()"
   ]
  },
  {
   "cell_type": "code",
   "execution_count": 17,
   "id": "af7989f3",
   "metadata": {},
   "outputs": [],
   "source": [
    "# (선택) 확인할 수 있는 인사이트\n",
    "# 1. 전날 미세먼지 농도에 절대적으로 큰 영향 -> 당연하지 않나? 이것도 예측인가?\n",
    "# 2. 시간에 영향을 많이 받는다.\n",
    "# 3. 의외로 월에는 영향을 거의 안 받는다. 봄철이 심하지 않나싶은데\n",
    "# 4. 강수량에도 영향을 거의 안 받는다"
   ]
  },
  {
   "cell_type": "code",
   "execution_count": null,
   "id": "747f5c8a-a9f6-48de-a39d-29ba6aac7606",
   "metadata": {},
   "outputs": [],
   "source": []
  },
  {
   "cell_type": "markdown",
   "id": "7721b79d-7f9f-43a7-9dcf-87faa194f907",
   "metadata": {},
   "source": [
    "#### PM, 시정 삭제"
   ]
  },
  {
   "cell_type": "code",
   "execution_count": 18,
   "id": "09a22b13-7d5d-46ae-8459-7834765e4a08",
   "metadata": {
    "tags": []
   },
   "outputs": [],
   "source": [
    "train_x_except_pm = train_x[:].drop(columns=['PM10','PM25', '시정(10m)'], axis=1)\n",
    "test_x_except_pm = test_x[:].drop(['PM10','PM25', '시정(10m)'], axis=1)"
   ]
  },
  {
   "cell_type": "code",
   "execution_count": 19,
   "id": "432de604-efc9-448d-89e9-2e4751735456",
   "metadata": {
    "tags": []
   },
   "outputs": [
    {
     "data": {
      "text/html": [
       "<style>#sk-container-id-3 {color: black;}#sk-container-id-3 pre{padding: 0;}#sk-container-id-3 div.sk-toggleable {background-color: white;}#sk-container-id-3 label.sk-toggleable__label {cursor: pointer;display: block;width: 100%;margin-bottom: 0;padding: 0.3em;box-sizing: border-box;text-align: center;}#sk-container-id-3 label.sk-toggleable__label-arrow:before {content: \"▸\";float: left;margin-right: 0.25em;color: #696969;}#sk-container-id-3 label.sk-toggleable__label-arrow:hover:before {color: black;}#sk-container-id-3 div.sk-estimator:hover label.sk-toggleable__label-arrow:before {color: black;}#sk-container-id-3 div.sk-toggleable__content {max-height: 0;max-width: 0;overflow: hidden;text-align: left;background-color: #f0f8ff;}#sk-container-id-3 div.sk-toggleable__content pre {margin: 0.2em;color: black;border-radius: 0.25em;background-color: #f0f8ff;}#sk-container-id-3 input.sk-toggleable__control:checked~div.sk-toggleable__content {max-height: 200px;max-width: 100%;overflow: auto;}#sk-container-id-3 input.sk-toggleable__control:checked~label.sk-toggleable__label-arrow:before {content: \"▾\";}#sk-container-id-3 div.sk-estimator input.sk-toggleable__control:checked~label.sk-toggleable__label {background-color: #d4ebff;}#sk-container-id-3 div.sk-label input.sk-toggleable__control:checked~label.sk-toggleable__label {background-color: #d4ebff;}#sk-container-id-3 input.sk-hidden--visually {border: 0;clip: rect(1px 1px 1px 1px);clip: rect(1px, 1px, 1px, 1px);height: 1px;margin: -1px;overflow: hidden;padding: 0;position: absolute;width: 1px;}#sk-container-id-3 div.sk-estimator {font-family: monospace;background-color: #f0f8ff;border: 1px dotted black;border-radius: 0.25em;box-sizing: border-box;margin-bottom: 0.5em;}#sk-container-id-3 div.sk-estimator:hover {background-color: #d4ebff;}#sk-container-id-3 div.sk-parallel-item::after {content: \"\";width: 100%;border-bottom: 1px solid gray;flex-grow: 1;}#sk-container-id-3 div.sk-label:hover label.sk-toggleable__label {background-color: #d4ebff;}#sk-container-id-3 div.sk-serial::before {content: \"\";position: absolute;border-left: 1px solid gray;box-sizing: border-box;top: 0;bottom: 0;left: 50%;z-index: 0;}#sk-container-id-3 div.sk-serial {display: flex;flex-direction: column;align-items: center;background-color: white;padding-right: 0.2em;padding-left: 0.2em;position: relative;}#sk-container-id-3 div.sk-item {position: relative;z-index: 1;}#sk-container-id-3 div.sk-parallel {display: flex;align-items: stretch;justify-content: center;background-color: white;position: relative;}#sk-container-id-3 div.sk-item::before, #sk-container-id-3 div.sk-parallel-item::before {content: \"\";position: absolute;border-left: 1px solid gray;box-sizing: border-box;top: 0;bottom: 0;left: 50%;z-index: -1;}#sk-container-id-3 div.sk-parallel-item {display: flex;flex-direction: column;z-index: 1;position: relative;background-color: white;}#sk-container-id-3 div.sk-parallel-item:first-child::after {align-self: flex-end;width: 50%;}#sk-container-id-3 div.sk-parallel-item:last-child::after {align-self: flex-start;width: 50%;}#sk-container-id-3 div.sk-parallel-item:only-child::after {width: 0;}#sk-container-id-3 div.sk-dashed-wrapped {border: 1px dashed gray;margin: 0 0.4em 0.5em 0.4em;box-sizing: border-box;padding-bottom: 0.4em;background-color: white;}#sk-container-id-3 div.sk-label label {font-family: monospace;font-weight: bold;display: inline-block;line-height: 1.2em;}#sk-container-id-3 div.sk-label-container {text-align: center;}#sk-container-id-3 div.sk-container {/* jupyter's `normalize.less` sets `[hidden] { display: none; }` but bootstrap.min.css set `[hidden] { display: none !important; }` so we also need the `!important` here to be able to override the default hidden behavior on the sphinx rendered scikit-learn.org. See: https://github.com/scikit-learn/scikit-learn/issues/21755 */display: inline-block !important;position: relative;}#sk-container-id-3 div.sk-text-repr-fallback {display: none;}</style><div id=\"sk-container-id-3\" class=\"sk-top-container\"><div class=\"sk-text-repr-fallback\"><pre>RandomForestRegressor()</pre><b>In a Jupyter environment, please rerun this cell to show the HTML representation or trust the notebook. <br />On GitHub, the HTML representation is unable to render, please try loading this page with nbviewer.org.</b></div><div class=\"sk-container\" hidden><div class=\"sk-item\"><div class=\"sk-estimator sk-toggleable\"><input class=\"sk-toggleable__control sk-hidden--visually\" id=\"sk-estimator-id-3\" type=\"checkbox\" checked><label for=\"sk-estimator-id-3\" class=\"sk-toggleable__label sk-toggleable__label-arrow\">RandomForestRegressor</label><div class=\"sk-toggleable__content\"><pre>RandomForestRegressor()</pre></div></div></div></div></div>"
      ],
      "text/plain": [
       "RandomForestRegressor()"
      ]
     },
     "execution_count": 19,
     "metadata": {},
     "output_type": "execute_result"
    }
   ],
   "source": [
    "model_rfr_ex_pm = RFR()\n",
    "model_rfr_ex_pm.fit(train_x_except_pm, train_y)"
   ]
  },
  {
   "cell_type": "code",
   "execution_count": 20,
   "id": "ea9c6f19-0b69-4cc4-90b4-f6bd86eb94f3",
   "metadata": {
    "tags": []
   },
   "outputs": [
    {
     "name": "stdout",
     "output_type": "stream",
     "text": [
      "47.26468\n",
      "0.91265\n"
     ]
    }
   ],
   "source": [
    "pred_y = model_rfr_ex_pm.predict(test_x_except_pm)\n",
    "\n",
    "print(f'{mse(test_y, y_pred_RFR):.5f}')\n",
    "print(f'{r2_score(test_y, y_pred_RFR):.5f}')"
   ]
  },
  {
   "cell_type": "code",
   "execution_count": 21,
   "id": "b43f8247-1a6e-4d26-8d4d-959c59f3376a",
   "metadata": {
    "tags": []
   },
   "outputs": [
    {
     "data": {
      "image/png": "[encoded data removed]",
      "text/plain": [
       "<Figure size 640x480 with 1 Axes>"
      ]
     },
     "metadata": {},
     "output_type": "display_data"
    }
   ],
   "source": [
    "plt.barh(y=list(train_x_except_pm), width=model_rfr_ex_pm.feature_importances_)\n",
    "plt.show()"
   ]
  },
  {
   "cell_type": "code",
   "execution_count": 22,
   "id": "e84e1600-1339-4e8f-bcf1-b3f6f917a7ca",
   "metadata": {
    "tags": []
   },
   "outputs": [],
   "source": [
    "# 1. O3 에 영향\n",
    "# 2. 수증기압에 영향 받음"
   ]
  },
  {
   "cell_type": "code",
   "execution_count": null,
   "id": "b5e5435b-7297-4733-b2be-a441c05b8556",
   "metadata": {},
   "outputs": [],
   "source": []
  },
  {
   "cell_type": "markdown",
   "id": "07b2abf7-95ee-469f-b1b2-0fada05838aa",
   "metadata": {},
   "source": [
    "#### 계절별로 나누어본것"
   ]
  },
  {
   "cell_type": "code",
   "execution_count": 23,
   "id": "b6bdddf7-5171-4751-9699-fe89e5d419ff",
   "metadata": {
    "tags": []
   },
   "outputs": [
    {
     "data": {
      "text/html": [
       "<div>\n",
       "<style scoped>\n",
       "    .dataframe tbody tr th:only-of-type {\n",
       "        vertical-align: middle;\n",
       "    }\n",
       "\n",
       "    .dataframe tbody tr th {\n",
       "        vertical-align: top;\n",
       "    }\n",
       "\n",
       "    .dataframe thead th {\n",
       "        text-align: right;\n",
       "    }\n",
       "</style>\n",
       "<table border=\"1\" class=\"dataframe\">\n",
       "  <thead>\n",
       "    <tr style=\"text-align: right;\">\n",
       "      <th></th>\n",
       "      <th>SO2</th>\n",
       "      <th>CO</th>\n",
       "      <th>O3</th>\n",
       "      <th>NO2</th>\n",
       "      <th>PM10</th>\n",
       "      <th>PM25</th>\n",
       "      <th>기온(°C)</th>\n",
       "      <th>강수량(mm)</th>\n",
       "      <th>풍속(m/s)</th>\n",
       "      <th>풍향(16방위)</th>\n",
       "      <th>습도(%)</th>\n",
       "      <th>증기압(hPa)</th>\n",
       "      <th>현지기압(hPa)</th>\n",
       "      <th>해면기압(hPa)</th>\n",
       "      <th>시정(10m)</th>\n",
       "      <th>지면온도(°C)</th>\n",
       "      <th>month</th>\n",
       "      <th>day</th>\n",
       "      <th>hour</th>\n",
       "      <th>PM10_lag1</th>\n",
       "    </tr>\n",
       "  </thead>\n",
       "  <tbody>\n",
       "    <tr>\n",
       "      <th>0</th>\n",
       "      <td>0.003</td>\n",
       "      <td>0.6</td>\n",
       "      <td>0.002</td>\n",
       "      <td>0.039</td>\n",
       "      <td>31.0</td>\n",
       "      <td>18.0</td>\n",
       "      <td>18.7</td>\n",
       "      <td>0.0</td>\n",
       "      <td>1.0</td>\n",
       "      <td>20.0</td>\n",
       "      <td>85.0</td>\n",
       "      <td>18.3</td>\n",
       "      <td>998.8</td>\n",
       "      <td>1008.7</td>\n",
       "      <td>2000.0</td>\n",
       "      <td>17.4</td>\n",
       "      <td>10</td>\n",
       "      <td>1</td>\n",
       "      <td>1</td>\n",
       "      <td>10.0</td>\n",
       "    </tr>\n",
       "    <tr>\n",
       "      <th>1</th>\n",
       "      <td>0.003</td>\n",
       "      <td>0.6</td>\n",
       "      <td>0.002</td>\n",
       "      <td>0.035</td>\n",
       "      <td>27.0</td>\n",
       "      <td>16.0</td>\n",
       "      <td>18.3</td>\n",
       "      <td>0.0</td>\n",
       "      <td>0.3</td>\n",
       "      <td>0.0</td>\n",
       "      <td>89.0</td>\n",
       "      <td>18.6</td>\n",
       "      <td>998.9</td>\n",
       "      <td>1008.8</td>\n",
       "      <td>2000.0</td>\n",
       "      <td>17.2</td>\n",
       "      <td>10</td>\n",
       "      <td>1</td>\n",
       "      <td>2</td>\n",
       "      <td>9.0</td>\n",
       "    </tr>\n",
       "    <tr>\n",
       "      <th>2</th>\n",
       "      <td>0.003</td>\n",
       "      <td>0.6</td>\n",
       "      <td>0.002</td>\n",
       "      <td>0.033</td>\n",
       "      <td>28.0</td>\n",
       "      <td>18.0</td>\n",
       "      <td>17.7</td>\n",
       "      <td>0.0</td>\n",
       "      <td>2.0</td>\n",
       "      <td>20.0</td>\n",
       "      <td>92.0</td>\n",
       "      <td>18.5</td>\n",
       "      <td>998.1</td>\n",
       "      <td>1008.1</td>\n",
       "      <td>2000.0</td>\n",
       "      <td>17.0</td>\n",
       "      <td>10</td>\n",
       "      <td>1</td>\n",
       "      <td>3</td>\n",
       "      <td>9.0</td>\n",
       "    </tr>\n",
       "    <tr>\n",
       "      <th>3</th>\n",
       "      <td>0.003</td>\n",
       "      <td>0.6</td>\n",
       "      <td>0.002</td>\n",
       "      <td>0.030</td>\n",
       "      <td>26.0</td>\n",
       "      <td>16.0</td>\n",
       "      <td>17.4</td>\n",
       "      <td>0.0</td>\n",
       "      <td>1.0</td>\n",
       "      <td>50.0</td>\n",
       "      <td>91.0</td>\n",
       "      <td>18.1</td>\n",
       "      <td>997.9</td>\n",
       "      <td>1007.9</td>\n",
       "      <td>2000.0</td>\n",
       "      <td>16.5</td>\n",
       "      <td>10</td>\n",
       "      <td>1</td>\n",
       "      <td>4</td>\n",
       "      <td>10.0</td>\n",
       "    </tr>\n",
       "    <tr>\n",
       "      <th>4</th>\n",
       "      <td>0.003</td>\n",
       "      <td>0.5</td>\n",
       "      <td>0.003</td>\n",
       "      <td>0.026</td>\n",
       "      <td>26.0</td>\n",
       "      <td>16.0</td>\n",
       "      <td>17.2</td>\n",
       "      <td>0.0</td>\n",
       "      <td>1.3</td>\n",
       "      <td>270.0</td>\n",
       "      <td>94.0</td>\n",
       "      <td>18.4</td>\n",
       "      <td>998.4</td>\n",
       "      <td>1008.4</td>\n",
       "      <td>1995.0</td>\n",
       "      <td>16.6</td>\n",
       "      <td>10</td>\n",
       "      <td>1</td>\n",
       "      <td>5</td>\n",
       "      <td>11.0</td>\n",
       "    </tr>\n",
       "  </tbody>\n",
       "</table>\n",
       "</div>"
      ],
      "text/plain": [
       "     SO2   CO     O3    NO2  PM10  PM25  기온(°C)  강수량(mm)  풍속(m/s)  풍향(16방위)  \\\n",
       "0  0.003  0.6  0.002  0.039  31.0  18.0    18.7      0.0      1.0      20.0   \n",
       "1  0.003  0.6  0.002  0.035  27.0  16.0    18.3      0.0      0.3       0.0   \n",
       "2  0.003  0.6  0.002  0.033  28.0  18.0    17.7      0.0      2.0      20.0   \n",
       "3  0.003  0.6  0.002  0.030  26.0  16.0    17.4      0.0      1.0      50.0   \n",
       "4  0.003  0.5  0.003  0.026  26.0  16.0    17.2      0.0      1.3     270.0   \n",
       "\n",
       "   습도(%)  증기압(hPa)  현지기압(hPa)  해면기압(hPa)  시정(10m)  지면온도(°C)  month  day  hour  \\\n",
       "0   85.0      18.3      998.8     1008.7   2000.0      17.4     10    1     1   \n",
       "1   89.0      18.6      998.9     1008.8   2000.0      17.2     10    1     2   \n",
       "2   92.0      18.5      998.1     1008.1   2000.0      17.0     10    1     3   \n",
       "3   91.0      18.1      997.9     1007.9   2000.0      16.5     10    1     4   \n",
       "4   94.0      18.4      998.4     1008.4   1995.0      16.6     10    1     5   \n",
       "\n",
       "   PM10_lag1  \n",
       "0       10.0  \n",
       "1        9.0  \n",
       "2        9.0  \n",
       "3       10.0  \n",
       "4       11.0  "
      ]
     },
     "execution_count": 23,
     "metadata": {},
     "output_type": "execute_result"
    }
   ],
   "source": [
    "train_x.head()"
   ]
  },
  {
   "cell_type": "code",
   "execution_count": 24,
   "id": "56fbdbbb-bc33-43ea-9aae-6fc9a63cd10a",
   "metadata": {
    "tags": []
   },
   "outputs": [],
   "source": [
    "train_x_with_season = train_x[:]\n",
    "test_x_with_season = test_x[:]"
   ]
  },
  {
   "cell_type": "code",
   "execution_count": 25,
   "id": "e5f4425f-d49f-40c5-9142-19a600673947",
   "metadata": {
    "tags": []
   },
   "outputs": [
    {
     "data": {
      "text/plain": [
       "0    2208\n",
       "1    2208\n",
       "2    2184\n",
       "3    2159\n",
       "Name: season, dtype: int64"
      ]
     },
     "execution_count": 25,
     "metadata": {},
     "output_type": "execute_result"
    }
   ],
   "source": [
    "train_x_with_season['season'] = train_x_with_season['month'].apply(lambda month: 0 if month in [3,4,5] else 1 if month in [6,7,8] else 2 if month in [9,10,11] else 3)\n",
    "test_x_with_season['season'] = test_x_with_season['month'].apply(lambda month: 0 if month in [3,4,5] else 1 if month in [6,7,8] else 2 if month in [9,10,11] else 3)\n",
    "train_x_with_season['season'].value_counts()"
   ]
  },
  {
   "cell_type": "code",
   "execution_count": 26,
   "id": "8113df2b-332e-4a7c-99da-9c0ad2777874",
   "metadata": {
    "tags": []
   },
   "outputs": [
    {
     "name": "stdout",
     "output_type": "stream",
     "text": [
      "49.94354\n",
      "0.90770\n"
     ]
    }
   ],
   "source": [
    "model_rfr_with_seasons = RFR()\n",
    "model_rfr_with_seasons.fit(train_x_with_season, train_y)\n",
    "y_pred_RFR = model_rfr_with_seasons.predict(test_x_with_season)\n",
    "print(f'{mse(test_y, y_pred_RFR):.5f}')\n",
    "print(f'{r2_score(test_y, y_pred_RFR):.5f}')"
   ]
  },
  {
   "cell_type": "code",
   "execution_count": 27,
   "id": "fdc64639-789c-4b88-b7d7-af042e67907c",
   "metadata": {
    "tags": []
   },
   "outputs": [
    {
     "data": {
      "image/png": "[encoded data removed]",
      "text/plain": [
       "<Figure size 640x480 with 1 Axes>"
      ]
     },
     "metadata": {},
     "output_type": "display_data"
    }
   ],
   "source": [
    "plt.barh(y=list(test_x_with_season), width=model_rfr_with_seasons.feature_importances_)\n",
    "plt.xlim([0,0.01])\n",
    "plt.show()"
   ]
  },
  {
   "cell_type": "code",
   "execution_count": 28,
   "id": "30593de6-9158-4233-ad46-6a5e7fada78c",
   "metadata": {
    "tags": []
   },
   "outputs": [],
   "source": [
    "# 계절 - 관련없다"
   ]
  },
  {
   "cell_type": "code",
   "execution_count": null,
   "id": "5aa2f4c6-a135-426d-ab96-9f30734d5dae",
   "metadata": {},
   "outputs": [],
   "source": []
  },
  {
   "cell_type": "code",
   "execution_count": null,
   "id": "5edb2967-c14c-40bb-a488-8ead9fbf4b4b",
   "metadata": {},
   "outputs": [],
   "source": []
  },
  {
   "cell_type": "code",
   "execution_count": null,
   "id": "89b7dc3e-b7e7-411e-ab39-8ef65df2b797",
   "metadata": {},
   "outputs": [],
   "source": []
  },
  {
   "cell_type": "markdown",
   "id": "95401368-9bff-4118-b07a-92b833e33f20",
   "metadata": {
    "tags": []
   },
   "source": [
    "#### **<span style=\"color:blue\">(선택 수행)[4-2] 모델링: GradientBoosting</span>**"
   ]
  },
  {
   "cell_type": "markdown",
   "id": "convinced-vocabulary",
   "metadata": {},
   "source": [
    "* GradientBoosting: 앞선 모델의 에러를 다음 모델의 예측 값으로 활용하면서 가중치 업데이트 하는데 경사하강법(Gradient Descent)를 활용해서 최적 모델을 만드는 기법\n",
    "* Train과 Test로 나눈 데이터를 기준으로 그라디언트부스팅으로 모델을 학습을 진행하고 평가를 해주세요.\n",
    "* 그리고 모델 파일을 pkl로 저장해주세요.\n",
    "* 성능지표 : RMSE, R-squared Score(소수점 5째자리까지)"
   ]
  },
  {
   "cell_type": "code",
   "execution_count": 29,
   "id": "continent-olympus",
   "metadata": {},
   "outputs": [
    {
     "data": {
      "text/html": [
       "<style>#sk-container-id-4 {color: black;}#sk-container-id-4 pre{padding: 0;}#sk-container-id-4 div.sk-toggleable {background-color: white;}#sk-container-id-4 label.sk-toggleable__label {cursor: pointer;display: block;width: 100%;margin-bottom: 0;padding: 0.3em;box-sizing: border-box;text-align: center;}#sk-container-id-4 label.sk-toggleable__label-arrow:before {content: \"▸\";float: left;margin-right: 0.25em;color: #696969;}#sk-container-id-4 label.sk-toggleable__label-arrow:hover:before {color: black;}#sk-container-id-4 div.sk-estimator:hover label.sk-toggleable__label-arrow:before {color: black;}#sk-container-id-4 div.sk-toggleable__content {max-height: 0;max-width: 0;overflow: hidden;text-align: left;background-color: #f0f8ff;}#sk-container-id-4 div.sk-toggleable__content pre {margin: 0.2em;color: black;border-radius: 0.25em;background-color: #f0f8ff;}#sk-container-id-4 input.sk-toggleable__control:checked~div.sk-toggleable__content {max-height: 200px;max-width: 100%;overflow: auto;}#sk-container-id-4 input.sk-toggleable__control:checked~label.sk-toggleable__label-arrow:before {content: \"▾\";}#sk-container-id-4 div.sk-estimator input.sk-toggleable__control:checked~label.sk-toggleable__label {background-color: #d4ebff;}#sk-container-id-4 div.sk-label input.sk-toggleable__control:checked~label.sk-toggleable__label {background-color: #d4ebff;}#sk-container-id-4 input.sk-hidden--visually {border: 0;clip: rect(1px 1px 1px 1px);clip: rect(1px, 1px, 1px, 1px);height: 1px;margin: -1px;overflow: hidden;padding: 0;position: absolute;width: 1px;}#sk-container-id-4 div.sk-estimator {font-family: monospace;background-color: #f0f8ff;border: 1px dotted black;border-radius: 0.25em;box-sizing: border-box;margin-bottom: 0.5em;}#sk-container-id-4 div.sk-estimator:hover {background-color: #d4ebff;}#sk-container-id-4 div.sk-parallel-item::after {content: \"\";width: 100%;border-bottom: 1px solid gray;flex-grow: 1;}#sk-container-id-4 div.sk-label:hover label.sk-toggleable__label {background-color: #d4ebff;}#sk-container-id-4 div.sk-serial::before {content: \"\";position: absolute;border-left: 1px solid gray;box-sizing: border-box;top: 0;bottom: 0;left: 50%;z-index: 0;}#sk-container-id-4 div.sk-serial {display: flex;flex-direction: column;align-items: center;background-color: white;padding-right: 0.2em;padding-left: 0.2em;position: relative;}#sk-container-id-4 div.sk-item {position: relative;z-index: 1;}#sk-container-id-4 div.sk-parallel {display: flex;align-items: stretch;justify-content: center;background-color: white;position: relative;}#sk-container-id-4 div.sk-item::before, #sk-container-id-4 div.sk-parallel-item::before {content: \"\";position: absolute;border-left: 1px solid gray;box-sizing: border-box;top: 0;bottom: 0;left: 50%;z-index: -1;}#sk-container-id-4 div.sk-parallel-item {display: flex;flex-direction: column;z-index: 1;position: relative;background-color: white;}#sk-container-id-4 div.sk-parallel-item:first-child::after {align-self: flex-end;width: 50%;}#sk-container-id-4 div.sk-parallel-item:last-child::after {align-self: flex-start;width: 50%;}#sk-container-id-4 div.sk-parallel-item:only-child::after {width: 0;}#sk-container-id-4 div.sk-dashed-wrapped {border: 1px dashed gray;margin: 0 0.4em 0.5em 0.4em;box-sizing: border-box;padding-bottom: 0.4em;background-color: white;}#sk-container-id-4 div.sk-label label {font-family: monospace;font-weight: bold;display: inline-block;line-height: 1.2em;}#sk-container-id-4 div.sk-label-container {text-align: center;}#sk-container-id-4 div.sk-container {/* jupyter's `normalize.less` sets `[hidden] { display: none; }` but bootstrap.min.css set `[hidden] { display: none !important; }` so we also need the `!important` here to be able to override the default hidden behavior on the sphinx rendered scikit-learn.org. See: https://github.com/scikit-learn/scikit-learn/issues/21755 */display: inline-block !important;position: relative;}#sk-container-id-4 div.sk-text-repr-fallback {display: none;}</style><div id=\"sk-container-id-4\" class=\"sk-top-container\"><div class=\"sk-text-repr-fallback\"><pre>GradientBoostingRegressor()</pre><b>In a Jupyter environment, please rerun this cell to show the HTML representation or trust the notebook. <br />On GitHub, the HTML representation is unable to render, please try loading this page with nbviewer.org.</b></div><div class=\"sk-container\" hidden><div class=\"sk-item\"><div class=\"sk-estimator sk-toggleable\"><input class=\"sk-toggleable__control sk-hidden--visually\" id=\"sk-estimator-id-4\" type=\"checkbox\" checked><label for=\"sk-estimator-id-4\" class=\"sk-toggleable__label sk-toggleable__label-arrow\">GradientBoostingRegressor</label><div class=\"sk-toggleable__content\"><pre>GradientBoostingRegressor()</pre></div></div></div></div></div>"
      ],
      "text/plain": [
       "GradientBoostingRegressor()"
      ]
     },
     "execution_count": 29,
     "metadata": {},
     "output_type": "execute_result"
    }
   ],
   "source": [
    "# 아래에 필요한 코드를 작성하고 결과를 확인합니다.\n",
    "model_gbr = GBR()\n",
    "model_gbr.fit(train_x, train_y)"
   ]
  },
  {
   "cell_type": "code",
   "execution_count": 30,
   "id": "241dbcdc",
   "metadata": {},
   "outputs": [
    {
     "name": "stdout",
     "output_type": "stream",
     "text": [
      "50.04426\n",
      "0.90751\n"
     ]
    }
   ],
   "source": [
    "# Test 데이터로 성능을 평가해보세요.\n",
    "y_pred_GBR = model_gbr.predict(test_x)\n",
    "print(f'{mse(test_y, y_pred_GBR):.5f}')\n",
    "print(f'{r2_score(test_y, y_pred_GBR):.5f}')"
   ]
  },
  {
   "cell_type": "code",
   "execution_count": 31,
   "id": "9bdccb80",
   "metadata": {},
   "outputs": [
    {
     "data": {
      "text/plain": [
       "['./model_gbr.pkl']"
      ]
     },
     "execution_count": 31,
     "metadata": {},
     "output_type": "execute_result"
    }
   ],
   "source": [
    "# 학습한 모델을 파일로 저장해보세요.\n",
    "joblib.dump(model_lr, './model_gbr.pkl')"
   ]
  },
  {
   "cell_type": "code",
   "execution_count": 32,
   "id": "8deba58d",
   "metadata": {},
   "outputs": [
    {
     "data": {
      "text/plain": [
       "array([2.83985306e-05, 2.43405036e-04, 3.33707824e-05, 1.01647573e-03,\n",
       "       9.76605755e-01, 1.14195247e-03, 5.71740777e-04, 1.17500483e-04,\n",
       "       5.86613151e-04, 1.34358227e-03, 5.81387457e-04, 3.22022950e-04,\n",
       "       1.17460788e-04, 2.62628869e-04, 1.51503404e-03, 2.12300918e-03,\n",
       "       1.00428926e-05, 1.90625981e-04, 8.93041438e-03, 4.25857890e-03])"
      ]
     },
     "execution_count": 32,
     "metadata": {},
     "output_type": "execute_result"
    }
   ],
   "source": [
    "# (다음 진행은 선택입니다)\n",
    "# 그라디언트부스팅으로 학습한 모델의 feature_importances를 구해보세요.\n",
    "# 확인할 수 있는 내용으로 우리 모델에서의 인사이트를 정리해보세요.\n",
    "# Feature의 중요도 확인\n",
    "model_gbr.feature_importances_"
   ]
  },
  {
   "cell_type": "code",
   "execution_count": 33,
   "id": "34badb54-328c-4a87-b24b-84a75ee92eff",
   "metadata": {
    "tags": []
   },
   "outputs": [
    {
     "data": {
      "image/png": "[encoded data removed]",
      "text/plain": [
       "<Figure size 640x480 with 1 Axes>"
      ]
     },
     "metadata": {},
     "output_type": "display_data"
    }
   ],
   "source": [
    "plt.barh(y=list(train_x),width=model_gbr.feature_importances_)\n",
    "plt.xlim([0,0.01])\n",
    "plt.show()"
   ]
  },
  {
   "cell_type": "code",
   "execution_count": 34,
   "id": "9d1bfe7d",
   "metadata": {
    "tags": []
   },
   "outputs": [],
   "source": [
    "# 확인할 수 있는 인사이트\n",
    "# 1.\n",
    "# 2.\n",
    "# 3."
   ]
  },
  {
   "cell_type": "code",
   "execution_count": null,
   "id": "37e12df8-999b-4004-be96-7c7fb20b6c9e",
   "metadata": {},
   "outputs": [],
   "source": []
  },
  {
   "cell_type": "code",
   "execution_count": null,
   "id": "0656fd93-40f2-43a3-9949-a8694fdfefba",
   "metadata": {},
   "outputs": [],
   "source": []
  },
  {
   "cell_type": "markdown",
   "id": "eb89852b-b155-4f0a-aaef-2a035caccda7",
   "metadata": {
    "tags": []
   },
   "source": [
    "#### **<span style=\"color:blue\">(선택 수행)[4-3] 모델링: Self Choice Model</span>**"
   ]
  },
  {
   "cell_type": "markdown",
   "id": "305bbd5b",
   "metadata": {},
   "source": [
    "* Self Choice Model: 앞선 교육과정에서 배운 머신러닝 모델 중 어떤 것이든 좋습니다. 원하는 모델을 선택해서 학습을 시켜보세요.\n",
    "* Train과 Test로 나눈 데이터를 기준으로 Self Choice Model로 모델을 학습을 진행하고 평가를 해주세요.\n",
    "* 그리고 모델 파일을 pkl로 저장해주세요.\n",
    "* 성능지표 : RMSE, R-squared Score(소수점 5째자리까지)"
   ]
  },
  {
   "cell_type": "code",
   "execution_count": 35,
   "id": "a2c66605",
   "metadata": {},
   "outputs": [],
   "source": [
    "# 아래에 필요한 코드를 작성하고 결과를 확인합니다.\n",
    "from lightgbm import LGBMRegressor\n",
    "\n",
    "model_lgbm = LGBMRegressor()"
   ]
  },
  {
   "cell_type": "code",
   "execution_count": 36,
   "id": "546ac8bf",
   "metadata": {
    "tags": []
   },
   "outputs": [],
   "source": [
    "from sklearn.model_selection import cross_val_score"
   ]
  },
  {
   "cell_type": "code",
   "execution_count": 37,
   "id": "0cae611f-fc9e-4f7e-a910-26373be68350",
   "metadata": {
    "collapsed": true,
    "jupyter": {
     "outputs_hidden": true
    },
    "tags": []
   },
   "outputs": [
    {
     "name": "stdout",
     "output_type": "stream",
     "text": [
      "[LightGBM] [Warning] Auto-choosing row-wise multi-threading, the overhead of testing was 0.000109 seconds.\n",
      "You can set `force_row_wise=true` to remove the overhead.\n",
      "And if memory is not enough, you can set `force_col_wise=true`.\n",
      "[LightGBM] [Info] Total Bins 2483\n",
      "[LightGBM] [Info] Number of data points in the train set: 7883, number of used features: 20\n",
      "[LightGBM] [Info] Start training from score 39.953931\n",
      "[LightGBM] [Warning] Auto-choosing col-wise multi-threading, the overhead of testing was 0.000308 seconds.\n",
      "You can set `force_col_wise=true` to remove the overhead.\n",
      "[LightGBM] [Info] Total Bins 2455\n",
      "[LightGBM] [Info] Number of data points in the train set: 7883, number of used features: 20\n",
      "[LightGBM] [Info] Start training from score 38.615706\n",
      "[LightGBM] [Warning] Auto-choosing col-wise multi-threading, the overhead of testing was 0.000308 seconds.\n",
      "You can set `force_col_wise=true` to remove the overhead.\n",
      "[LightGBM] [Info] Total Bins 2474\n",
      "[LightGBM] [Info] Number of data points in the train set: 7883, number of used features: 20\n",
      "[LightGBM] [Info] Start training from score 38.390557\n",
      "[LightGBM] [Warning] Auto-choosing col-wise multi-threading, the overhead of testing was 0.000275 seconds.\n",
      "You can set `force_col_wise=true` to remove the overhead.\n",
      "[LightGBM] [Info] Total Bins 2474\n",
      "[LightGBM] [Info] Number of data points in the train set: 7883, number of used features: 20\n",
      "[LightGBM] [Info] Start training from score 38.037617\n",
      "[LightGBM] [Warning] Auto-choosing col-wise multi-threading, the overhead of testing was 0.000336 seconds.\n",
      "You can set `force_col_wise=true` to remove the overhead.\n",
      "[LightGBM] [Info] Total Bins 2433\n",
      "[LightGBM] [Info] Number of data points in the train set: 7883, number of used features: 20\n",
      "[LightGBM] [Info] Start training from score 36.108440\n",
      "[LightGBM] [Warning] Auto-choosing row-wise multi-threading, the overhead of testing was 0.000089 seconds.\n",
      "You can set `force_row_wise=true` to remove the overhead.\n",
      "And if memory is not enough, you can set `force_col_wise=true`.\n",
      "[LightGBM] [Info] Total Bins 2456\n",
      "[LightGBM] [Info] Number of data points in the train set: 7883, number of used features: 20\n",
      "[LightGBM] [Info] Start training from score 37.640579\n",
      "[LightGBM] [Warning] Auto-choosing row-wise multi-threading, the overhead of testing was 0.000081 seconds.\n",
      "You can set `force_row_wise=true` to remove the overhead.\n",
      "And if memory is not enough, you can set `force_col_wise=true`.\n",
      "[LightGBM] [Info] Total Bins 2455\n",
      "[LightGBM] [Info] Number of data points in the train set: 7883, number of used features: 20\n",
      "[LightGBM] [Info] Start training from score 37.585407\n",
      "[LightGBM] [Warning] Auto-choosing col-wise multi-threading, the overhead of testing was 0.000262 seconds.\n",
      "You can set `force_col_wise=true` to remove the overhead.\n",
      "[LightGBM] [Info] Total Bins 2479\n",
      "[LightGBM] [Info] Number of data points in the train set: 7883, number of used features: 20\n",
      "[LightGBM] [Info] Start training from score 40.576635\n",
      "[LightGBM] [Warning] Auto-choosing row-wise multi-threading, the overhead of testing was 0.000067 seconds.\n",
      "You can set `force_row_wise=true` to remove the overhead.\n",
      "And if memory is not enough, you can set `force_col_wise=true`.\n",
      "[LightGBM] [Info] Total Bins 2484\n",
      "[LightGBM] [Info] Number of data points in the train set: 7883, number of used features: 20\n",
      "[LightGBM] [Info] Start training from score 41.050820\n",
      "[LightGBM] [Warning] Auto-choosing row-wise multi-threading, the overhead of testing was 0.000085 seconds.\n",
      "You can set `force_row_wise=true` to remove the overhead.\n",
      "And if memory is not enough, you can set `force_col_wise=true`.\n",
      "[LightGBM] [Info] Total Bins 2477\n",
      "[LightGBM] [Info] Number of data points in the train set: 7884, number of used features: 20\n",
      "[LightGBM] [Info] Start training from score 41.317507\n"
     ]
    }
   ],
   "source": [
    "# Test 데이터로 성능을 평가해보세요.\n",
    "result={\n",
    "    'lgbm': cross_val_score(model_lgbm, train_x,train_y, cv=10).mean(),\n",
    "    'gbr': cross_val_score(model_gbr, train_x,train_y, cv=10).mean(),\n",
    "    'rfr': cross_val_score(model_rfr, train_x,train_y, cv=10).mean(),\n",
    "    'lr': cross_val_score(model_lr, train_x,train_y, cv=10).mean(),\n",
    "}"
   ]
  },
  {
   "cell_type": "code",
   "execution_count": 49,
   "id": "85be96f1-de57-49ec-b5fb-ef89b5f003df",
   "metadata": {
    "tags": []
   },
   "outputs": [
    {
     "data": {
      "text/plain": [
       "{'lgbm': 0.9036728929060376,\n",
       " 'gbr': 0.9107028843271096,\n",
       " 'rfr': 0.894945854504785,\n",
       " 'lr': 0.9174805492457156}"
      ]
     },
     "execution_count": 49,
     "metadata": {},
     "output_type": "execute_result"
    }
   ],
   "source": [
    "result"
   ]
  },
  {
   "cell_type": "code",
   "execution_count": 50,
   "id": "ac665e32-0ea2-4141-9662-e642877241bd",
   "metadata": {
    "tags": []
   },
   "outputs": [
    {
     "data": {
      "text/plain": [
       "0.9174805492457156"
      ]
     },
     "execution_count": 50,
     "metadata": {},
     "output_type": "execute_result"
    }
   ],
   "source": [
    "cross_val_score(model_lr, train_x,train_y, cv=10).mean()"
   ]
  },
  {
   "cell_type": "code",
   "execution_count": 52,
   "id": "643f6075-35e7-407d-9e28-2b23f0e899d9",
   "metadata": {
    "tags": []
   },
   "outputs": [
    {
     "data": {
      "image/png": "[encoded data removed]",
      "text/plain": [
       "<Figure size 640x480 with 1 Axes>"
      ]
     },
     "metadata": {},
     "output_type": "display_data"
    }
   ],
   "source": [
    "plt.barh(list(result), result.values())\n",
    "plt.xlim(0.8)\n",
    "plt.show()"
   ]
  },
  {
   "cell_type": "code",
   "execution_count": 40,
   "id": "f83b16b7",
   "metadata": {},
   "outputs": [],
   "source": [
    "# (다음 진행은 선택입니다)\n",
    "# 그라디언트부스팅으로 학습한 모델의 feature_importances를 구해보세요.\n",
    "# 확인할 수 있는 내용으로 우리 모델에서의 인사이트를 정리해보세요.\n",
    "# Feature의 중요도 확인\n",
    "\n"
   ]
  },
  {
   "cell_type": "code",
   "execution_count": 41,
   "id": "67e6d924",
   "metadata": {},
   "outputs": [],
   "source": [
    "# Feature의 중요도 확인\n",
    "\n",
    "\n",
    "\n"
   ]
  },
  {
   "cell_type": "code",
   "execution_count": 42,
   "id": "a8ac782c",
   "metadata": {},
   "outputs": [],
   "source": [
    "# 확인할 수 있는 인사이트\n",
    "# 1.\n",
    "# 2.\n",
    "# 3."
   ]
  },
  {
   "cell_type": "code",
   "execution_count": 43,
   "id": "e9b570bd-1de5-4a53-99b3-11651b33167f",
   "metadata": {
    "tags": []
   },
   "outputs": [
    {
     "data": {
      "text/html": [
       "<div>\n",
       "<style scoped>\n",
       "    .dataframe tbody tr th:only-of-type {\n",
       "        vertical-align: middle;\n",
       "    }\n",
       "\n",
       "    .dataframe tbody tr th {\n",
       "        vertical-align: top;\n",
       "    }\n",
       "\n",
       "    .dataframe thead th {\n",
       "        text-align: right;\n",
       "    }\n",
       "</style>\n",
       "<table border=\"1\" class=\"dataframe\">\n",
       "  <thead>\n",
       "    <tr style=\"text-align: right;\">\n",
       "      <th></th>\n",
       "      <th>SO2</th>\n",
       "      <th>CO</th>\n",
       "      <th>O3</th>\n",
       "      <th>NO2</th>\n",
       "      <th>기온(°C)</th>\n",
       "      <th>강수량(mm)</th>\n",
       "      <th>풍속(m/s)</th>\n",
       "      <th>풍향(16방위)</th>\n",
       "      <th>습도(%)</th>\n",
       "      <th>증기압(hPa)</th>\n",
       "      <th>현지기압(hPa)</th>\n",
       "      <th>해면기압(hPa)</th>\n",
       "      <th>지면온도(°C)</th>\n",
       "      <th>month</th>\n",
       "      <th>day</th>\n",
       "      <th>hour</th>\n",
       "      <th>PM10_lag1</th>\n",
       "    </tr>\n",
       "  </thead>\n",
       "  <tbody>\n",
       "    <tr>\n",
       "      <th>0</th>\n",
       "      <td>0.003</td>\n",
       "      <td>0.6</td>\n",
       "      <td>0.002</td>\n",
       "      <td>0.039</td>\n",
       "      <td>18.7</td>\n",
       "      <td>0.0</td>\n",
       "      <td>1.0</td>\n",
       "      <td>20.0</td>\n",
       "      <td>85.0</td>\n",
       "      <td>18.3</td>\n",
       "      <td>998.8</td>\n",
       "      <td>1008.7</td>\n",
       "      <td>17.4</td>\n",
       "      <td>10</td>\n",
       "      <td>1</td>\n",
       "      <td>1</td>\n",
       "      <td>10.0</td>\n",
       "    </tr>\n",
       "    <tr>\n",
       "      <th>1</th>\n",
       "      <td>0.003</td>\n",
       "      <td>0.6</td>\n",
       "      <td>0.002</td>\n",
       "      <td>0.035</td>\n",
       "      <td>18.3</td>\n",
       "      <td>0.0</td>\n",
       "      <td>0.3</td>\n",
       "      <td>0.0</td>\n",
       "      <td>89.0</td>\n",
       "      <td>18.6</td>\n",
       "      <td>998.9</td>\n",
       "      <td>1008.8</td>\n",
       "      <td>17.2</td>\n",
       "      <td>10</td>\n",
       "      <td>1</td>\n",
       "      <td>2</td>\n",
       "      <td>9.0</td>\n",
       "    </tr>\n",
       "    <tr>\n",
       "      <th>2</th>\n",
       "      <td>0.003</td>\n",
       "      <td>0.6</td>\n",
       "      <td>0.002</td>\n",
       "      <td>0.033</td>\n",
       "      <td>17.7</td>\n",
       "      <td>0.0</td>\n",
       "      <td>2.0</td>\n",
       "      <td>20.0</td>\n",
       "      <td>92.0</td>\n",
       "      <td>18.5</td>\n",
       "      <td>998.1</td>\n",
       "      <td>1008.1</td>\n",
       "      <td>17.0</td>\n",
       "      <td>10</td>\n",
       "      <td>1</td>\n",
       "      <td>3</td>\n",
       "      <td>9.0</td>\n",
       "    </tr>\n",
       "    <tr>\n",
       "      <th>3</th>\n",
       "      <td>0.003</td>\n",
       "      <td>0.6</td>\n",
       "      <td>0.002</td>\n",
       "      <td>0.030</td>\n",
       "      <td>17.4</td>\n",
       "      <td>0.0</td>\n",
       "      <td>1.0</td>\n",
       "      <td>50.0</td>\n",
       "      <td>91.0</td>\n",
       "      <td>18.1</td>\n",
       "      <td>997.9</td>\n",
       "      <td>1007.9</td>\n",
       "      <td>16.5</td>\n",
       "      <td>10</td>\n",
       "      <td>1</td>\n",
       "      <td>4</td>\n",
       "      <td>10.0</td>\n",
       "    </tr>\n",
       "    <tr>\n",
       "      <th>4</th>\n",
       "      <td>0.003</td>\n",
       "      <td>0.5</td>\n",
       "      <td>0.003</td>\n",
       "      <td>0.026</td>\n",
       "      <td>17.2</td>\n",
       "      <td>0.0</td>\n",
       "      <td>1.3</td>\n",
       "      <td>270.0</td>\n",
       "      <td>94.0</td>\n",
       "      <td>18.4</td>\n",
       "      <td>998.4</td>\n",
       "      <td>1008.4</td>\n",
       "      <td>16.6</td>\n",
       "      <td>10</td>\n",
       "      <td>1</td>\n",
       "      <td>5</td>\n",
       "      <td>11.0</td>\n",
       "    </tr>\n",
       "  </tbody>\n",
       "</table>\n",
       "</div>"
      ],
      "text/plain": [
       "     SO2   CO     O3    NO2  기온(°C)  강수량(mm)  풍속(m/s)  풍향(16방위)  습도(%)  \\\n",
       "0  0.003  0.6  0.002  0.039    18.7      0.0      1.0      20.0   85.0   \n",
       "1  0.003  0.6  0.002  0.035    18.3      0.0      0.3       0.0   89.0   \n",
       "2  0.003  0.6  0.002  0.033    17.7      0.0      2.0      20.0   92.0   \n",
       "3  0.003  0.6  0.002  0.030    17.4      0.0      1.0      50.0   91.0   \n",
       "4  0.003  0.5  0.003  0.026    17.2      0.0      1.3     270.0   94.0   \n",
       "\n",
       "   증기압(hPa)  현지기압(hPa)  해면기압(hPa)  지면온도(°C)  month  day  hour  PM10_lag1  \n",
       "0      18.3      998.8     1008.7      17.4     10    1     1       10.0  \n",
       "1      18.6      998.9     1008.8      17.2     10    1     2        9.0  \n",
       "2      18.5      998.1     1008.1      17.0     10    1     3        9.0  \n",
       "3      18.1      997.9     1007.9      16.5     10    1     4       10.0  \n",
       "4      18.4      998.4     1008.4      16.6     10    1     5       11.0  "
      ]
     },
     "execution_count": 43,
     "metadata": {},
     "output_type": "execute_result"
    }
   ],
   "source": [
    "train_x_except_pm.head()"
   ]
  },
  {
   "cell_type": "code",
   "execution_count": 44,
   "id": "1f516df6-ea22-4d2a-972e-34d4ceb81357",
   "metadata": {
    "tags": []
   },
   "outputs": [],
   "source": [
    "import numpy as np"
   ]
  },
  {
   "cell_type": "code",
   "execution_count": 45,
   "id": "9279914d-676a-4c24-83ed-084992eb7593",
   "metadata": {
    "collapsed": true,
    "jupyter": {
     "outputs_hidden": true
    },
    "tags": []
   },
   "outputs": [
    {
     "name": "stdout",
     "output_type": "stream",
     "text": [
      "[LightGBM] [Warning] Auto-choosing col-wise multi-threading, the overhead of testing was 0.000316 seconds.\n",
      "You can set `force_col_wise=true` to remove the overhead.\n",
      "[LightGBM] [Info] Total Bins 1945\n",
      "[LightGBM] [Info] Number of data points in the train set: 7883, number of used features: 17\n",
      "[LightGBM] [Info] Start training from score 39.953931\n",
      "[LightGBM] [Warning] Auto-choosing col-wise multi-threading, the overhead of testing was 0.000272 seconds.\n",
      "You can set `force_col_wise=true` to remove the overhead.\n",
      "[LightGBM] [Info] Total Bins 1939\n",
      "[LightGBM] [Info] Number of data points in the train set: 7883, number of used features: 17\n",
      "[LightGBM] [Info] Start training from score 38.615706\n",
      "[LightGBM] [Warning] Auto-choosing col-wise multi-threading, the overhead of testing was 0.000274 seconds.\n",
      "You can set `force_col_wise=true` to remove the overhead.\n",
      "[LightGBM] [Info] Total Bins 1943\n",
      "[LightGBM] [Info] Number of data points in the train set: 7883, number of used features: 17\n",
      "[LightGBM] [Info] Start training from score 38.390557\n",
      "[LightGBM] [Warning] Auto-choosing col-wise multi-threading, the overhead of testing was 0.000250 seconds.\n",
      "You can set `force_col_wise=true` to remove the overhead.\n",
      "[LightGBM] [Info] Total Bins 1943\n",
      "[LightGBM] [Info] Number of data points in the train set: 7883, number of used features: 17\n",
      "[LightGBM] [Info] Start training from score 38.037617\n",
      "[LightGBM] [Warning] Auto-choosing col-wise multi-threading, the overhead of testing was 0.000208 seconds.\n",
      "You can set `force_col_wise=true` to remove the overhead.\n",
      "[LightGBM] [Info] Total Bins 1923\n",
      "[LightGBM] [Info] Number of data points in the train set: 7883, number of used features: 17\n",
      "[LightGBM] [Info] Start training from score 36.108440\n",
      "[LightGBM] [Warning] Auto-choosing col-wise multi-threading, the overhead of testing was 0.000239 seconds.\n",
      "You can set `force_col_wise=true` to remove the overhead.\n",
      "[LightGBM] [Info] Total Bins 1927\n",
      "[LightGBM] [Info] Number of data points in the train set: 7883, number of used features: 17\n",
      "[LightGBM] [Info] Start training from score 37.640579\n",
      "[LightGBM] [Warning] Auto-choosing col-wise multi-threading, the overhead of testing was 0.000279 seconds.\n",
      "You can set `force_col_wise=true` to remove the overhead.\n",
      "[LightGBM] [Info] Total Bins 1930\n",
      "[LightGBM] [Info] Number of data points in the train set: 7883, number of used features: 17\n",
      "[LightGBM] [Info] Start training from score 37.585407\n",
      "[LightGBM] [Warning] Auto-choosing col-wise multi-threading, the overhead of testing was 0.000229 seconds.\n",
      "You can set `force_col_wise=true` to remove the overhead.\n",
      "[LightGBM] [Info] Total Bins 1942\n",
      "[LightGBM] [Info] Number of data points in the train set: 7883, number of used features: 17\n",
      "[LightGBM] [Info] Start training from score 40.576635\n",
      "[LightGBM] [Warning] Auto-choosing col-wise multi-threading, the overhead of testing was 0.000233 seconds.\n",
      "You can set `force_col_wise=true` to remove the overhead.\n",
      "[LightGBM] [Info] Total Bins 1945\n",
      "[LightGBM] [Info] Number of data points in the train set: 7883, number of used features: 17\n",
      "[LightGBM] [Info] Start training from score 41.050820\n",
      "[LightGBM] [Warning] Auto-choosing col-wise multi-threading, the overhead of testing was 0.000275 seconds.\n",
      "You can set `force_col_wise=true` to remove the overhead.\n",
      "[LightGBM] [Info] Total Bins 1940\n",
      "[LightGBM] [Info] Number of data points in the train set: 7884, number of used features: 17\n",
      "[LightGBM] [Info] Start training from score 41.317507\n"
     ]
    }
   ],
   "source": [
    "result_except_pm={\n",
    "    'lgbm': np.sqrt(cross_val_score(model_lgbm, train_x_except_pm,train_y, cv=10, scoring='neg_mean_squared_error')*-1).mean(),\n",
    "    'gbr': np.sqrt(cross_val_score(model_gbr, train_x_except_pm,train_y, cv=10, scoring='neg_mean_squared_error')*-1).mean(),\n",
    "    'rfr': np.sqrt(cross_val_score(model_rfr, train_x_except_pm,train_y, cv=10, scoring='neg_mean_squared_error')*-1).mean(),\n",
    "    'lr': np.sqrt(cross_val_score(model_lr, train_x_except_pm,train_y, cv=10, scoring='neg_mean_squared_error')*-1).mean(),\n",
    "}"
   ]
  },
  {
   "cell_type": "code",
   "execution_count": 46,
   "id": "01e2baf2-9fec-4a8e-9ad2-dd4b214486f9",
   "metadata": {
    "tags": []
   },
   "outputs": [
    {
     "data": {
      "text/plain": [
       "{'lgbm': 37.70150382148775,\n",
       " 'gbr': 39.023524999808416,\n",
       " 'rfr': 36.8712605983596,\n",
       " 'lr': 34.48376803290414}"
      ]
     },
     "execution_count": 46,
     "metadata": {},
     "output_type": "execute_result"
    }
   ],
   "source": [
    "result_except_pm"
   ]
  },
  {
   "cell_type": "code",
   "execution_count": 47,
   "id": "4e08d41a-f709-45ef-9270-3136fd138c31",
   "metadata": {
    "tags": []
   },
   "outputs": [
    {
     "data": {
      "image/png": "[encoded data removed]",
      "text/plain": [
       "<Figure size 640x480 with 1 Axes>"
      ]
     },
     "metadata": {},
     "output_type": "display_data"
    }
   ],
   "source": [
    "plt.barh(y=list(result_except_pm), width=result_except_pm.values())\n",
    "plt.xlim(0.8)\n",
    "plt.show()"
   ]
  },
  {
   "cell_type": "code",
   "execution_count": null,
   "id": "7b1adda6-8683-43b4-8fe4-0a44c08cd912",
   "metadata": {},
   "outputs": [],
   "source": []
  },
  {
   "cell_type": "code",
   "execution_count": null,
   "id": "e2c93088-0826-4276-9487-3759db5f4476",
   "metadata": {},
   "outputs": [],
   "source": []
  },
  {
   "cell_type": "markdown",
   "id": "c07895fa-d831-4d9c-9bcf-9ec2d7eda2ec",
   "metadata": {
    "tags": []
   },
   "source": [
    "#### **<span style=\"color:blue\">(선택 수행)[4-4] 머신러닝 모델에 대해 성능 최적화 진행</span>**"
   ]
  },
  {
   "cell_type": "markdown",
   "id": "aacb4f2a-d979-4365-85e6-28d64953e741",
   "metadata": {},
   "source": [
    "* 위 머신러닝 모델들에 대해 성능 최적화를 진행해보세요."
   ]
  },
  {
   "cell_type": "code",
   "execution_count": 48,
   "id": "50346246-e00c-44d3-be09-252981be1272",
   "metadata": {
    "tags": []
   },
   "outputs": [],
   "source": [
    "# 아래에 필요한 코드를 작성하고 결과를 확인합니다.\n",
    "\n"
   ]
  }
 ],
 "metadata": {
  "kernelspec": {
   "display_name": "Python 3 (ipykernel)",
   "language": "python",
   "name": "python3"
  },
  "language_info": {
   "codemirror_mode": {
    "name": "ipython",
    "version": 3
   },
   "file_extension": ".py",
   "mimetype": "text/x-python",
   "name": "python",
   "nbconvert_exporter": "python",
   "pygments_lexer": "ipython3",
   "version": "3.11.4"
  },
  "vscode": {
   "interpreter": {
    "hash": "f08154012ddadd8e950e6e9e035c7a7b32c136e7647e9b7c77e02eb723a8bedb"
   }
  }
 },
 "nbformat": 4,
 "nbformat_minor": 5
}
